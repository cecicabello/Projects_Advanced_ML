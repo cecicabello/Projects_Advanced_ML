{
 "cells": [
  {
   "cell_type": "markdown",
   "metadata": {
    "colab_type": "text",
    "id": "gQcs5w3U0NqR"
   },
   "source": [
    "### **Projects in Advanced Machine Learning**\n",
    "#### **GR5074**\n",
    "#### **Homework 1**\n",
    "#### **Cecilia Cabello Esquer**"
   ]
  },
  {
   "cell_type": "markdown",
   "metadata": {
    "colab_type": "text",
    "id": "JoL9hjjEYLq2"
   },
   "source": [
    "# Instructions"
   ]
  },
  {
   "cell_type": "markdown",
   "metadata": {
    "colab_type": "text",
    "id": "dYjULzAaVRjQ"
   },
   "source": [
    "Dataset:\n",
    "\n",
    "Features\n",
    "* Country or region\n",
    "* GDP per capita\n",
    "* Social support\n",
    "* Healthy life expectancy\n",
    "* Freedom to make life choices\n",
    "* Generosity\n",
    "* Perceptions of corruption\n",
    "\n",
    "Target\n",
    "* Happiness_level (Very High = Top 20% and Very Low = Bottom 20%)\n"
   ]
  },
  {
   "cell_type": "markdown",
   "metadata": {
    "colab_type": "text",
    "id": "1HBVRc6cYeqk"
   },
   "source": [
    "## Install"
   ]
  },
  {
   "cell_type": "code",
   "execution_count": 0,
   "metadata": {
    "colab": {
     "base_uri": "https://localhost:8080/",
     "height": 108
    },
    "colab_type": "code",
    "id": "f28Okm3AX5GI",
    "outputId": "90bc11e5-eb62-477f-a476-76aac2b18919"
   },
   "outputs": [
    {
     "name": "stdout",
     "output_type": "stream",
     "text": [
      "Requirement already up-to-date: scikit-learn in /usr/local/lib/python3.6/dist-packages (0.22.1)\n",
      "Requirement already satisfied, skipping upgrade: scipy>=0.17.0 in /usr/local/lib/python3.6/dist-packages (from scikit-learn) (1.4.1)\n",
      "Requirement already satisfied, skipping upgrade: numpy>=1.11.0 in /usr/local/lib/python3.6/dist-packages (from scikit-learn) (1.17.5)\n",
      "Requirement already satisfied, skipping upgrade: joblib>=0.11 in /usr/local/lib/python3.6/dist-packages (from scikit-learn) (0.14.1)\n"
     ]
    }
   ],
   "source": [
    "! pip install scikit-learn --upgrade"
   ]
  },
  {
   "cell_type": "markdown",
   "metadata": {
    "colab_type": "text",
    "id": "Qyz4OTOQYTD9"
   },
   "source": [
    "## Import"
   ]
  },
  {
   "cell_type": "code",
   "execution_count": 0,
   "metadata": {
    "colab": {
     "base_uri": "https://localhost:8080/",
     "height": 99
    },
    "colab_type": "code",
    "id": "vvlZN1RnYUmY",
    "outputId": "f5095d29-278e-4ac8-c0f8-0ff17a938657"
   },
   "outputs": [
    {
     "name": "stderr",
     "output_type": "stream",
     "text": [
      "Using TensorFlow backend.\n"
     ]
    },
    {
     "data": {
      "text/html": [
       "<p style=\"color: red;\">\n",
       "The default version of TensorFlow in Colab will soon switch to TensorFlow 2.x.<br>\n",
       "We recommend you <a href=\"https://www.tensorflow.org/guide/migrate\" target=\"_blank\">upgrade</a> now \n",
       "or ensure your notebook will continue to use TensorFlow 1.x via the <code>%tensorflow_version 1.x</code> magic:\n",
       "<a href=\"https://colab.research.google.com/notebooks/tensorflow_version.ipynb\" target=\"_blank\">more info</a>.</p>\n"
      ],
      "text/plain": [
       "<IPython.core.display.HTML object>"
      ]
     },
     "metadata": {
      "tags": []
     },
     "output_type": "display_data"
    }
   ],
   "source": [
    "import matplotlib.pyplot as plt\n",
    "import numpy as np\n",
    "import pandas as pd\n",
    "import seaborn as sns\n",
    "\n",
    "import pickle\n",
    "\n",
    "import sklearn\n",
    "\n",
    "import keras\n",
    "\n",
    "#import aimodelshare as ai"
   ]
  },
  {
   "cell_type": "code",
   "execution_count": 0,
   "metadata": {
    "colab": {},
    "colab_type": "code",
    "id": "KIu5pwzBaYfo"
   },
   "outputs": [],
   "source": [
    "# Test-train\n",
    "from sklearn.model_selection import train_test_split\n",
    "\n",
    "# Preprocess\n",
    "from sklearn.preprocessing import MinMaxScaler, OneHotEncoder\n",
    "from sklearn.compose import ColumnTransformer, make_column_transformer\n",
    "from sklearn.pipeline import Pipeline\n",
    "from sklearn.impute import SimpleImputer\n",
    "from sklearn.preprocessing import StandardScaler, OneHotEncoder\n",
    "\n",
    "# Models\n",
    "from sklearn.linear_model import Lasso\n",
    "from sklearn.ensemble import RandomForestClassifier\n",
    "from sklearn.feature_selection import SelectFromModel\n",
    "\n",
    "from keras.models import Sequential\n",
    "from keras.layers import Dense, Activation, Dropout\n",
    "from keras.optimizers import SGD\n",
    "\n",
    "from sklearn import metrics\n",
    "from sklearn.metrics import accuracy_score\n",
    "from sklearn.metrics import f1_score\n",
    "from sklearn.metrics import precision_score\n",
    "from sklearn.metrics import recall_score\n",
    "from sklearn.metrics import roc_auc_score\n",
    "from sklearn.metrics import mean_squared_error\n",
    "from sklearn.metrics import r2_score\n",
    "from sklearn.metrics import mean_absolute_error\n",
    "from math import sqrt\n",
    "\n",
    "from sklearn.svm import SVC\n",
    "from sklearn.model_selection import cross_val_score, cross_val_predict\n",
    "\n",
    "from sklearn.model_selection import KFold\n",
    "from sklearn.model_selection import GridSearchCV"
   ]
  },
  {
   "cell_type": "markdown",
   "metadata": {
    "colab_type": "text",
    "id": "JM5j5QK7X5ZP"
   },
   "source": [
    "Import the data"
   ]
  },
  {
   "cell_type": "code",
   "execution_count": 0,
   "metadata": {
    "colab": {
     "base_uri": "https://localhost:8080/",
     "height": 278
    },
    "colab_type": "code",
    "id": "7XxGlatCXytf",
    "outputId": "65d6d81b-18f3-4741-d070-da570068a420"
   },
   "outputs": [
    {
     "data": {
      "text/html": [
       "<div>\n",
       "<style scoped>\n",
       "    .dataframe tbody tr th:only-of-type {\n",
       "        vertical-align: middle;\n",
       "    }\n",
       "\n",
       "    .dataframe tbody tr th {\n",
       "        vertical-align: top;\n",
       "    }\n",
       "\n",
       "    .dataframe thead th {\n",
       "        text-align: right;\n",
       "    }\n",
       "</style>\n",
       "<table border=\"1\" class=\"dataframe\">\n",
       "  <thead>\n",
       "    <tr style=\"text-align: right;\">\n",
       "      <th></th>\n",
       "      <th>Happiness_level</th>\n",
       "      <th>Country or region</th>\n",
       "      <th>GDP per capita</th>\n",
       "      <th>Social support</th>\n",
       "      <th>Healthy life expectancy</th>\n",
       "      <th>Freedom to make life choices</th>\n",
       "      <th>Generosity</th>\n",
       "      <th>Perceptions of corruption</th>\n",
       "    </tr>\n",
       "  </thead>\n",
       "  <tbody>\n",
       "    <tr>\n",
       "      <th>0</th>\n",
       "      <td>Very High</td>\n",
       "      <td>Finland</td>\n",
       "      <td>1.340</td>\n",
       "      <td>1.587</td>\n",
       "      <td>0.986</td>\n",
       "      <td>0.596</td>\n",
       "      <td>0.153</td>\n",
       "      <td>0.393</td>\n",
       "    </tr>\n",
       "    <tr>\n",
       "      <th>1</th>\n",
       "      <td>Very High</td>\n",
       "      <td>Denmark</td>\n",
       "      <td>1.383</td>\n",
       "      <td>1.573</td>\n",
       "      <td>0.996</td>\n",
       "      <td>0.592</td>\n",
       "      <td>0.252</td>\n",
       "      <td>0.410</td>\n",
       "    </tr>\n",
       "    <tr>\n",
       "      <th>2</th>\n",
       "      <td>Very High</td>\n",
       "      <td>Norway</td>\n",
       "      <td>1.488</td>\n",
       "      <td>1.582</td>\n",
       "      <td>1.028</td>\n",
       "      <td>0.603</td>\n",
       "      <td>0.271</td>\n",
       "      <td>0.341</td>\n",
       "    </tr>\n",
       "    <tr>\n",
       "      <th>3</th>\n",
       "      <td>Very High</td>\n",
       "      <td>Iceland</td>\n",
       "      <td>1.380</td>\n",
       "      <td>1.624</td>\n",
       "      <td>1.026</td>\n",
       "      <td>0.591</td>\n",
       "      <td>0.354</td>\n",
       "      <td>0.118</td>\n",
       "    </tr>\n",
       "    <tr>\n",
       "      <th>4</th>\n",
       "      <td>Very High</td>\n",
       "      <td>Netherlands</td>\n",
       "      <td>1.396</td>\n",
       "      <td>1.522</td>\n",
       "      <td>0.999</td>\n",
       "      <td>0.557</td>\n",
       "      <td>0.322</td>\n",
       "      <td>0.298</td>\n",
       "    </tr>\n",
       "  </tbody>\n",
       "</table>\n",
       "</div>"
      ],
      "text/plain": [
       "  Happiness_level Country or region  ...  Generosity  Perceptions of corruption\n",
       "0       Very High           Finland  ...       0.153                      0.393\n",
       "1       Very High           Denmark  ...       0.252                      0.410\n",
       "2       Very High            Norway  ...       0.271                      0.341\n",
       "3       Very High           Iceland  ...       0.354                      0.118\n",
       "4       Very High       Netherlands  ...       0.322                      0.298\n",
       "\n",
       "[5 rows x 8 columns]"
      ]
     },
     "execution_count": 4,
     "metadata": {
      "tags": []
     },
     "output_type": "execute_result"
    }
   ],
   "source": [
    "data=pd.read_csv(\"worldhappiness2019.csv\")\n",
    "\n",
    "data.head()"
   ]
  },
  {
   "cell_type": "markdown",
   "metadata": {
    "colab_type": "text",
    "id": "9Lv8eRi0eJPv"
   },
   "source": [
    "##### Add region"
   ]
  },
  {
   "cell_type": "code",
   "execution_count": 0,
   "metadata": {
    "colab": {
     "base_uri": "https://localhost:8080/",
     "height": 347
    },
    "colab_type": "code",
    "id": "GLGxhlHqeSBI",
    "outputId": "40482590-d0d2-4a79-912b-644b7d50365c"
   },
   "outputs": [
    {
     "data": {
      "text/html": [
       "<div>\n",
       "<style scoped>\n",
       "    .dataframe tbody tr th:only-of-type {\n",
       "        vertical-align: middle;\n",
       "    }\n",
       "\n",
       "    .dataframe tbody tr th {\n",
       "        vertical-align: top;\n",
       "    }\n",
       "\n",
       "    .dataframe thead th {\n",
       "        text-align: right;\n",
       "    }\n",
       "</style>\n",
       "<table border=\"1\" class=\"dataframe\">\n",
       "  <thead>\n",
       "    <tr style=\"text-align: right;\">\n",
       "      <th></th>\n",
       "      <th>name</th>\n",
       "      <th>alpha-2</th>\n",
       "      <th>alpha-3</th>\n",
       "      <th>country-code</th>\n",
       "      <th>iso_3166-2</th>\n",
       "      <th>region</th>\n",
       "      <th>sub-region</th>\n",
       "      <th>intermediate-region</th>\n",
       "      <th>region-code</th>\n",
       "      <th>sub-region-code</th>\n",
       "      <th>intermediate-region-code</th>\n",
       "    </tr>\n",
       "  </thead>\n",
       "  <tbody>\n",
       "    <tr>\n",
       "      <th>0</th>\n",
       "      <td>Afghanistan</td>\n",
       "      <td>AF</td>\n",
       "      <td>AFG</td>\n",
       "      <td>4</td>\n",
       "      <td>ISO 3166-2:AF</td>\n",
       "      <td>Asia</td>\n",
       "      <td>Southern Asia</td>\n",
       "      <td>NaN</td>\n",
       "      <td>142.0</td>\n",
       "      <td>34.0</td>\n",
       "      <td>NaN</td>\n",
       "    </tr>\n",
       "    <tr>\n",
       "      <th>1</th>\n",
       "      <td>Åland Islands</td>\n",
       "      <td>AX</td>\n",
       "      <td>ALA</td>\n",
       "      <td>248</td>\n",
       "      <td>ISO 3166-2:AX</td>\n",
       "      <td>Europe</td>\n",
       "      <td>Northern Europe</td>\n",
       "      <td>NaN</td>\n",
       "      <td>150.0</td>\n",
       "      <td>154.0</td>\n",
       "      <td>NaN</td>\n",
       "    </tr>\n",
       "    <tr>\n",
       "      <th>2</th>\n",
       "      <td>Albania</td>\n",
       "      <td>AL</td>\n",
       "      <td>ALB</td>\n",
       "      <td>8</td>\n",
       "      <td>ISO 3166-2:AL</td>\n",
       "      <td>Europe</td>\n",
       "      <td>Southern Europe</td>\n",
       "      <td>NaN</td>\n",
       "      <td>150.0</td>\n",
       "      <td>39.0</td>\n",
       "      <td>NaN</td>\n",
       "    </tr>\n",
       "    <tr>\n",
       "      <th>3</th>\n",
       "      <td>Algeria</td>\n",
       "      <td>DZ</td>\n",
       "      <td>DZA</td>\n",
       "      <td>12</td>\n",
       "      <td>ISO 3166-2:DZ</td>\n",
       "      <td>Africa</td>\n",
       "      <td>Northern Africa</td>\n",
       "      <td>NaN</td>\n",
       "      <td>2.0</td>\n",
       "      <td>15.0</td>\n",
       "      <td>NaN</td>\n",
       "    </tr>\n",
       "    <tr>\n",
       "      <th>4</th>\n",
       "      <td>American Samoa</td>\n",
       "      <td>AS</td>\n",
       "      <td>ASM</td>\n",
       "      <td>16</td>\n",
       "      <td>ISO 3166-2:AS</td>\n",
       "      <td>Oceania</td>\n",
       "      <td>Polynesia</td>\n",
       "      <td>NaN</td>\n",
       "      <td>9.0</td>\n",
       "      <td>61.0</td>\n",
       "      <td>NaN</td>\n",
       "    </tr>\n",
       "  </tbody>\n",
       "</table>\n",
       "</div>"
      ],
      "text/plain": [
       "             name alpha-2  ... sub-region-code  intermediate-region-code\n",
       "0     Afghanistan      AF  ...            34.0                       NaN\n",
       "1   Åland Islands      AX  ...           154.0                       NaN\n",
       "2         Albania      AL  ...            39.0                       NaN\n",
       "3         Algeria      DZ  ...            15.0                       NaN\n",
       "4  American Samoa      AS  ...            61.0                       NaN\n",
       "\n",
       "[5 rows x 11 columns]"
      ]
     },
     "execution_count": 5,
     "metadata": {
      "tags": []
     },
     "output_type": "execute_result"
    }
   ],
   "source": [
    "regions= pd.read_csv('all.csv')\n",
    "regions.head()"
   ]
  },
  {
   "cell_type": "code",
   "execution_count": 0,
   "metadata": {
    "colab": {
     "base_uri": "https://localhost:8080/",
     "height": 564
    },
    "colab_type": "code",
    "id": "2VVCxv96fkpQ",
    "outputId": "5bd57d7c-1d23-4cad-eb98-35f2070a702e"
   },
   "outputs": [
    {
     "name": "stdout",
     "output_type": "stream",
     "text": [
      "<class 'pandas.core.frame.DataFrame'>\n",
      "RangeIndex: 156 entries, 0 to 155\n",
      "Data columns (total 8 columns):\n",
      "Happiness_level                 156 non-null object\n",
      "Country or region               156 non-null object\n",
      "GDP per capita                  156 non-null float64\n",
      "Social support                  156 non-null float64\n",
      "Healthy life expectancy         156 non-null float64\n",
      "Freedom to make life choices    156 non-null float64\n",
      "Generosity                      156 non-null float64\n",
      "Perceptions of corruption       156 non-null float64\n",
      "dtypes: float64(6), object(2)\n",
      "memory usage: 9.9+ KB\n",
      "None\n",
      "<class 'pandas.core.frame.DataFrame'>\n",
      "RangeIndex: 249 entries, 0 to 248\n",
      "Data columns (total 11 columns):\n",
      "name                        249 non-null object\n",
      "alpha-2                     248 non-null object\n",
      "alpha-3                     249 non-null object\n",
      "country-code                249 non-null int64\n",
      "iso_3166-2                  249 non-null object\n",
      "region                      248 non-null object\n",
      "sub-region                  248 non-null object\n",
      "intermediate-region         107 non-null object\n",
      "region-code                 248 non-null float64\n",
      "sub-region-code             248 non-null float64\n",
      "intermediate-region-code    107 non-null float64\n",
      "dtypes: float64(3), int64(1), object(7)\n",
      "memory usage: 21.5+ KB\n",
      "None\n"
     ]
    }
   ],
   "source": [
    "print(data.info())\n",
    "print(regions.info())"
   ]
  },
  {
   "cell_type": "code",
   "execution_count": 0,
   "metadata": {
    "colab": {
     "base_uri": "https://localhost:8080/",
     "height": 278
    },
    "colab_type": "code",
    "id": "CpwnfYwRhXfW",
    "outputId": "5e95fc68-f0a5-4f53-ad5e-2ae0dfbb4cf2"
   },
   "outputs": [
    {
     "data": {
      "text/html": [
       "<div>\n",
       "<style scoped>\n",
       "    .dataframe tbody tr th:only-of-type {\n",
       "        vertical-align: middle;\n",
       "    }\n",
       "\n",
       "    .dataframe tbody tr th {\n",
       "        vertical-align: top;\n",
       "    }\n",
       "\n",
       "    .dataframe thead th {\n",
       "        text-align: right;\n",
       "    }\n",
       "</style>\n",
       "<table border=\"1\" class=\"dataframe\">\n",
       "  <thead>\n",
       "    <tr style=\"text-align: right;\">\n",
       "      <th></th>\n",
       "      <th>Happiness_level</th>\n",
       "      <th>GDP per capita</th>\n",
       "      <th>Social support</th>\n",
       "      <th>Healthy life expectancy</th>\n",
       "      <th>Freedom to make life choices</th>\n",
       "      <th>Generosity</th>\n",
       "      <th>Perceptions of corruption</th>\n",
       "      <th>Country or region</th>\n",
       "    </tr>\n",
       "  </thead>\n",
       "  <tbody>\n",
       "    <tr>\n",
       "      <th>0</th>\n",
       "      <td>Very High</td>\n",
       "      <td>1.340</td>\n",
       "      <td>1.587</td>\n",
       "      <td>0.986</td>\n",
       "      <td>0.596</td>\n",
       "      <td>0.153</td>\n",
       "      <td>0.393</td>\n",
       "      <td>Europe</td>\n",
       "    </tr>\n",
       "    <tr>\n",
       "      <th>1</th>\n",
       "      <td>Very High</td>\n",
       "      <td>1.383</td>\n",
       "      <td>1.573</td>\n",
       "      <td>0.996</td>\n",
       "      <td>0.592</td>\n",
       "      <td>0.252</td>\n",
       "      <td>0.410</td>\n",
       "      <td>Europe</td>\n",
       "    </tr>\n",
       "    <tr>\n",
       "      <th>2</th>\n",
       "      <td>Very High</td>\n",
       "      <td>1.488</td>\n",
       "      <td>1.582</td>\n",
       "      <td>1.028</td>\n",
       "      <td>0.603</td>\n",
       "      <td>0.271</td>\n",
       "      <td>0.341</td>\n",
       "      <td>Europe</td>\n",
       "    </tr>\n",
       "    <tr>\n",
       "      <th>3</th>\n",
       "      <td>Very High</td>\n",
       "      <td>1.380</td>\n",
       "      <td>1.624</td>\n",
       "      <td>1.026</td>\n",
       "      <td>0.591</td>\n",
       "      <td>0.354</td>\n",
       "      <td>0.118</td>\n",
       "      <td>Europe</td>\n",
       "    </tr>\n",
       "    <tr>\n",
       "      <th>4</th>\n",
       "      <td>Very High</td>\n",
       "      <td>1.396</td>\n",
       "      <td>1.522</td>\n",
       "      <td>0.999</td>\n",
       "      <td>0.557</td>\n",
       "      <td>0.322</td>\n",
       "      <td>0.298</td>\n",
       "      <td>Europe</td>\n",
       "    </tr>\n",
       "  </tbody>\n",
       "</table>\n",
       "</div>"
      ],
      "text/plain": [
       "  Happiness_level  GDP per capita  ...  Perceptions of corruption  Country or region\n",
       "0       Very High           1.340  ...                      0.393             Europe\n",
       "1       Very High           1.383  ...                      0.410             Europe\n",
       "2       Very High           1.488  ...                      0.341             Europe\n",
       "3       Very High           1.380  ...                      0.118             Europe\n",
       "4       Very High           1.396  ...                      0.298             Europe\n",
       "\n",
       "[5 rows x 8 columns]"
      ]
     },
     "execution_count": 7,
     "metadata": {
      "tags": []
     },
     "output_type": "execute_result"
    }
   ],
   "source": [
    "# Merge\n",
    "data= pd.merge(data, regions[[\"name\", \"region\"]], left_on='Country or region', right_on='name', how='left')\n",
    "data= data.drop(['Country or region', 'name'], axis = 1) \n",
    "data= data.rename({'region':'Country or region'}, axis='columns')\n",
    "data.head()"
   ]
  },
  {
   "cell_type": "code",
   "execution_count": 0,
   "metadata": {
    "colab": {
     "base_uri": "https://localhost:8080/",
     "height": 264
    },
    "colab_type": "code",
    "id": "f6FRpxH_iuS7",
    "outputId": "5f69878d-67c2-49c9-ce4c-c5925c92a63b"
   },
   "outputs": [
    {
     "name": "stdout",
     "output_type": "stream",
     "text": [
      "<class 'pandas.core.frame.DataFrame'>\n",
      "Int64Index: 156 entries, 0 to 155\n",
      "Data columns (total 8 columns):\n",
      "Happiness_level                 156 non-null object\n",
      "GDP per capita                  156 non-null float64\n",
      "Social support                  156 non-null float64\n",
      "Healthy life expectancy         156 non-null float64\n",
      "Freedom to make life choices    156 non-null float64\n",
      "Generosity                      156 non-null float64\n",
      "Perceptions of corruption       156 non-null float64\n",
      "Country or region               134 non-null object\n",
      "dtypes: float64(6), object(2)\n",
      "memory usage: 11.0+ KB\n",
      "None\n"
     ]
    }
   ],
   "source": [
    "print(data.info())"
   ]
  },
  {
   "cell_type": "markdown",
   "metadata": {
    "colab_type": "text",
    "id": "YsJSCsFyxFuV"
   },
   "source": [
    "#### 1. Explore bivariate results (Use visualizations!)\n",
    "##### 1.1 Describe any relationships you see between particular features and the target variable\n"
   ]
  },
  {
   "cell_type": "code",
   "execution_count": 0,
   "metadata": {
    "colab": {
     "base_uri": "https://localhost:8080/",
     "height": 280
    },
    "colab_type": "code",
    "id": "JWT912b3_ZJ2",
    "outputId": "c3bf0953-f8e2-4afe-fb7b-bd0e06fbdc49"
   },
   "outputs": [
    {
     "data": {
      "image/png": "[encoded data removed]",
      "text/plain": [
       "<Figure size 432x288 with 1 Axes>"
      ]
     },
     "metadata": {
      "tags": []
     },
     "output_type": "display_data"
    }
   ],
   "source": [
    "g= sns.boxplot(y=\"Perceptions of corruption\", x=\"Happiness_level\", data=data)"
   ]
  },
  {
   "cell_type": "code",
   "execution_count": 0,
   "metadata": {
    "colab": {
     "base_uri": "https://localhost:8080/",
     "height": 280
    },
    "colab_type": "code",
    "id": "byBezE9vBCoz",
    "outputId": "3c334d58-2cad-4006-c0df-cbc41c93e1b4"
   },
   "outputs": [
    {
     "data": {
      "image/png": "[encoded data removed]",
      "text/plain": [
       "<Figure size 432x288 with 1 Axes>"
      ]
     },
     "metadata": {
      "tags": []
     },
     "output_type": "display_data"
    }
   ],
   "source": [
    "g= sns.boxplot(y=\"Generosity\", x=\"Happiness_level\", data=data)"
   ]
  },
  {
   "cell_type": "code",
   "execution_count": 0,
   "metadata": {
    "colab": {
     "base_uri": "https://localhost:8080/",
     "height": 280
    },
    "colab_type": "code",
    "id": "7NhJebIyBJpl",
    "outputId": "b0bf2d9c-f600-427a-b80d-9745627fd178"
   },
   "outputs": [
    {
     "data": {
      "image/png": "[encoded data removed]",
      "text/plain": [
       "<Figure size 432x288 with 1 Axes>"
      ]
     },
     "metadata": {
      "tags": []
     },
     "output_type": "display_data"
    }
   ],
   "source": [
    "g= sns.boxplot(y=\"Freedom to make life choices\", x=\"Happiness_level\", data=data)"
   ]
  },
  {
   "cell_type": "code",
   "execution_count": 0,
   "metadata": {
    "colab": {
     "base_uri": "https://localhost:8080/",
     "height": 280
    },
    "colab_type": "code",
    "id": "wjiaOqzWBPEo",
    "outputId": "a0cbcd39-986b-4bb9-9f81-e23c9e174a60"
   },
   "outputs": [
    {
     "data": {
      "image/png": "[encoded data removed]",
      "text/plain": [
       "<Figure size 432x288 with 1 Axes>"
      ]
     },
     "metadata": {
      "tags": []
     },
     "output_type": "display_data"
    }
   ],
   "source": [
    "g= sns.boxplot(y=\"Healthy life expectancy\", x=\"Happiness_level\", data=data)"
   ]
  },
  {
   "cell_type": "code",
   "execution_count": 0,
   "metadata": {
    "colab": {
     "base_uri": "https://localhost:8080/",
     "height": 280
    },
    "colab_type": "code",
    "id": "2_gtlTp5BVXh",
    "outputId": "2002cff4-4140-46bd-bf62-6efaf5e5681e"
   },
   "outputs": [
    {
     "data": {
      "image/png": "[encoded data removed]",
      "text/plain": [
       "<Figure size 432x288 with 1 Axes>"
      ]
     },
     "metadata": {
      "tags": []
     },
     "output_type": "display_data"
    }
   ],
   "source": [
    "g= sns.boxplot(y=\"Social support\", x=\"Happiness_level\", data=data)"
   ]
  },
  {
   "cell_type": "code",
   "execution_count": 0,
   "metadata": {
    "colab": {
     "base_uri": "https://localhost:8080/",
     "height": 282
    },
    "colab_type": "code",
    "id": "mDfw1eo-BdAM",
    "outputId": "76216209-f7d9-4382-c14b-8fd108a85f53"
   },
   "outputs": [
    {
     "data": {
      "image/png": "[encoded data removed]",
      "text/plain": [
       "<Figure size 432x288 with 1 Axes>"
      ]
     },
     "metadata": {
      "tags": []
     },
     "output_type": "display_data"
    }
   ],
   "source": [
    "g= sns.boxplot(y=\"GDP per capita\", x=\"Happiness_level\", data=data)"
   ]
  },
  {
   "cell_type": "markdown",
   "metadata": {
    "colab_type": "text",
    "id": "iddPw3VakKLY"
   },
   "source": [
    "When exploring the relationships between the target variable (*Happiness level*) and the particular features used in the UN calculations, it is shown that a positive correlation (and therefore likely influence) exists with *GDP per capita*, *Health expectancy*, and *Social support*. All of which are commonly considered to have colineality and depend on the income level of the population. Hence, these results are not surprising.\n",
    "\n",
    "However, the relationship between *Happiness* and *Generosity* is not as clear, given the variations and averages on each level of the target variable."
   ]
  },
  {
   "cell_type": "markdown",
   "metadata": {
    "colab_type": "text",
    "id": "gDL_5V-txWzy"
   },
   "source": [
    "#### 2. Examine features that predict happiness categories using one or more models that allow for automatic feature selection\n",
    "##### 2.1 Explain any meaningful findings"
   ]
  },
  {
   "cell_type": "markdown",
   "metadata": {
    "colab_type": "text",
    "id": "nOTCVDE5ZR9R"
   },
   "source": [
    "### Divide train-test data"
   ]
  },
  {
   "cell_type": "code",
   "execution_count": 0,
   "metadata": {
    "colab": {
     "base_uri": "https://localhost:8080/",
     "height": 90
    },
    "colab_type": "code",
    "id": "bumaVl8WaS2g",
    "outputId": "f1b938e8-41b2-4e33-bbaf-6ec13351e3e4"
   },
   "outputs": [
    {
     "name": "stdout",
     "output_type": "stream",
     "text": [
      "(117, 7)\n",
      "(117,)\n",
      "['GDP per capita', 'Social support', 'Healthy life expectancy', 'Freedom to make life choices', 'Generosity', 'Perceptions of corruption', 'Country or region']\n"
     ]
    }
   ],
   "source": [
    "y=data['Happiness_level']\n",
    "X=data.drop(['Happiness_level'],axis=1)\n",
    "X_train, X_test, y_train, y_test = train_test_split(X, y, random_state=42)\n",
    "\n",
    "print(X_train.shape)\n",
    "print(y_train.shape)\n",
    "print(X_train.columns.tolist())"
   ]
  },
  {
   "cell_type": "code",
   "execution_count": 0,
   "metadata": {
    "colab": {
     "base_uri": "https://localhost:8080/",
     "height": 240
    },
    "colab_type": "code",
    "id": "DM518Y9gjYR0",
    "outputId": "6b6966b7-6fe5-4564-fdf4-4493c9d66f05"
   },
   "outputs": [
    {
     "data": {
      "text/html": [
       "<div>\n",
       "<style scoped>\n",
       "    .dataframe tbody tr th:only-of-type {\n",
       "        vertical-align: middle;\n",
       "    }\n",
       "\n",
       "    .dataframe tbody tr th {\n",
       "        vertical-align: top;\n",
       "    }\n",
       "\n",
       "    .dataframe thead th {\n",
       "        text-align: right;\n",
       "    }\n",
       "</style>\n",
       "<table border=\"1\" class=\"dataframe\">\n",
       "  <thead>\n",
       "    <tr style=\"text-align: right;\">\n",
       "      <th></th>\n",
       "      <th>GDP per capita</th>\n",
       "      <th>Social support</th>\n",
       "      <th>Healthy life expectancy</th>\n",
       "      <th>Freedom to make life choices</th>\n",
       "      <th>Generosity</th>\n",
       "      <th>Perceptions of corruption</th>\n",
       "      <th>Country or region</th>\n",
       "    </tr>\n",
       "  </thead>\n",
       "  <tbody>\n",
       "    <tr>\n",
       "      <th>0</th>\n",
       "      <td>1.340</td>\n",
       "      <td>1.587</td>\n",
       "      <td>0.986</td>\n",
       "      <td>0.596</td>\n",
       "      <td>0.153</td>\n",
       "      <td>0.393</td>\n",
       "      <td>Europe</td>\n",
       "    </tr>\n",
       "    <tr>\n",
       "      <th>1</th>\n",
       "      <td>1.383</td>\n",
       "      <td>1.573</td>\n",
       "      <td>0.996</td>\n",
       "      <td>0.592</td>\n",
       "      <td>0.252</td>\n",
       "      <td>0.410</td>\n",
       "      <td>Europe</td>\n",
       "    </tr>\n",
       "    <tr>\n",
       "      <th>2</th>\n",
       "      <td>1.488</td>\n",
       "      <td>1.582</td>\n",
       "      <td>1.028</td>\n",
       "      <td>0.603</td>\n",
       "      <td>0.271</td>\n",
       "      <td>0.341</td>\n",
       "      <td>Europe</td>\n",
       "    </tr>\n",
       "    <tr>\n",
       "      <th>3</th>\n",
       "      <td>1.380</td>\n",
       "      <td>1.624</td>\n",
       "      <td>1.026</td>\n",
       "      <td>0.591</td>\n",
       "      <td>0.354</td>\n",
       "      <td>0.118</td>\n",
       "      <td>Europe</td>\n",
       "    </tr>\n",
       "    <tr>\n",
       "      <th>4</th>\n",
       "      <td>1.396</td>\n",
       "      <td>1.522</td>\n",
       "      <td>0.999</td>\n",
       "      <td>0.557</td>\n",
       "      <td>0.322</td>\n",
       "      <td>0.298</td>\n",
       "      <td>Europe</td>\n",
       "    </tr>\n",
       "  </tbody>\n",
       "</table>\n",
       "</div>"
      ],
      "text/plain": [
       "   GDP per capita  Social support  ...  Perceptions of corruption  Country or region\n",
       "0           1.340           1.587  ...                      0.393             Europe\n",
       "1           1.383           1.573  ...                      0.410             Europe\n",
       "2           1.488           1.582  ...                      0.341             Europe\n",
       "3           1.380           1.624  ...                      0.118             Europe\n",
       "4           1.396           1.522  ...                      0.298             Europe\n",
       "\n",
       "[5 rows x 7 columns]"
      ]
     },
     "execution_count": 16,
     "metadata": {
      "tags": []
     },
     "output_type": "execute_result"
    }
   ],
   "source": [
    "X.head()"
   ]
  },
  {
   "cell_type": "code",
   "execution_count": 0,
   "metadata": {
    "colab": {
     "base_uri": "https://localhost:8080/",
     "height": 123
    },
    "colab_type": "code",
    "id": "bzsTv1S_jbOq",
    "outputId": "7d9eef3f-41c2-4aad-db51-a83bedac8592"
   },
   "outputs": [
    {
     "data": {
      "text/plain": [
       "0    Very High\n",
       "1    Very High\n",
       "2    Very High\n",
       "3    Very High\n",
       "4    Very High\n",
       "Name: Happiness_level, dtype: object"
      ]
     },
     "execution_count": 17,
     "metadata": {
      "tags": []
     },
     "output_type": "execute_result"
    }
   ],
   "source": [
    "y.head()"
   ]
  },
  {
   "cell_type": "code",
   "execution_count": 0,
   "metadata": {
    "colab": {
     "base_uri": "https://localhost:8080/",
     "height": 52
    },
    "colab_type": "code",
    "id": "Jy9fkMlyji9P",
    "outputId": "63426d69-26e8-4b95-8497-cc8601989e78"
   },
   "outputs": [
    {
     "name": "stdout",
     "output_type": "stream",
     "text": [
      "(156, 7)\n",
      "(156,)\n"
     ]
    }
   ],
   "source": [
    "print(X.shape)\n",
    "print(y.shape)"
   ]
  },
  {
   "cell_type": "markdown",
   "metadata": {
    "colab_type": "text",
    "id": "vPqvykekjl0u"
   },
   "source": [
    "### Preprocessing data"
   ]
  },
  {
   "cell_type": "code",
   "execution_count": 0,
   "metadata": {
    "colab": {},
    "colab_type": "code",
    "id": "20AG7j8Ljnba"
   },
   "outputs": [],
   "source": [
    "numeric_features=X.columns.tolist()\n",
    "numeric_features.remove('Country or region')\n",
    "\n",
    "numeric_transformer = Pipeline(steps=[\n",
    "    ('imputer', SimpleImputer(strategy='median')),\n",
    "    ('scaler', StandardScaler())])\n",
    "\n",
    "categorical_features = ['Country or region']\n",
    "\n",
    "categorical_transformer = Pipeline(steps=[\n",
    "    ('imputer', SimpleImputer(strategy='most_frequent')),\n",
    "    ('onehot', OneHotEncoder(handle_unknown='ignore'))])\n",
    "\n",
    "preprocessor = ColumnTransformer(\n",
    "    transformers=[\n",
    "        ('num', numeric_transformer, numeric_features),\n",
    "        ('cat', categorical_transformer, categorical_features)])\n"
   ]
  },
  {
   "cell_type": "code",
   "execution_count": 0,
   "metadata": {
    "colab": {},
    "colab_type": "code",
    "id": "73JFB-xvmWQL"
   },
   "outputs": [],
   "source": [
    "#Fit your preprocessor object\n",
    "prediction_input_preprocessor=preprocessor.fit(X_train) "
   ]
  },
  {
   "cell_type": "code",
   "execution_count": 0,
   "metadata": {
    "colab": {
     "base_uri": "https://localhost:8080/",
     "height": 35
    },
    "colab_type": "code",
    "id": "Fl311gBldr0u",
    "outputId": "a713fa02-184f-4758-d581-01c5c6f26d2a"
   },
   "outputs": [
    {
     "data": {
      "text/plain": [
       "(117, 11)"
      ]
     },
     "execution_count": 21,
     "metadata": {
      "tags": []
     },
     "output_type": "execute_result"
    }
   ],
   "source": [
    "# Check shape for keras input:\n",
    "prediction_input_preprocessor.transform(X_train).shape"
   ]
  },
  {
   "cell_type": "code",
   "execution_count": 0,
   "metadata": {
    "colab": {
     "base_uri": "https://localhost:8080/",
     "height": 35
    },
    "colab_type": "code",
    "id": "4f2GeOkel5V5",
    "outputId": "833bb66d-bab5-4f07-956c-07cc92d29e21"
   },
   "outputs": [
    {
     "data": {
      "text/plain": [
       "(117, 5)"
      ]
     },
     "execution_count": 22,
     "metadata": {
      "tags": []
     },
     "output_type": "execute_result"
    }
   ],
   "source": [
    "# Check shape for keras output:\n",
    "pd.get_dummies(y_train).shape"
   ]
  },
  {
   "cell_type": "markdown",
   "metadata": {
    "colab_type": "text",
    "id": "H21wnUxWQVUN"
   },
   "source": [
    "#### Feature Selection"
   ]
  },
  {
   "cell_type": "markdown",
   "metadata": {
    "colab_type": "text",
    "id": "N_yQMQ7scK-e"
   },
   "source": [
    "a) Random Forest Regressor + Select From Model"
   ]
  },
  {
   "cell_type": "code",
   "execution_count": 0,
   "metadata": {
    "colab": {
     "base_uri": "https://localhost:8080/",
     "height": 52
    },
    "colab_type": "code",
    "id": "N9VJpHjecWr9",
    "outputId": "a3c9f10a-f330-40b8-8632-abe72bd4c208"
   },
   "outputs": [
    {
     "name": "stdout",
     "output_type": "stream",
     "text": [
      "[0.22599904 0.15796512 0.24242157 0.13050417 0.07033921 0.12555213\n",
      " 0.00619142 0.02475552 0.01418841 0.00208342 0.        ]\n"
     ]
    }
   ],
   "source": [
    "from sklearn.feature_selection import SelectFromModel\n",
    "from sklearn.ensemble import RandomForestRegressor\n",
    "\n",
    "forest = RandomForestRegressor(n_estimators=200)\n",
    "formodel = forest.fit(prediction_input_preprocessor.transform(X_train), pd.get_dummies(y_train))\n",
    "\n",
    "\n",
    "print(formodel.feature_importances_)"
   ]
  },
  {
   "cell_type": "code",
   "execution_count": 0,
   "metadata": {
    "colab": {
     "base_uri": "https://localhost:8080/",
     "height": 90
    },
    "colab_type": "code",
    "id": "FNoi2YILc4IX",
    "outputId": "4619641b-52b3-4134-8b63-f37a605b185a"
   },
   "outputs": [
    {
     "name": "stdout",
     "output_type": "stream",
     "text": [
      "(117, 11)\n"
     ]
    },
    {
     "name": "stderr",
     "output_type": "stream",
     "text": [
      "/usr/local/lib/python3.6/dist-packages/sklearn/feature_selection/_base.py:81: UserWarning: No features were selected: either the data is too noisy or the selection test too strict.\n",
      "  UserWarning)\n"
     ]
    }
   ],
   "source": [
    "sfm = SelectFromModel(formodel, threshold=.25)\n",
    "sfm.fit(prediction_input_preprocessor.transform(X_train), pd.get_dummies(y_train))\n",
    "Xtrain_new = sfm.transform(prediction_input_preprocessor.transform(X_train)) # transform data to insert into new model\n",
    "\n",
    "print(prediction_input_preprocessor.transform(X_train).shape)"
   ]
  },
  {
   "cell_type": "markdown",
   "metadata": {
    "colab_type": "text",
    "id": "YWo7kxjoc7nR"
   },
   "source": [
    "In this case no variables are zereod, leading us to believe are variables are relevant to the model.  "
   ]
  },
  {
   "cell_type": "markdown",
   "metadata": {
    "colab_type": "text",
    "id": "75kDw6gxLDmz"
   },
   "source": [
    "##### b) Lasso + Select from Model"
   ]
  },
  {
   "cell_type": "code",
   "execution_count": 0,
   "metadata": {
    "colab": {
     "base_uri": "https://localhost:8080/",
     "height": 90
    },
    "colab_type": "code",
    "id": "xg_T_7SsogZ5",
    "outputId": "d16bd4df-73ad-4a9b-e9cd-9247674b0eef"
   },
   "outputs": [
    {
     "name": "stdout",
     "output_type": "stream",
     "text": [
      "(117, 9)\n"
     ]
    },
    {
     "name": "stderr",
     "output_type": "stream",
     "text": [
      "/usr/local/lib/python3.6/dist-packages/sklearn/linear_model/_sag.py:330: ConvergenceWarning: The max_iter was reached which means the coef_ did not converge\n",
      "  \"the coef_ did not converge\", ConvergenceWarning)\n"
     ]
    }
   ],
   "source": [
    "from sklearn.feature_selection import SelectFromModel\n",
    "from sklearn.linear_model import LogisticRegression\n",
    "\n",
    "lasso = LogisticRegression(penalty='l1', solver='saga')\n",
    "lasso.fit(prediction_input_preprocessor.transform(X_train), y_train)\n",
    "\n",
    "model = SelectFromModel(lasso, prefit=True)\n",
    "\n",
    "X_new = model.transform(prediction_input_preprocessor.transform(X_train))\n",
    "print(X_new.shape)"
   ]
  },
  {
   "cell_type": "code",
   "execution_count": 0,
   "metadata": {
    "colab": {
     "base_uri": "https://localhost:8080/",
     "height": 52
    },
    "colab_type": "code",
    "id": "6WmzK4Mu0dPk",
    "outputId": "86c041c5-a694-4bf4-8ffa-86ccbfbb8c5e"
   },
   "outputs": [
    {
     "data": {
      "text/plain": [
       "array([ True,  True,  True,  True,  True,  True,  True,  True,  True,\n",
       "       False, False])"
      ]
     },
     "execution_count": 26,
     "metadata": {
      "tags": []
     },
     "output_type": "execute_result"
    }
   ],
   "source": [
    "model.get_support()"
   ]
  },
  {
   "cell_type": "markdown",
   "metadata": {
    "colab_type": "text",
    "id": "VE6QorgFd2ET"
   },
   "source": [
    "In contrast, to the Random Forest Classifier, the Lasso model zeroed 2 (*Generosity* and *Perception of corruption*) out of the 11 features. Leaving only 9 features, those relevant to the prediction of the target variable."
   ]
  },
  {
   "cell_type": "markdown",
   "metadata": {
    "colab_type": "text",
    "id": "yJMZ71m1yFGn"
   },
   "source": [
    "#### 3. Run at least three prediction models to try to predict World Happiness well."
   ]
  },
  {
   "cell_type": "markdown",
   "metadata": {
    "colab_type": "text",
    "id": "pFXxVyQ2yIeo"
   },
   "source": [
    "#### 3.1 Discuss which models performed better and point out relevant hyper-parameter values for successful models."
   ]
  },
  {
   "cell_type": "markdown",
   "metadata": {
    "colab_type": "text",
    "id": "6pGhNAVpB_Zc"
   },
   "source": [
    "Neural network"
   ]
  },
  {
   "cell_type": "code",
   "execution_count": 0,
   "metadata": {
    "colab": {
     "base_uri": "https://localhost:8080/",
     "height": 1000
    },
    "colab_type": "code",
    "id": "OZ28BXzsB9Kp",
    "outputId": "0917429a-7f8f-4356-dffe-bb81430090ed"
   },
   "outputs": [
    {
     "name": "stdout",
     "output_type": "stream",
     "text": [
      "WARNING:tensorflow:From /usr/local/lib/python3.6/dist-packages/keras/backend/tensorflow_backend.py:66: The name tf.get_default_graph is deprecated. Please use tf.compat.v1.get_default_graph instead.\n",
      "\n",
      "WARNING:tensorflow:From /usr/local/lib/python3.6/dist-packages/keras/backend/tensorflow_backend.py:541: The name tf.placeholder is deprecated. Please use tf.compat.v1.placeholder instead.\n",
      "\n",
      "WARNING:tensorflow:From /usr/local/lib/python3.6/dist-packages/keras/backend/tensorflow_backend.py:4432: The name tf.random_uniform is deprecated. Please use tf.random.uniform instead.\n",
      "\n",
      "WARNING:tensorflow:From /usr/local/lib/python3.6/dist-packages/keras/optimizers.py:793: The name tf.train.Optimizer is deprecated. Please use tf.compat.v1.train.Optimizer instead.\n",
      "\n",
      "WARNING:tensorflow:From /usr/local/lib/python3.6/dist-packages/keras/backend/tensorflow_backend.py:3576: The name tf.log is deprecated. Please use tf.math.log instead.\n",
      "\n",
      "WARNING:tensorflow:From /usr/local/lib/python3.6/dist-packages/tensorflow_core/python/ops/math_grad.py:1424: where (from tensorflow.python.ops.array_ops) is deprecated and will be removed in a future version.\n",
      "Instructions for updating:\n",
      "Use tf.where in 2.0, which has the same broadcast rule as np.where\n",
      "WARNING:tensorflow:From /usr/local/lib/python3.6/dist-packages/keras/backend/tensorflow_backend.py:1033: The name tf.assign_add is deprecated. Please use tf.compat.v1.assign_add instead.\n",
      "\n",
      "WARNING:tensorflow:From /usr/local/lib/python3.6/dist-packages/keras/backend/tensorflow_backend.py:1020: The name tf.assign is deprecated. Please use tf.compat.v1.assign instead.\n",
      "\n",
      "WARNING:tensorflow:From /usr/local/lib/python3.6/dist-packages/keras/backend/tensorflow_backend.py:3005: The name tf.Session is deprecated. Please use tf.compat.v1.Session instead.\n",
      "\n",
      "Train on 93 samples, validate on 24 samples\n",
      "Epoch 1/350\n",
      "WARNING:tensorflow:From /usr/local/lib/python3.6/dist-packages/keras/backend/tensorflow_backend.py:190: The name tf.get_default_session is deprecated. Please use tf.compat.v1.get_default_session instead.\n",
      "\n",
      "WARNING:tensorflow:From /usr/local/lib/python3.6/dist-packages/keras/backend/tensorflow_backend.py:197: The name tf.ConfigProto is deprecated. Please use tf.compat.v1.ConfigProto instead.\n",
      "\n",
      "WARNING:tensorflow:From /usr/local/lib/python3.6/dist-packages/keras/backend/tensorflow_backend.py:207: The name tf.global_variables is deprecated. Please use tf.compat.v1.global_variables instead.\n",
      "\n",
      "WARNING:tensorflow:From /usr/local/lib/python3.6/dist-packages/keras/backend/tensorflow_backend.py:216: The name tf.is_variable_initialized is deprecated. Please use tf.compat.v1.is_variable_initialized instead.\n",
      "\n",
      "WARNING:tensorflow:From /usr/local/lib/python3.6/dist-packages/keras/backend/tensorflow_backend.py:223: The name tf.variables_initializer is deprecated. Please use tf.compat.v1.variables_initializer instead.\n",
      "\n",
      "93/93 [==============================] - 0s 3ms/step - loss: 1.6037 - acc: 0.1720 - val_loss: 1.6451 - val_acc: 0.2500\n",
      "Epoch 2/350\n",
      "93/93 [==============================] - 0s 76us/step - loss: 1.6021 - acc: 0.1720 - val_loss: 1.6434 - val_acc: 0.2500\n",
      "Epoch 3/350\n",
      "93/93 [==============================] - 0s 75us/step - loss: 1.6001 - acc: 0.1720 - val_loss: 1.6420 - val_acc: 0.2500\n",
      "Epoch 4/350\n",
      "93/93 [==============================] - 0s 73us/step - loss: 1.5984 - acc: 0.1720 - val_loss: 1.6407 - val_acc: 0.2500\n",
      "Epoch 5/350\n",
      "93/93 [==============================] - 0s 95us/step - loss: 1.5967 - acc: 0.1720 - val_loss: 1.6397 - val_acc: 0.2500\n",
      "Epoch 6/350\n",
      "93/93 [==============================] - 0s 86us/step - loss: 1.5952 - acc: 0.1720 - val_loss: 1.6386 - val_acc: 0.2500\n",
      "Epoch 7/350\n",
      "93/93 [==============================] - 0s 60us/step - loss: 1.5936 - acc: 0.1828 - val_loss: 1.6370 - val_acc: 0.2500\n",
      "Epoch 8/350\n",
      "93/93 [==============================] - 0s 90us/step - loss: 1.5914 - acc: 0.1720 - val_loss: 1.6358 - val_acc: 0.2500\n",
      "Epoch 9/350\n",
      "93/93 [==============================] - 0s 80us/step - loss: 1.5898 - acc: 0.1613 - val_loss: 1.6348 - val_acc: 0.2500\n",
      "Epoch 10/350\n",
      "93/93 [==============================] - 0s 86us/step - loss: 1.5882 - acc: 0.1613 - val_loss: 1.6339 - val_acc: 0.2500\n",
      "Epoch 11/350\n",
      "93/93 [==============================] - 0s 61us/step - loss: 1.5866 - acc: 0.1613 - val_loss: 1.6329 - val_acc: 0.2500\n",
      "Epoch 12/350\n",
      "93/93 [==============================] - 0s 69us/step - loss: 1.5850 - acc: 0.1613 - val_loss: 1.6315 - val_acc: 0.2500\n",
      "Epoch 13/350\n",
      "93/93 [==============================] - 0s 89us/step - loss: 1.5835 - acc: 0.1613 - val_loss: 1.6308 - val_acc: 0.2500\n",
      "Epoch 14/350\n",
      "93/93 [==============================] - 0s 96us/step - loss: 1.5818 - acc: 0.1613 - val_loss: 1.6295 - val_acc: 0.2500\n",
      "Epoch 15/350\n",
      "93/93 [==============================] - 0s 70us/step - loss: 1.5802 - acc: 0.1613 - val_loss: 1.6283 - val_acc: 0.2500\n",
      "Epoch 16/350\n",
      "93/93 [==============================] - 0s 86us/step - loss: 1.5786 - acc: 0.1613 - val_loss: 1.6270 - val_acc: 0.2917\n",
      "Epoch 17/350\n",
      "93/93 [==============================] - 0s 75us/step - loss: 1.5769 - acc: 0.1935 - val_loss: 1.6259 - val_acc: 0.2500\n",
      "Epoch 18/350\n",
      "93/93 [==============================] - 0s 83us/step - loss: 1.5752 - acc: 0.2043 - val_loss: 1.6246 - val_acc: 0.2917\n",
      "Epoch 19/350\n",
      "93/93 [==============================] - 0s 80us/step - loss: 1.5737 - acc: 0.2043 - val_loss: 1.6233 - val_acc: 0.2917\n",
      "Epoch 20/350\n",
      "93/93 [==============================] - 0s 81us/step - loss: 1.5718 - acc: 0.2151 - val_loss: 1.6219 - val_acc: 0.3333\n",
      "Epoch 21/350\n",
      "93/93 [==============================] - 0s 78us/step - loss: 1.5701 - acc: 0.2366 - val_loss: 1.6205 - val_acc: 0.3333\n",
      "Epoch 22/350\n",
      "93/93 [==============================] - 0s 73us/step - loss: 1.5682 - acc: 0.2581 - val_loss: 1.6194 - val_acc: 0.3333\n",
      "Epoch 23/350\n",
      "93/93 [==============================] - 0s 82us/step - loss: 1.5667 - acc: 0.2688 - val_loss: 1.6180 - val_acc: 0.3333\n",
      "Epoch 24/350\n",
      "93/93 [==============================] - 0s 87us/step - loss: 1.5651 - acc: 0.2796 - val_loss: 1.6173 - val_acc: 0.3333\n",
      "Epoch 25/350\n",
      "93/93 [==============================] - 0s 76us/step - loss: 1.5630 - acc: 0.2796 - val_loss: 1.6159 - val_acc: 0.3333\n",
      "Epoch 26/350\n",
      "93/93 [==============================] - 0s 79us/step - loss: 1.5615 - acc: 0.2796 - val_loss: 1.6151 - val_acc: 0.3333\n",
      "Epoch 27/350\n",
      "93/93 [==============================] - 0s 68us/step - loss: 1.5599 - acc: 0.2796 - val_loss: 1.6138 - val_acc: 0.3333\n",
      "Epoch 28/350\n",
      "93/93 [==============================] - 0s 70us/step - loss: 1.5582 - acc: 0.2796 - val_loss: 1.6128 - val_acc: 0.3333\n",
      "Epoch 29/350\n",
      "93/93 [==============================] - 0s 79us/step - loss: 1.5566 - acc: 0.2903 - val_loss: 1.6118 - val_acc: 0.3333\n",
      "Epoch 30/350\n",
      "93/93 [==============================] - 0s 74us/step - loss: 1.5550 - acc: 0.2903 - val_loss: 1.6107 - val_acc: 0.3333\n",
      "Epoch 31/350\n",
      "93/93 [==============================] - 0s 74us/step - loss: 1.5538 - acc: 0.3011 - val_loss: 1.6099 - val_acc: 0.3333\n",
      "Epoch 32/350\n",
      "93/93 [==============================] - 0s 74us/step - loss: 1.5519 - acc: 0.3118 - val_loss: 1.6089 - val_acc: 0.3333\n",
      "Epoch 33/350\n",
      "93/93 [==============================] - 0s 88us/step - loss: 1.5502 - acc: 0.3333 - val_loss: 1.6079 - val_acc: 0.3333\n",
      "Epoch 34/350\n",
      "93/93 [==============================] - 0s 78us/step - loss: 1.5487 - acc: 0.3441 - val_loss: 1.6064 - val_acc: 0.3333\n",
      "Epoch 35/350\n",
      "93/93 [==============================] - 0s 70us/step - loss: 1.5469 - acc: 0.3441 - val_loss: 1.6053 - val_acc: 0.3333\n",
      "Epoch 36/350\n",
      "93/93 [==============================] - 0s 72us/step - loss: 1.5455 - acc: 0.3548 - val_loss: 1.6042 - val_acc: 0.3333\n",
      "Epoch 37/350\n",
      "93/93 [==============================] - 0s 70us/step - loss: 1.5437 - acc: 0.3548 - val_loss: 1.6029 - val_acc: 0.3750\n",
      "Epoch 38/350\n",
      "93/93 [==============================] - 0s 84us/step - loss: 1.5420 - acc: 0.3656 - val_loss: 1.6017 - val_acc: 0.3333\n",
      "Epoch 39/350\n",
      "93/93 [==============================] - 0s 68us/step - loss: 1.5403 - acc: 0.3763 - val_loss: 1.6006 - val_acc: 0.3333\n",
      "Epoch 40/350\n",
      "93/93 [==============================] - 0s 68us/step - loss: 1.5387 - acc: 0.3763 - val_loss: 1.5995 - val_acc: 0.3333\n",
      "Epoch 41/350\n",
      "93/93 [==============================] - 0s 68us/step - loss: 1.5370 - acc: 0.3871 - val_loss: 1.5985 - val_acc: 0.3333\n",
      "Epoch 42/350\n",
      "93/93 [==============================] - 0s 72us/step - loss: 1.5356 - acc: 0.3871 - val_loss: 1.5976 - val_acc: 0.3333\n",
      "Epoch 43/350\n",
      "93/93 [==============================] - 0s 72us/step - loss: 1.5339 - acc: 0.3978 - val_loss: 1.5963 - val_acc: 0.3333\n",
      "Epoch 44/350\n",
      "93/93 [==============================] - 0s 83us/step - loss: 1.5323 - acc: 0.3978 - val_loss: 1.5951 - val_acc: 0.3333\n",
      "Epoch 45/350\n",
      "93/93 [==============================] - 0s 72us/step - loss: 1.5307 - acc: 0.3978 - val_loss: 1.5940 - val_acc: 0.3333\n",
      "Epoch 46/350\n",
      "93/93 [==============================] - 0s 92us/step - loss: 1.5290 - acc: 0.3978 - val_loss: 1.5929 - val_acc: 0.3333\n",
      "Epoch 47/350\n",
      "93/93 [==============================] - 0s 79us/step - loss: 1.5273 - acc: 0.4086 - val_loss: 1.5919 - val_acc: 0.3333\n",
      "Epoch 48/350\n",
      "93/93 [==============================] - 0s 75us/step - loss: 1.5258 - acc: 0.4194 - val_loss: 1.5909 - val_acc: 0.3333\n",
      "Epoch 49/350\n",
      "93/93 [==============================] - 0s 77us/step - loss: 1.5244 - acc: 0.4086 - val_loss: 1.5899 - val_acc: 0.3333\n",
      "Epoch 50/350\n",
      "93/93 [==============================] - 0s 84us/step - loss: 1.5228 - acc: 0.4086 - val_loss: 1.5885 - val_acc: 0.3333\n",
      "Epoch 51/350\n",
      "93/93 [==============================] - 0s 75us/step - loss: 1.5211 - acc: 0.4194 - val_loss: 1.5877 - val_acc: 0.3333\n",
      "Epoch 52/350\n",
      "93/93 [==============================] - 0s 78us/step - loss: 1.5192 - acc: 0.4301 - val_loss: 1.5865 - val_acc: 0.3333\n",
      "Epoch 53/350\n",
      "93/93 [==============================] - 0s 74us/step - loss: 1.5176 - acc: 0.4301 - val_loss: 1.5849 - val_acc: 0.3333\n",
      "Epoch 54/350\n",
      "93/93 [==============================] - 0s 72us/step - loss: 1.5155 - acc: 0.4409 - val_loss: 1.5835 - val_acc: 0.3333\n",
      "Epoch 55/350\n",
      "93/93 [==============================] - 0s 87us/step - loss: 1.5140 - acc: 0.4409 - val_loss: 1.5827 - val_acc: 0.3333\n",
      "Epoch 56/350\n",
      "93/93 [==============================] - 0s 78us/step - loss: 1.5121 - acc: 0.4409 - val_loss: 1.5814 - val_acc: 0.3333\n",
      "Epoch 57/350\n",
      "93/93 [==============================] - 0s 79us/step - loss: 1.5103 - acc: 0.4409 - val_loss: 1.5801 - val_acc: 0.3333\n",
      "Epoch 58/350\n",
      "93/93 [==============================] - 0s 67us/step - loss: 1.5085 - acc: 0.4409 - val_loss: 1.5788 - val_acc: 0.3333\n",
      "Epoch 59/350\n",
      "93/93 [==============================] - 0s 73us/step - loss: 1.5067 - acc: 0.4516 - val_loss: 1.5774 - val_acc: 0.3750\n",
      "Epoch 60/350\n",
      "93/93 [==============================] - 0s 66us/step - loss: 1.5050 - acc: 0.4516 - val_loss: 1.5755 - val_acc: 0.3333\n",
      "Epoch 61/350\n",
      "93/93 [==============================] - 0s 79us/step - loss: 1.5028 - acc: 0.4516 - val_loss: 1.5739 - val_acc: 0.3333\n",
      "Epoch 62/350\n",
      "93/93 [==============================] - 0s 77us/step - loss: 1.5007 - acc: 0.4516 - val_loss: 1.5725 - val_acc: 0.3333\n",
      "Epoch 63/350\n",
      "93/93 [==============================] - 0s 73us/step - loss: 1.4990 - acc: 0.4516 - val_loss: 1.5714 - val_acc: 0.3333\n",
      "Epoch 64/350\n",
      "93/93 [==============================] - 0s 66us/step - loss: 1.4971 - acc: 0.4516 - val_loss: 1.5698 - val_acc: 0.3333\n",
      "Epoch 65/350\n",
      "93/93 [==============================] - 0s 66us/step - loss: 1.4952 - acc: 0.4516 - val_loss: 1.5683 - val_acc: 0.3333\n",
      "Epoch 66/350\n",
      "93/93 [==============================] - 0s 67us/step - loss: 1.4935 - acc: 0.4516 - val_loss: 1.5672 - val_acc: 0.3333\n",
      "Epoch 67/350\n",
      "93/93 [==============================] - 0s 72us/step - loss: 1.4916 - acc: 0.4624 - val_loss: 1.5654 - val_acc: 0.3333\n",
      "Epoch 68/350\n",
      "93/93 [==============================] - 0s 79us/step - loss: 1.4895 - acc: 0.4516 - val_loss: 1.5639 - val_acc: 0.3333\n",
      "Epoch 69/350\n",
      "93/93 [==============================] - 0s 81us/step - loss: 1.4875 - acc: 0.4516 - val_loss: 1.5625 - val_acc: 0.3333\n",
      "Epoch 70/350\n",
      "93/93 [==============================] - 0s 84us/step - loss: 1.4856 - acc: 0.4516 - val_loss: 1.5614 - val_acc: 0.3333\n",
      "Epoch 71/350\n",
      "93/93 [==============================] - 0s 80us/step - loss: 1.4838 - acc: 0.4516 - val_loss: 1.5605 - val_acc: 0.3333\n",
      "Epoch 72/350\n",
      "93/93 [==============================] - 0s 78us/step - loss: 1.4819 - acc: 0.4516 - val_loss: 1.5587 - val_acc: 0.3333\n",
      "Epoch 73/350\n",
      "93/93 [==============================] - 0s 79us/step - loss: 1.4797 - acc: 0.4409 - val_loss: 1.5571 - val_acc: 0.3333\n",
      "Epoch 74/350\n",
      "93/93 [==============================] - 0s 83us/step - loss: 1.4776 - acc: 0.4409 - val_loss: 1.5555 - val_acc: 0.3333\n",
      "Epoch 75/350\n",
      "93/93 [==============================] - 0s 85us/step - loss: 1.4758 - acc: 0.4301 - val_loss: 1.5546 - val_acc: 0.3333\n",
      "Epoch 76/350\n",
      "93/93 [==============================] - 0s 81us/step - loss: 1.4738 - acc: 0.4409 - val_loss: 1.5529 - val_acc: 0.3333\n",
      "Epoch 77/350\n",
      "93/93 [==============================] - 0s 70us/step - loss: 1.4720 - acc: 0.4409 - val_loss: 1.5512 - val_acc: 0.3333\n",
      "Epoch 78/350\n",
      "93/93 [==============================] - 0s 84us/step - loss: 1.4696 - acc: 0.4301 - val_loss: 1.5495 - val_acc: 0.3333\n",
      "Epoch 79/350\n",
      "93/93 [==============================] - 0s 74us/step - loss: 1.4674 - acc: 0.4409 - val_loss: 1.5483 - val_acc: 0.3333\n",
      "Epoch 80/350\n",
      "93/93 [==============================] - 0s 93us/step - loss: 1.4654 - acc: 0.4409 - val_loss: 1.5466 - val_acc: 0.3333\n",
      "Epoch 81/350\n",
      "93/93 [==============================] - 0s 71us/step - loss: 1.4632 - acc: 0.4409 - val_loss: 1.5450 - val_acc: 0.3333\n",
      "Epoch 82/350\n",
      "93/93 [==============================] - 0s 73us/step - loss: 1.4612 - acc: 0.4516 - val_loss: 1.5434 - val_acc: 0.3333\n",
      "Epoch 83/350\n",
      "93/93 [==============================] - 0s 74us/step - loss: 1.4590 - acc: 0.4516 - val_loss: 1.5419 - val_acc: 0.3333\n",
      "Epoch 84/350\n",
      "93/93 [==============================] - 0s 72us/step - loss: 1.4571 - acc: 0.4516 - val_loss: 1.5406 - val_acc: 0.3333\n",
      "Epoch 85/350\n",
      "93/93 [==============================] - 0s 72us/step - loss: 1.4550 - acc: 0.4409 - val_loss: 1.5394 - val_acc: 0.3333\n",
      "Epoch 86/350\n",
      "93/93 [==============================] - 0s 71us/step - loss: 1.4529 - acc: 0.4409 - val_loss: 1.5376 - val_acc: 0.3333\n",
      "Epoch 87/350\n",
      "93/93 [==============================] - 0s 66us/step - loss: 1.4507 - acc: 0.4516 - val_loss: 1.5361 - val_acc: 0.3333\n",
      "Epoch 88/350\n",
      "93/93 [==============================] - 0s 70us/step - loss: 1.4487 - acc: 0.4409 - val_loss: 1.5346 - val_acc: 0.3333\n",
      "Epoch 89/350\n",
      "93/93 [==============================] - 0s 70us/step - loss: 1.4466 - acc: 0.4409 - val_loss: 1.5331 - val_acc: 0.3333\n",
      "Epoch 90/350\n",
      "93/93 [==============================] - 0s 66us/step - loss: 1.4442 - acc: 0.4409 - val_loss: 1.5312 - val_acc: 0.3333\n",
      "Epoch 91/350\n",
      "93/93 [==============================] - 0s 92us/step - loss: 1.4419 - acc: 0.4516 - val_loss: 1.5296 - val_acc: 0.3333\n",
      "Epoch 92/350\n",
      "93/93 [==============================] - 0s 121us/step - loss: 1.4395 - acc: 0.4516 - val_loss: 1.5278 - val_acc: 0.3333\n",
      "Epoch 93/350\n",
      "93/93 [==============================] - 0s 102us/step - loss: 1.4371 - acc: 0.4624 - val_loss: 1.5262 - val_acc: 0.3333\n",
      "Epoch 94/350\n",
      "93/93 [==============================] - 0s 108us/step - loss: 1.4348 - acc: 0.4624 - val_loss: 1.5248 - val_acc: 0.3333\n",
      "Epoch 95/350\n",
      "93/93 [==============================] - 0s 83us/step - loss: 1.4326 - acc: 0.4624 - val_loss: 1.5230 - val_acc: 0.3333\n",
      "Epoch 96/350\n",
      "93/93 [==============================] - 0s 83us/step - loss: 1.4304 - acc: 0.4624 - val_loss: 1.5216 - val_acc: 0.3750\n",
      "Epoch 97/350\n",
      "93/93 [==============================] - 0s 79us/step - loss: 1.4282 - acc: 0.4624 - val_loss: 1.5194 - val_acc: 0.3750\n",
      "Epoch 98/350\n",
      "93/93 [==============================] - 0s 92us/step - loss: 1.4256 - acc: 0.4624 - val_loss: 1.5175 - val_acc: 0.3750\n",
      "Epoch 99/350\n",
      "93/93 [==============================] - 0s 94us/step - loss: 1.4233 - acc: 0.4624 - val_loss: 1.5159 - val_acc: 0.3750\n",
      "Epoch 100/350\n",
      "93/93 [==============================] - 0s 89us/step - loss: 1.4210 - acc: 0.4624 - val_loss: 1.5145 - val_acc: 0.3750\n",
      "Epoch 101/350\n",
      "93/93 [==============================] - 0s 83us/step - loss: 1.4188 - acc: 0.4624 - val_loss: 1.5132 - val_acc: 0.3750\n",
      "Epoch 102/350\n",
      "93/93 [==============================] - 0s 76us/step - loss: 1.4164 - acc: 0.4731 - val_loss: 1.5112 - val_acc: 0.3750\n",
      "Epoch 103/350\n",
      "93/93 [==============================] - 0s 83us/step - loss: 1.4140 - acc: 0.4731 - val_loss: 1.5094 - val_acc: 0.3750\n",
      "Epoch 104/350\n",
      "93/93 [==============================] - 0s 77us/step - loss: 1.4119 - acc: 0.4731 - val_loss: 1.5081 - val_acc: 0.3750\n",
      "Epoch 105/350\n",
      "93/93 [==============================] - 0s 89us/step - loss: 1.4092 - acc: 0.4731 - val_loss: 1.5063 - val_acc: 0.3750\n",
      "Epoch 106/350\n",
      "93/93 [==============================] - 0s 79us/step - loss: 1.4069 - acc: 0.4731 - val_loss: 1.5042 - val_acc: 0.3750\n",
      "Epoch 107/350\n",
      "93/93 [==============================] - 0s 82us/step - loss: 1.4044 - acc: 0.4731 - val_loss: 1.5017 - val_acc: 0.3750\n",
      "Epoch 108/350\n",
      "93/93 [==============================] - 0s 84us/step - loss: 1.4017 - acc: 0.4624 - val_loss: 1.4997 - val_acc: 0.3750\n",
      "Epoch 109/350\n",
      "93/93 [==============================] - 0s 83us/step - loss: 1.3991 - acc: 0.4624 - val_loss: 1.4977 - val_acc: 0.4167\n",
      "Epoch 110/350\n",
      "93/93 [==============================] - 0s 92us/step - loss: 1.3965 - acc: 0.4624 - val_loss: 1.4956 - val_acc: 0.4167\n",
      "Epoch 111/350\n",
      "93/93 [==============================] - 0s 85us/step - loss: 1.3940 - acc: 0.4624 - val_loss: 1.4938 - val_acc: 0.4167\n",
      "Epoch 112/350\n",
      "93/93 [==============================] - 0s 83us/step - loss: 1.3916 - acc: 0.4731 - val_loss: 1.4921 - val_acc: 0.4167\n",
      "Epoch 113/350\n",
      "93/93 [==============================] - 0s 95us/step - loss: 1.3892 - acc: 0.4731 - val_loss: 1.4903 - val_acc: 0.4167\n",
      "Epoch 114/350\n",
      "93/93 [==============================] - 0s 88us/step - loss: 1.3867 - acc: 0.4731 - val_loss: 1.4881 - val_acc: 0.4167\n",
      "Epoch 115/350\n",
      "93/93 [==============================] - 0s 77us/step - loss: 1.3840 - acc: 0.4731 - val_loss: 1.4864 - val_acc: 0.4167\n",
      "Epoch 116/350\n",
      "93/93 [==============================] - 0s 68us/step - loss: 1.3813 - acc: 0.4731 - val_loss: 1.4848 - val_acc: 0.4167\n",
      "Epoch 117/350\n",
      "93/93 [==============================] - 0s 73us/step - loss: 1.3788 - acc: 0.4731 - val_loss: 1.4832 - val_acc: 0.4167\n",
      "Epoch 118/350\n",
      "93/93 [==============================] - 0s 67us/step - loss: 1.3764 - acc: 0.4731 - val_loss: 1.4818 - val_acc: 0.4167\n",
      "Epoch 119/350\n",
      "93/93 [==============================] - 0s 67us/step - loss: 1.3739 - acc: 0.4731 - val_loss: 1.4805 - val_acc: 0.4167\n",
      "Epoch 120/350\n",
      "93/93 [==============================] - 0s 80us/step - loss: 1.3717 - acc: 0.4731 - val_loss: 1.4786 - val_acc: 0.4167\n",
      "Epoch 121/350\n",
      "93/93 [==============================] - 0s 90us/step - loss: 1.3687 - acc: 0.4731 - val_loss: 1.4768 - val_acc: 0.4167\n",
      "Epoch 122/350\n",
      "93/93 [==============================] - 0s 91us/step - loss: 1.3661 - acc: 0.4731 - val_loss: 1.4754 - val_acc: 0.4167\n",
      "Epoch 123/350\n",
      "93/93 [==============================] - 0s 91us/step - loss: 1.3638 - acc: 0.4731 - val_loss: 1.4735 - val_acc: 0.4167\n",
      "Epoch 124/350\n",
      "93/93 [==============================] - 0s 88us/step - loss: 1.3609 - acc: 0.4946 - val_loss: 1.4720 - val_acc: 0.4167\n",
      "Epoch 125/350\n",
      "93/93 [==============================] - 0s 89us/step - loss: 1.3585 - acc: 0.4839 - val_loss: 1.4704 - val_acc: 0.4167\n",
      "Epoch 126/350\n",
      "93/93 [==============================] - 0s 88us/step - loss: 1.3556 - acc: 0.4839 - val_loss: 1.4682 - val_acc: 0.4167\n",
      "Epoch 127/350\n",
      "93/93 [==============================] - 0s 93us/step - loss: 1.3530 - acc: 0.4839 - val_loss: 1.4665 - val_acc: 0.4167\n",
      "Epoch 128/350\n",
      "93/93 [==============================] - 0s 88us/step - loss: 1.3502 - acc: 0.4839 - val_loss: 1.4642 - val_acc: 0.4167\n",
      "Epoch 129/350\n",
      "93/93 [==============================] - 0s 72us/step - loss: 1.3476 - acc: 0.4839 - val_loss: 1.4630 - val_acc: 0.4167\n",
      "Epoch 130/350\n",
      "93/93 [==============================] - 0s 70us/step - loss: 1.3448 - acc: 0.4946 - val_loss: 1.4615 - val_acc: 0.4167\n",
      "Epoch 131/350\n",
      "93/93 [==============================] - 0s 83us/step - loss: 1.3423 - acc: 0.4946 - val_loss: 1.4600 - val_acc: 0.4167\n",
      "Epoch 132/350\n",
      "93/93 [==============================] - 0s 93us/step - loss: 1.3397 - acc: 0.4946 - val_loss: 1.4583 - val_acc: 0.3750\n",
      "Epoch 133/350\n",
      "93/93 [==============================] - 0s 78us/step - loss: 1.3372 - acc: 0.4946 - val_loss: 1.4567 - val_acc: 0.3750\n",
      "Epoch 134/350\n",
      "93/93 [==============================] - 0s 84us/step - loss: 1.3347 - acc: 0.5054 - val_loss: 1.4549 - val_acc: 0.3750\n",
      "Epoch 135/350\n",
      "93/93 [==============================] - 0s 89us/step - loss: 1.3321 - acc: 0.5054 - val_loss: 1.4534 - val_acc: 0.3750\n",
      "Epoch 136/350\n",
      "93/93 [==============================] - 0s 90us/step - loss: 1.3298 - acc: 0.4946 - val_loss: 1.4525 - val_acc: 0.3750\n",
      "Epoch 137/350\n",
      "93/93 [==============================] - 0s 77us/step - loss: 1.3271 - acc: 0.5054 - val_loss: 1.4504 - val_acc: 0.3750\n",
      "Epoch 138/350\n",
      "93/93 [==============================] - 0s 98us/step - loss: 1.3244 - acc: 0.5054 - val_loss: 1.4481 - val_acc: 0.3750\n",
      "Epoch 139/350\n",
      "93/93 [==============================] - 0s 72us/step - loss: 1.3216 - acc: 0.4946 - val_loss: 1.4463 - val_acc: 0.3750\n",
      "Epoch 140/350\n",
      "93/93 [==============================] - 0s 72us/step - loss: 1.3189 - acc: 0.4946 - val_loss: 1.4443 - val_acc: 0.3750\n",
      "Epoch 141/350\n",
      "93/93 [==============================] - 0s 86us/step - loss: 1.3160 - acc: 0.5054 - val_loss: 1.4429 - val_acc: 0.3750\n",
      "Epoch 142/350\n",
      "93/93 [==============================] - 0s 75us/step - loss: 1.3131 - acc: 0.5054 - val_loss: 1.4408 - val_acc: 0.3750\n",
      "Epoch 143/350\n",
      "93/93 [==============================] - 0s 66us/step - loss: 1.3104 - acc: 0.4946 - val_loss: 1.4385 - val_acc: 0.3750\n",
      "Epoch 144/350\n",
      "93/93 [==============================] - 0s 85us/step - loss: 1.3076 - acc: 0.5054 - val_loss: 1.4370 - val_acc: 0.3750\n",
      "Epoch 145/350\n",
      "93/93 [==============================] - 0s 78us/step - loss: 1.3048 - acc: 0.4946 - val_loss: 1.4344 - val_acc: 0.3750\n",
      "Epoch 146/350\n",
      "93/93 [==============================] - 0s 102us/step - loss: 1.3019 - acc: 0.4946 - val_loss: 1.4330 - val_acc: 0.3750\n",
      "Epoch 147/350\n",
      "93/93 [==============================] - 0s 81us/step - loss: 1.2990 - acc: 0.4946 - val_loss: 1.4310 - val_acc: 0.3750\n",
      "Epoch 148/350\n",
      "93/93 [==============================] - 0s 81us/step - loss: 1.2965 - acc: 0.5054 - val_loss: 1.4298 - val_acc: 0.3750\n",
      "Epoch 149/350\n",
      "93/93 [==============================] - 0s 88us/step - loss: 1.2937 - acc: 0.4946 - val_loss: 1.4283 - val_acc: 0.3750\n",
      "Epoch 150/350\n",
      "93/93 [==============================] - 0s 90us/step - loss: 1.2910 - acc: 0.4946 - val_loss: 1.4262 - val_acc: 0.3750\n",
      "Epoch 151/350\n",
      "93/93 [==============================] - 0s 88us/step - loss: 1.2882 - acc: 0.5161 - val_loss: 1.4245 - val_acc: 0.3750\n",
      "Epoch 152/350\n",
      "93/93 [==============================] - 0s 92us/step - loss: 1.2853 - acc: 0.5161 - val_loss: 1.4225 - val_acc: 0.3750\n",
      "Epoch 153/350\n",
      "93/93 [==============================] - 0s 82us/step - loss: 1.2825 - acc: 0.5161 - val_loss: 1.4210 - val_acc: 0.3750\n",
      "Epoch 154/350\n",
      "93/93 [==============================] - 0s 90us/step - loss: 1.2799 - acc: 0.5161 - val_loss: 1.4181 - val_acc: 0.3750\n",
      "Epoch 155/350\n",
      "93/93 [==============================] - 0s 91us/step - loss: 1.2770 - acc: 0.5269 - val_loss: 1.4166 - val_acc: 0.3750\n",
      "Epoch 156/350\n",
      "93/93 [==============================] - 0s 93us/step - loss: 1.2742 - acc: 0.5269 - val_loss: 1.4150 - val_acc: 0.3750\n",
      "Epoch 157/350\n",
      "93/93 [==============================] - 0s 87us/step - loss: 1.2716 - acc: 0.5269 - val_loss: 1.4135 - val_acc: 0.3750\n",
      "Epoch 158/350\n",
      "93/93 [==============================] - 0s 88us/step - loss: 1.2688 - acc: 0.5161 - val_loss: 1.4119 - val_acc: 0.3750\n",
      "Epoch 159/350\n",
      "93/93 [==============================] - 0s 95us/step - loss: 1.2662 - acc: 0.5161 - val_loss: 1.4100 - val_acc: 0.3750\n",
      "Epoch 160/350\n",
      "93/93 [==============================] - 0s 85us/step - loss: 1.2635 - acc: 0.4946 - val_loss: 1.4084 - val_acc: 0.3750\n",
      "Epoch 161/350\n",
      "93/93 [==============================] - 0s 102us/step - loss: 1.2610 - acc: 0.4839 - val_loss: 1.4068 - val_acc: 0.3750\n",
      "Epoch 162/350\n",
      "93/93 [==============================] - 0s 101us/step - loss: 1.2582 - acc: 0.5054 - val_loss: 1.4053 - val_acc: 0.3750\n",
      "Epoch 163/350\n",
      "93/93 [==============================] - 0s 92us/step - loss: 1.2557 - acc: 0.5054 - val_loss: 1.4031 - val_acc: 0.3750\n",
      "Epoch 164/350\n",
      "93/93 [==============================] - 0s 107us/step - loss: 1.2532 - acc: 0.5161 - val_loss: 1.4023 - val_acc: 0.3750\n",
      "Epoch 165/350\n",
      "93/93 [==============================] - 0s 96us/step - loss: 1.2505 - acc: 0.5161 - val_loss: 1.4006 - val_acc: 0.3750\n",
      "Epoch 166/350\n",
      "93/93 [==============================] - 0s 98us/step - loss: 1.2484 - acc: 0.5269 - val_loss: 1.4002 - val_acc: 0.3750\n",
      "Epoch 167/350\n",
      "93/93 [==============================] - 0s 97us/step - loss: 1.2457 - acc: 0.5269 - val_loss: 1.3983 - val_acc: 0.3750\n",
      "Epoch 168/350\n",
      "93/93 [==============================] - 0s 88us/step - loss: 1.2431 - acc: 0.5269 - val_loss: 1.3972 - val_acc: 0.3750\n",
      "Epoch 169/350\n",
      "93/93 [==============================] - 0s 93us/step - loss: 1.2406 - acc: 0.5269 - val_loss: 1.3956 - val_acc: 0.3750\n",
      "Epoch 170/350\n",
      "93/93 [==============================] - 0s 84us/step - loss: 1.2381 - acc: 0.5269 - val_loss: 1.3946 - val_acc: 0.3750\n",
      "Epoch 171/350\n",
      "93/93 [==============================] - 0s 84us/step - loss: 1.2358 - acc: 0.5269 - val_loss: 1.3935 - val_acc: 0.3750\n",
      "Epoch 172/350\n",
      "93/93 [==============================] - 0s 82us/step - loss: 1.2333 - acc: 0.5269 - val_loss: 1.3911 - val_acc: 0.3750\n",
      "Epoch 173/350\n",
      "93/93 [==============================] - 0s 89us/step - loss: 1.2308 - acc: 0.5269 - val_loss: 1.3900 - val_acc: 0.3750\n",
      "Epoch 174/350\n",
      "93/93 [==============================] - 0s 96us/step - loss: 1.2283 - acc: 0.5269 - val_loss: 1.3882 - val_acc: 0.3750\n",
      "Epoch 175/350\n",
      "93/93 [==============================] - 0s 85us/step - loss: 1.2258 - acc: 0.5269 - val_loss: 1.3868 - val_acc: 0.3750\n",
      "Epoch 176/350\n",
      "93/93 [==============================] - 0s 90us/step - loss: 1.2233 - acc: 0.5269 - val_loss: 1.3857 - val_acc: 0.3750\n",
      "Epoch 177/350\n",
      "93/93 [==============================] - 0s 94us/step - loss: 1.2208 - acc: 0.5269 - val_loss: 1.3846 - val_acc: 0.3750\n",
      "Epoch 178/350\n",
      "93/93 [==============================] - 0s 86us/step - loss: 1.2183 - acc: 0.5269 - val_loss: 1.3833 - val_acc: 0.3750\n",
      "Epoch 179/350\n",
      "93/93 [==============================] - 0s 86us/step - loss: 1.2163 - acc: 0.5269 - val_loss: 1.3823 - val_acc: 0.3750\n",
      "Epoch 180/350\n",
      "93/93 [==============================] - 0s 84us/step - loss: 1.2137 - acc: 0.5376 - val_loss: 1.3808 - val_acc: 0.3750\n",
      "Epoch 181/350\n",
      "93/93 [==============================] - 0s 83us/step - loss: 1.2112 - acc: 0.5376 - val_loss: 1.3786 - val_acc: 0.3750\n",
      "Epoch 182/350\n",
      "93/93 [==============================] - 0s 82us/step - loss: 1.2087 - acc: 0.5376 - val_loss: 1.3772 - val_acc: 0.3750\n",
      "Epoch 183/350\n",
      "93/93 [==============================] - 0s 90us/step - loss: 1.2062 - acc: 0.5376 - val_loss: 1.3758 - val_acc: 0.3750\n",
      "Epoch 184/350\n",
      "93/93 [==============================] - 0s 84us/step - loss: 1.2037 - acc: 0.5484 - val_loss: 1.3744 - val_acc: 0.3750\n",
      "Epoch 185/350\n",
      "93/93 [==============================] - 0s 84us/step - loss: 1.2013 - acc: 0.5376 - val_loss: 1.3722 - val_acc: 0.3750\n",
      "Epoch 186/350\n",
      "93/93 [==============================] - 0s 85us/step - loss: 1.1986 - acc: 0.5376 - val_loss: 1.3705 - val_acc: 0.3750\n",
      "Epoch 187/350\n",
      "93/93 [==============================] - 0s 98us/step - loss: 1.1965 - acc: 0.5269 - val_loss: 1.3693 - val_acc: 0.3750\n",
      "Epoch 188/350\n",
      "93/93 [==============================] - 0s 99us/step - loss: 1.1941 - acc: 0.5376 - val_loss: 1.3685 - val_acc: 0.3750\n",
      "Epoch 189/350\n",
      "93/93 [==============================] - 0s 89us/step - loss: 1.1918 - acc: 0.5376 - val_loss: 1.3678 - val_acc: 0.3750\n",
      "Epoch 190/350\n",
      "93/93 [==============================] - 0s 82us/step - loss: 1.1899 - acc: 0.5376 - val_loss: 1.3662 - val_acc: 0.3750\n",
      "Epoch 191/350\n",
      "93/93 [==============================] - 0s 103us/step - loss: 1.1872 - acc: 0.5376 - val_loss: 1.3651 - val_acc: 0.3750\n",
      "Epoch 192/350\n",
      "93/93 [==============================] - 0s 95us/step - loss: 1.1848 - acc: 0.5484 - val_loss: 1.3638 - val_acc: 0.3750\n",
      "Epoch 193/350\n",
      "93/93 [==============================] - 0s 107us/step - loss: 1.1829 - acc: 0.5376 - val_loss: 1.3626 - val_acc: 0.3750\n",
      "Epoch 194/350\n",
      "93/93 [==============================] - 0s 100us/step - loss: 1.1802 - acc: 0.5376 - val_loss: 1.3609 - val_acc: 0.3750\n",
      "Epoch 195/350\n",
      "93/93 [==============================] - 0s 97us/step - loss: 1.1779 - acc: 0.5484 - val_loss: 1.3597 - val_acc: 0.3750\n",
      "Epoch 196/350\n",
      "93/93 [==============================] - 0s 74us/step - loss: 1.1761 - acc: 0.5484 - val_loss: 1.3594 - val_acc: 0.3750\n",
      "Epoch 197/350\n",
      "93/93 [==============================] - 0s 75us/step - loss: 1.1734 - acc: 0.5484 - val_loss: 1.3582 - val_acc: 0.3750\n",
      "Epoch 198/350\n",
      "93/93 [==============================] - 0s 81us/step - loss: 1.1713 - acc: 0.5484 - val_loss: 1.3569 - val_acc: 0.3750\n",
      "Epoch 199/350\n",
      "93/93 [==============================] - 0s 82us/step - loss: 1.1691 - acc: 0.5484 - val_loss: 1.3564 - val_acc: 0.3750\n",
      "Epoch 200/350\n",
      "93/93 [==============================] - 0s 80us/step - loss: 1.1669 - acc: 0.5484 - val_loss: 1.3551 - val_acc: 0.3750\n",
      "Epoch 201/350\n",
      "93/93 [==============================] - 0s 76us/step - loss: 1.1647 - acc: 0.5484 - val_loss: 1.3542 - val_acc: 0.3750\n",
      "Epoch 202/350\n",
      "93/93 [==============================] - 0s 92us/step - loss: 1.1625 - acc: 0.5484 - val_loss: 1.3531 - val_acc: 0.3750\n",
      "Epoch 203/350\n",
      "93/93 [==============================] - 0s 88us/step - loss: 1.1606 - acc: 0.5484 - val_loss: 1.3524 - val_acc: 0.3750\n",
      "Epoch 204/350\n",
      "93/93 [==============================] - 0s 92us/step - loss: 1.1581 - acc: 0.5484 - val_loss: 1.3516 - val_acc: 0.3750\n",
      "Epoch 205/350\n",
      "93/93 [==============================] - 0s 89us/step - loss: 1.1560 - acc: 0.5484 - val_loss: 1.3502 - val_acc: 0.3750\n",
      "Epoch 206/350\n",
      "93/93 [==============================] - 0s 80us/step - loss: 1.1536 - acc: 0.5484 - val_loss: 1.3493 - val_acc: 0.3750\n",
      "Epoch 207/350\n",
      "93/93 [==============================] - 0s 91us/step - loss: 1.1516 - acc: 0.5484 - val_loss: 1.3484 - val_acc: 0.3750\n",
      "Epoch 208/350\n",
      "93/93 [==============================] - 0s 94us/step - loss: 1.1496 - acc: 0.5376 - val_loss: 1.3473 - val_acc: 0.3750\n",
      "Epoch 209/350\n",
      "93/93 [==============================] - 0s 63us/step - loss: 1.1473 - acc: 0.5484 - val_loss: 1.3465 - val_acc: 0.3750\n",
      "Epoch 210/350\n",
      "93/93 [==============================] - 0s 62us/step - loss: 1.1453 - acc: 0.5699 - val_loss: 1.3456 - val_acc: 0.3750\n",
      "Epoch 211/350\n",
      "93/93 [==============================] - 0s 78us/step - loss: 1.1433 - acc: 0.5591 - val_loss: 1.3440 - val_acc: 0.3750\n",
      "Epoch 212/350\n",
      "93/93 [==============================] - 0s 79us/step - loss: 1.1410 - acc: 0.5699 - val_loss: 1.3426 - val_acc: 0.3750\n",
      "Epoch 213/350\n",
      "93/93 [==============================] - 0s 88us/step - loss: 1.1389 - acc: 0.5591 - val_loss: 1.3412 - val_acc: 0.3750\n",
      "Epoch 214/350\n",
      "93/93 [==============================] - 0s 79us/step - loss: 1.1368 - acc: 0.5591 - val_loss: 1.3397 - val_acc: 0.3750\n",
      "Epoch 215/350\n",
      "93/93 [==============================] - 0s 89us/step - loss: 1.1348 - acc: 0.5591 - val_loss: 1.3387 - val_acc: 0.3750\n",
      "Epoch 216/350\n",
      "93/93 [==============================] - 0s 83us/step - loss: 1.1328 - acc: 0.5591 - val_loss: 1.3375 - val_acc: 0.3750\n",
      "Epoch 217/350\n",
      "93/93 [==============================] - 0s 90us/step - loss: 1.1308 - acc: 0.5806 - val_loss: 1.3370 - val_acc: 0.3750\n",
      "Epoch 218/350\n",
      "93/93 [==============================] - 0s 103us/step - loss: 1.1289 - acc: 0.5699 - val_loss: 1.3350 - val_acc: 0.3750\n",
      "Epoch 219/350\n",
      "93/93 [==============================] - 0s 61us/step - loss: 1.1270 - acc: 0.5699 - val_loss: 1.3346 - val_acc: 0.3750\n",
      "Epoch 220/350\n",
      "93/93 [==============================] - 0s 90us/step - loss: 1.1254 - acc: 0.5699 - val_loss: 1.3341 - val_acc: 0.3750\n",
      "Epoch 221/350\n",
      "93/93 [==============================] - 0s 114us/step - loss: 1.1232 - acc: 0.5591 - val_loss: 1.3327 - val_acc: 0.3750\n",
      "Epoch 222/350\n",
      "93/93 [==============================] - 0s 132us/step - loss: 1.1218 - acc: 0.5699 - val_loss: 1.3326 - val_acc: 0.3750\n",
      "Epoch 223/350\n",
      "93/93 [==============================] - 0s 88us/step - loss: 1.1195 - acc: 0.5699 - val_loss: 1.3326 - val_acc: 0.3750\n",
      "Epoch 224/350\n",
      "93/93 [==============================] - 0s 84us/step - loss: 1.1176 - acc: 0.5699 - val_loss: 1.3315 - val_acc: 0.3750\n",
      "Epoch 225/350\n",
      "93/93 [==============================] - 0s 139us/step - loss: 1.1157 - acc: 0.5699 - val_loss: 1.3310 - val_acc: 0.3750\n",
      "Epoch 226/350\n",
      "93/93 [==============================] - 0s 150us/step - loss: 1.1140 - acc: 0.5699 - val_loss: 1.3306 - val_acc: 0.3750\n",
      "Epoch 227/350\n",
      "93/93 [==============================] - 0s 122us/step - loss: 1.1124 - acc: 0.5699 - val_loss: 1.3307 - val_acc: 0.3750\n",
      "Epoch 228/350\n",
      "93/93 [==============================] - 0s 137us/step - loss: 1.1103 - acc: 0.5591 - val_loss: 1.3302 - val_acc: 0.3333\n",
      "Epoch 229/350\n",
      "93/93 [==============================] - 0s 133us/step - loss: 1.1087 - acc: 0.5699 - val_loss: 1.3301 - val_acc: 0.3333\n",
      "Epoch 230/350\n",
      "93/93 [==============================] - 0s 149us/step - loss: 1.1070 - acc: 0.5591 - val_loss: 1.3302 - val_acc: 0.3333\n",
      "Epoch 231/350\n",
      "93/93 [==============================] - 0s 112us/step - loss: 1.1052 - acc: 0.5699 - val_loss: 1.3289 - val_acc: 0.3333\n",
      "Epoch 232/350\n",
      "93/93 [==============================] - 0s 130us/step - loss: 1.1033 - acc: 0.5591 - val_loss: 1.3272 - val_acc: 0.3750\n",
      "Epoch 233/350\n",
      "93/93 [==============================] - 0s 126us/step - loss: 1.1011 - acc: 0.5591 - val_loss: 1.3271 - val_acc: 0.3750\n",
      "Epoch 234/350\n",
      "93/93 [==============================] - 0s 105us/step - loss: 1.0996 - acc: 0.5806 - val_loss: 1.3256 - val_acc: 0.3750\n",
      "Epoch 235/350\n",
      "93/93 [==============================] - 0s 108us/step - loss: 1.0974 - acc: 0.5699 - val_loss: 1.3243 - val_acc: 0.3750\n",
      "Epoch 236/350\n",
      "93/93 [==============================] - 0s 124us/step - loss: 1.0956 - acc: 0.5806 - val_loss: 1.3227 - val_acc: 0.3750\n",
      "Epoch 237/350\n",
      "93/93 [==============================] - 0s 112us/step - loss: 1.0934 - acc: 0.5806 - val_loss: 1.3213 - val_acc: 0.3750\n",
      "Epoch 238/350\n",
      "93/93 [==============================] - 0s 130us/step - loss: 1.0914 - acc: 0.5806 - val_loss: 1.3203 - val_acc: 0.3750\n",
      "Epoch 239/350\n",
      "93/93 [==============================] - 0s 136us/step - loss: 1.0899 - acc: 0.5806 - val_loss: 1.3199 - val_acc: 0.4167\n",
      "Epoch 240/350\n",
      "93/93 [==============================] - 0s 127us/step - loss: 1.0877 - acc: 0.5806 - val_loss: 1.3193 - val_acc: 0.4167\n",
      "Epoch 241/350\n",
      "93/93 [==============================] - 0s 148us/step - loss: 1.0861 - acc: 0.5806 - val_loss: 1.3187 - val_acc: 0.3750\n",
      "Epoch 242/350\n",
      "93/93 [==============================] - 0s 155us/step - loss: 1.0846 - acc: 0.5806 - val_loss: 1.3182 - val_acc: 0.4167\n",
      "Epoch 243/350\n",
      "93/93 [==============================] - 0s 154us/step - loss: 1.0825 - acc: 0.5806 - val_loss: 1.3174 - val_acc: 0.4167\n",
      "Epoch 244/350\n",
      "93/93 [==============================] - 0s 125us/step - loss: 1.0809 - acc: 0.5806 - val_loss: 1.3177 - val_acc: 0.3750\n",
      "Epoch 245/350\n",
      "93/93 [==============================] - 0s 153us/step - loss: 1.0790 - acc: 0.5806 - val_loss: 1.3174 - val_acc: 0.4167\n",
      "Epoch 246/350\n",
      "93/93 [==============================] - 0s 124us/step - loss: 1.0774 - acc: 0.5806 - val_loss: 1.3177 - val_acc: 0.4167\n",
      "Epoch 247/350\n",
      "93/93 [==============================] - 0s 103us/step - loss: 1.0757 - acc: 0.5806 - val_loss: 1.3158 - val_acc: 0.4167\n",
      "Epoch 248/350\n",
      "93/93 [==============================] - 0s 120us/step - loss: 1.0741 - acc: 0.5806 - val_loss: 1.3146 - val_acc: 0.4167\n",
      "Epoch 249/350\n",
      "93/93 [==============================] - 0s 142us/step - loss: 1.0722 - acc: 0.5806 - val_loss: 1.3147 - val_acc: 0.4167\n",
      "Epoch 250/350\n",
      "93/93 [==============================] - 0s 134us/step - loss: 1.0702 - acc: 0.5806 - val_loss: 1.3142 - val_acc: 0.4167\n",
      "Epoch 251/350\n",
      "93/93 [==============================] - 0s 91us/step - loss: 1.0686 - acc: 0.5806 - val_loss: 1.3147 - val_acc: 0.4167\n",
      "Epoch 252/350\n",
      "93/93 [==============================] - 0s 95us/step - loss: 1.0670 - acc: 0.5806 - val_loss: 1.3136 - val_acc: 0.4167\n",
      "Epoch 253/350\n",
      "93/93 [==============================] - 0s 115us/step - loss: 1.0652 - acc: 0.5806 - val_loss: 1.3135 - val_acc: 0.4167\n",
      "Epoch 254/350\n",
      "93/93 [==============================] - 0s 145us/step - loss: 1.0644 - acc: 0.5806 - val_loss: 1.3126 - val_acc: 0.4167\n",
      "Epoch 255/350\n",
      "93/93 [==============================] - 0s 87us/step - loss: 1.0619 - acc: 0.5806 - val_loss: 1.3115 - val_acc: 0.4167\n",
      "Epoch 256/350\n",
      "93/93 [==============================] - 0s 88us/step - loss: 1.0615 - acc: 0.5806 - val_loss: 1.3117 - val_acc: 0.4583\n",
      "Epoch 257/350\n",
      "93/93 [==============================] - 0s 92us/step - loss: 1.0587 - acc: 0.5914 - val_loss: 1.3120 - val_acc: 0.4167\n",
      "Epoch 258/350\n",
      "93/93 [==============================] - 0s 81us/step - loss: 1.0573 - acc: 0.5806 - val_loss: 1.3110 - val_acc: 0.4167\n",
      "Epoch 259/350\n",
      "93/93 [==============================] - 0s 81us/step - loss: 1.0549 - acc: 0.5806 - val_loss: 1.3102 - val_acc: 0.4167\n",
      "Epoch 260/350\n",
      "93/93 [==============================] - 0s 84us/step - loss: 1.0533 - acc: 0.5806 - val_loss: 1.3101 - val_acc: 0.4167\n",
      "Epoch 261/350\n",
      "93/93 [==============================] - 0s 95us/step - loss: 1.0519 - acc: 0.5806 - val_loss: 1.3107 - val_acc: 0.4167\n",
      "Epoch 262/350\n",
      "93/93 [==============================] - 0s 89us/step - loss: 1.0498 - acc: 0.5806 - val_loss: 1.3102 - val_acc: 0.4167\n",
      "Epoch 263/350\n",
      "93/93 [==============================] - 0s 83us/step - loss: 1.0485 - acc: 0.5806 - val_loss: 1.3100 - val_acc: 0.4167\n",
      "Epoch 264/350\n",
      "93/93 [==============================] - 0s 81us/step - loss: 1.0470 - acc: 0.5806 - val_loss: 1.3092 - val_acc: 0.4167\n",
      "Epoch 265/350\n",
      "93/93 [==============================] - 0s 75us/step - loss: 1.0454 - acc: 0.5806 - val_loss: 1.3100 - val_acc: 0.4167\n",
      "Epoch 266/350\n",
      "93/93 [==============================] - 0s 83us/step - loss: 1.0435 - acc: 0.5806 - val_loss: 1.3091 - val_acc: 0.4167\n",
      "Epoch 267/350\n",
      "93/93 [==============================] - 0s 139us/step - loss: 1.0421 - acc: 0.5806 - val_loss: 1.3075 - val_acc: 0.4167\n",
      "Epoch 268/350\n",
      "93/93 [==============================] - 0s 83us/step - loss: 1.0397 - acc: 0.5806 - val_loss: 1.3069 - val_acc: 0.4167\n",
      "Epoch 269/350\n",
      "93/93 [==============================] - 0s 80us/step - loss: 1.0386 - acc: 0.5806 - val_loss: 1.3074 - val_acc: 0.4167\n",
      "Epoch 270/350\n",
      "93/93 [==============================] - 0s 72us/step - loss: 1.0366 - acc: 0.5806 - val_loss: 1.3079 - val_acc: 0.4167\n",
      "Epoch 271/350\n",
      "93/93 [==============================] - 0s 67us/step - loss: 1.0352 - acc: 0.5806 - val_loss: 1.3079 - val_acc: 0.4167\n",
      "Epoch 272/350\n",
      "93/93 [==============================] - 0s 86us/step - loss: 1.0335 - acc: 0.5806 - val_loss: 1.3077 - val_acc: 0.4167\n",
      "Epoch 273/350\n",
      "93/93 [==============================] - 0s 75us/step - loss: 1.0320 - acc: 0.5806 - val_loss: 1.3070 - val_acc: 0.4167\n",
      "Epoch 274/350\n",
      "93/93 [==============================] - 0s 76us/step - loss: 1.0307 - acc: 0.5806 - val_loss: 1.3062 - val_acc: 0.4167\n",
      "Epoch 275/350\n",
      "93/93 [==============================] - 0s 81us/step - loss: 1.0290 - acc: 0.5806 - val_loss: 1.3058 - val_acc: 0.4167\n",
      "Epoch 276/350\n",
      "93/93 [==============================] - 0s 76us/step - loss: 1.0275 - acc: 0.5806 - val_loss: 1.3049 - val_acc: 0.4167\n",
      "Epoch 277/350\n",
      "93/93 [==============================] - 0s 69us/step - loss: 1.0259 - acc: 0.5806 - val_loss: 1.3045 - val_acc: 0.4167\n",
      "Epoch 278/350\n",
      "93/93 [==============================] - 0s 73us/step - loss: 1.0243 - acc: 0.5806 - val_loss: 1.3046 - val_acc: 0.4167\n",
      "Epoch 279/350\n",
      "93/93 [==============================] - 0s 78us/step - loss: 1.0227 - acc: 0.5806 - val_loss: 1.3041 - val_acc: 0.4167\n",
      "Epoch 280/350\n",
      "93/93 [==============================] - 0s 70us/step - loss: 1.0210 - acc: 0.5806 - val_loss: 1.3035 - val_acc: 0.4167\n",
      "Epoch 281/350\n",
      "93/93 [==============================] - 0s 88us/step - loss: 1.0195 - acc: 0.5806 - val_loss: 1.3027 - val_acc: 0.4167\n",
      "Epoch 282/350\n",
      "93/93 [==============================] - 0s 87us/step - loss: 1.0184 - acc: 0.5806 - val_loss: 1.3016 - val_acc: 0.4167\n",
      "Epoch 283/350\n",
      "93/93 [==============================] - 0s 80us/step - loss: 1.0167 - acc: 0.5806 - val_loss: 1.3007 - val_acc: 0.4167\n",
      "Epoch 284/350\n",
      "93/93 [==============================] - 0s 70us/step - loss: 1.0155 - acc: 0.5914 - val_loss: 1.3012 - val_acc: 0.4167\n",
      "Epoch 285/350\n",
      "93/93 [==============================] - 0s 147us/step - loss: 1.0142 - acc: 0.5806 - val_loss: 1.3021 - val_acc: 0.4167\n",
      "Epoch 286/350\n",
      "93/93 [==============================] - 0s 79us/step - loss: 1.0127 - acc: 0.5806 - val_loss: 1.3028 - val_acc: 0.4167\n",
      "Epoch 287/350\n",
      "93/93 [==============================] - 0s 90us/step - loss: 1.0114 - acc: 0.5806 - val_loss: 1.3018 - val_acc: 0.4167\n",
      "Epoch 288/350\n",
      "93/93 [==============================] - 0s 80us/step - loss: 1.0100 - acc: 0.5914 - val_loss: 1.3014 - val_acc: 0.4167\n",
      "Epoch 289/350\n",
      "93/93 [==============================] - 0s 75us/step - loss: 1.0091 - acc: 0.5914 - val_loss: 1.3017 - val_acc: 0.4167\n",
      "Epoch 290/350\n",
      "93/93 [==============================] - 0s 71us/step - loss: 1.0073 - acc: 0.5914 - val_loss: 1.3006 - val_acc: 0.4167\n",
      "Epoch 291/350\n",
      "93/93 [==============================] - 0s 89us/step - loss: 1.0057 - acc: 0.5914 - val_loss: 1.3000 - val_acc: 0.4167\n",
      "Epoch 292/350\n",
      "93/93 [==============================] - 0s 83us/step - loss: 1.0045 - acc: 0.5914 - val_loss: 1.2998 - val_acc: 0.4167\n",
      "Epoch 293/350\n",
      "93/93 [==============================] - 0s 81us/step - loss: 1.0038 - acc: 0.5914 - val_loss: 1.2998 - val_acc: 0.4583\n",
      "Epoch 294/350\n",
      "93/93 [==============================] - 0s 65us/step - loss: 1.0024 - acc: 0.6129 - val_loss: 1.2997 - val_acc: 0.5000\n",
      "Epoch 295/350\n",
      "93/93 [==============================] - 0s 66us/step - loss: 1.0004 - acc: 0.6129 - val_loss: 1.2996 - val_acc: 0.5000\n",
      "Epoch 296/350\n",
      "93/93 [==============================] - 0s 62us/step - loss: 0.9997 - acc: 0.6129 - val_loss: 1.3012 - val_acc: 0.4583\n",
      "Epoch 297/350\n",
      "93/93 [==============================] - 0s 71us/step - loss: 0.9976 - acc: 0.6129 - val_loss: 1.3015 - val_acc: 0.4583\n",
      "Epoch 298/350\n",
      "93/93 [==============================] - 0s 66us/step - loss: 0.9965 - acc: 0.6129 - val_loss: 1.3020 - val_acc: 0.4583\n",
      "Epoch 299/350\n",
      "93/93 [==============================] - 0s 67us/step - loss: 0.9954 - acc: 0.6129 - val_loss: 1.3013 - val_acc: 0.4583\n",
      "Epoch 300/350\n",
      "93/93 [==============================] - 0s 71us/step - loss: 0.9939 - acc: 0.6129 - val_loss: 1.3014 - val_acc: 0.5000\n",
      "Epoch 301/350\n",
      "93/93 [==============================] - 0s 75us/step - loss: 0.9927 - acc: 0.6129 - val_loss: 1.3023 - val_acc: 0.5000\n",
      "Epoch 302/350\n",
      "93/93 [==============================] - 0s 144us/step - loss: 0.9912 - acc: 0.6129 - val_loss: 1.3028 - val_acc: 0.5000\n",
      "Epoch 303/350\n",
      "93/93 [==============================] - 0s 153us/step - loss: 0.9901 - acc: 0.6129 - val_loss: 1.3038 - val_acc: 0.5417\n",
      "Epoch 304/350\n",
      "93/93 [==============================] - 0s 102us/step - loss: 0.9889 - acc: 0.6129 - val_loss: 1.3028 - val_acc: 0.5417\n",
      "Epoch 305/350\n",
      "93/93 [==============================] - 0s 85us/step - loss: 0.9879 - acc: 0.6237 - val_loss: 1.3017 - val_acc: 0.5417\n",
      "Epoch 306/350\n",
      "93/93 [==============================] - 0s 99us/step - loss: 0.9860 - acc: 0.6237 - val_loss: 1.3018 - val_acc: 0.5417\n",
      "Epoch 307/350\n",
      "93/93 [==============================] - 0s 116us/step - loss: 0.9850 - acc: 0.6237 - val_loss: 1.3016 - val_acc: 0.5000\n",
      "Epoch 308/350\n",
      "93/93 [==============================] - 0s 95us/step - loss: 0.9840 - acc: 0.6129 - val_loss: 1.3020 - val_acc: 0.5417\n",
      "Epoch 309/350\n",
      "93/93 [==============================] - 0s 90us/step - loss: 0.9833 - acc: 0.6129 - val_loss: 1.3018 - val_acc: 0.5417\n",
      "Epoch 310/350\n",
      "93/93 [==============================] - 0s 74us/step - loss: 0.9819 - acc: 0.6237 - val_loss: 1.3019 - val_acc: 0.5417\n",
      "Epoch 311/350\n",
      "93/93 [==============================] - 0s 69us/step - loss: 0.9804 - acc: 0.6237 - val_loss: 1.3004 - val_acc: 0.5417\n",
      "Epoch 312/350\n",
      "93/93 [==============================] - 0s 62us/step - loss: 0.9799 - acc: 0.6237 - val_loss: 1.3014 - val_acc: 0.5417\n",
      "Epoch 313/350\n",
      "93/93 [==============================] - 0s 71us/step - loss: 0.9788 - acc: 0.6237 - val_loss: 1.3009 - val_acc: 0.5417\n",
      "Epoch 314/350\n",
      "93/93 [==============================] - 0s 63us/step - loss: 0.9767 - acc: 0.6237 - val_loss: 1.3013 - val_acc: 0.5417\n",
      "Epoch 315/350\n",
      "93/93 [==============================] - 0s 78us/step - loss: 0.9757 - acc: 0.6237 - val_loss: 1.3018 - val_acc: 0.5417\n",
      "Epoch 316/350\n",
      "93/93 [==============================] - 0s 65us/step - loss: 0.9751 - acc: 0.6237 - val_loss: 1.3014 - val_acc: 0.5417\n",
      "Epoch 317/350\n",
      "93/93 [==============================] - 0s 67us/step - loss: 0.9734 - acc: 0.6237 - val_loss: 1.3014 - val_acc: 0.5417\n",
      "Epoch 318/350\n",
      "93/93 [==============================] - 0s 71us/step - loss: 0.9727 - acc: 0.6237 - val_loss: 1.3012 - val_acc: 0.5417\n",
      "Epoch 319/350\n",
      "93/93 [==============================] - 0s 73us/step - loss: 0.9718 - acc: 0.6237 - val_loss: 1.3019 - val_acc: 0.5417\n",
      "Epoch 320/350\n",
      "93/93 [==============================] - 0s 69us/step - loss: 0.9698 - acc: 0.6237 - val_loss: 1.3017 - val_acc: 0.5417\n",
      "Epoch 321/350\n",
      "93/93 [==============================] - 0s 77us/step - loss: 0.9683 - acc: 0.6237 - val_loss: 1.3017 - val_acc: 0.5417\n",
      "Epoch 322/350\n",
      "93/93 [==============================] - 0s 84us/step - loss: 0.9670 - acc: 0.6237 - val_loss: 1.3017 - val_acc: 0.5417\n",
      "Epoch 323/350\n",
      "93/93 [==============================] - 0s 72us/step - loss: 0.9663 - acc: 0.6237 - val_loss: 1.3029 - val_acc: 0.5417\n",
      "Epoch 324/350\n",
      "93/93 [==============================] - 0s 73us/step - loss: 0.9651 - acc: 0.6237 - val_loss: 1.3035 - val_acc: 0.5417\n",
      "Epoch 325/350\n",
      "93/93 [==============================] - 0s 79us/step - loss: 0.9648 - acc: 0.6344 - val_loss: 1.3027 - val_acc: 0.5417\n",
      "Epoch 326/350\n",
      "93/93 [==============================] - 0s 74us/step - loss: 0.9628 - acc: 0.6237 - val_loss: 1.3021 - val_acc: 0.5417\n",
      "Epoch 327/350\n",
      "93/93 [==============================] - 0s 69us/step - loss: 0.9615 - acc: 0.6237 - val_loss: 1.3020 - val_acc: 0.5417\n",
      "Epoch 328/350\n",
      "93/93 [==============================] - 0s 66us/step - loss: 0.9600 - acc: 0.6237 - val_loss: 1.3019 - val_acc: 0.5417\n",
      "Epoch 329/350\n",
      "93/93 [==============================] - 0s 80us/step - loss: 0.9590 - acc: 0.6237 - val_loss: 1.3030 - val_acc: 0.5417\n",
      "Epoch 330/350\n",
      "93/93 [==============================] - 0s 70us/step - loss: 0.9577 - acc: 0.6344 - val_loss: 1.3030 - val_acc: 0.5417\n",
      "Epoch 331/350\n",
      "93/93 [==============================] - 0s 71us/step - loss: 0.9570 - acc: 0.6344 - val_loss: 1.3031 - val_acc: 0.5417\n",
      "Epoch 332/350\n",
      "93/93 [==============================] - 0s 70us/step - loss: 0.9561 - acc: 0.6452 - val_loss: 1.3030 - val_acc: 0.5417\n",
      "Epoch 333/350\n",
      "93/93 [==============================] - 0s 73us/step - loss: 0.9548 - acc: 0.6344 - val_loss: 1.3032 - val_acc: 0.5417\n",
      "Epoch 334/350\n",
      "93/93 [==============================] - 0s 76us/step - loss: 0.9540 - acc: 0.6452 - val_loss: 1.3030 - val_acc: 0.5417\n",
      "Epoch 335/350\n",
      "93/93 [==============================] - 0s 73us/step - loss: 0.9530 - acc: 0.6452 - val_loss: 1.3035 - val_acc: 0.5417\n",
      "Epoch 336/350\n",
      "93/93 [==============================] - 0s 72us/step - loss: 0.9519 - acc: 0.6452 - val_loss: 1.3040 - val_acc: 0.5417\n",
      "Epoch 337/350\n",
      "93/93 [==============================] - 0s 71us/step - loss: 0.9512 - acc: 0.6452 - val_loss: 1.3030 - val_acc: 0.5417\n",
      "Epoch 338/350\n",
      "93/93 [==============================] - 0s 68us/step - loss: 0.9495 - acc: 0.6452 - val_loss: 1.3031 - val_acc: 0.5417\n",
      "Epoch 339/350\n",
      "93/93 [==============================] - 0s 73us/step - loss: 0.9486 - acc: 0.6452 - val_loss: 1.3047 - val_acc: 0.5417\n",
      "Epoch 340/350\n",
      "93/93 [==============================] - 0s 67us/step - loss: 0.9476 - acc: 0.6452 - val_loss: 1.3052 - val_acc: 0.5417\n",
      "Epoch 341/350\n",
      "93/93 [==============================] - 0s 77us/step - loss: 0.9462 - acc: 0.6452 - val_loss: 1.3058 - val_acc: 0.5417\n",
      "Epoch 342/350\n",
      "93/93 [==============================] - 0s 78us/step - loss: 0.9446 - acc: 0.6452 - val_loss: 1.3055 - val_acc: 0.5417\n",
      "Epoch 343/350\n",
      "93/93 [==============================] - 0s 78us/step - loss: 0.9435 - acc: 0.6452 - val_loss: 1.3058 - val_acc: 0.5417\n",
      "Epoch 344/350\n",
      "93/93 [==============================] - 0s 82us/step - loss: 0.9425 - acc: 0.6452 - val_loss: 1.3056 - val_acc: 0.5417\n",
      "Epoch 345/350\n",
      "93/93 [==============================] - 0s 67us/step - loss: 0.9412 - acc: 0.6559 - val_loss: 1.3043 - val_acc: 0.5417\n",
      "Epoch 346/350\n",
      "93/93 [==============================] - 0s 72us/step - loss: 0.9407 - acc: 0.6559 - val_loss: 1.3043 - val_acc: 0.5417\n",
      "Epoch 347/350\n",
      "93/93 [==============================] - 0s 68us/step - loss: 0.9396 - acc: 0.6559 - val_loss: 1.3050 - val_acc: 0.5417\n",
      "Epoch 348/350\n",
      "93/93 [==============================] - 0s 71us/step - loss: 0.9381 - acc: 0.6452 - val_loss: 1.3047 - val_acc: 0.5417\n",
      "Epoch 349/350\n",
      "93/93 [==============================] - 0s 74us/step - loss: 0.9372 - acc: 0.6559 - val_loss: 1.3042 - val_acc: 0.5417\n",
      "Epoch 350/350\n",
      "93/93 [==============================] - 0s 71us/step - loss: 0.9373 - acc: 0.6452 - val_loss: 1.3036 - val_acc: 0.5417\n"
     ]
    },
    {
     "data": {
      "text/plain": [
       "<keras.callbacks.History at 0x7fea49ee1a90>"
      ]
     },
     "execution_count": 27,
     "metadata": {
      "tags": []
     },
     "output_type": "execute_result"
    }
   ],
   "source": [
    "model = Sequential()\n",
    "model.add(Dense(12, input_dim=11, activation='relu'))\n",
    "model.add(Dense(12, activation='relu'))\n",
    "model.add(Dense(12, activation='relu'))\n",
    "\n",
    "model.add(Dense(5, activation='softmax')) \n",
    "                                            \n",
    "# Compile model\n",
    "model.compile(loss='categorical_crossentropy', optimizer='sgd', metrics=['accuracy'])\n",
    "\n",
    "# Fitting the NN to the Training set\n",
    "model.fit(prediction_input_preprocessor.transform(X_train), pd.get_dummies(y_train), \n",
    "               batch_size = 65, \n",
    "               epochs = 350, validation_split=0.2)  "
   ]
  },
  {
   "cell_type": "code",
   "execution_count": 0,
   "metadata": {
    "colab": {
     "base_uri": "https://localhost:8080/",
     "height": 90
    },
    "colab_type": "code",
    "id": "I2yehN9qZVBX",
    "outputId": "94201f97-af6a-40e9-a1c1-7d008160b2bf"
   },
   "outputs": [
    {
     "name": "stdout",
     "output_type": "stream",
     "text": [
      "[1 1 0 1 4 3 0 0 2 2 1 0 3 2 3 1 4 4 4 1 4 3 3 3 1 2 2 1 0 4 0 2 1 4 2 4 4\n",
      " 4 1]\n",
      "['High', 'High', 'Average', 'High', 'Very Low', 'Very High', 'Average', 'Average', 'Low', 'Low', 'High', 'Average', 'Very High', 'Low', 'Very High', 'High', 'Very Low', 'Very Low', 'Very Low', 'High', 'Very Low', 'Very High', 'Very High', 'Very High', 'High', 'Low', 'Low', 'High', 'Average', 'Very Low', 'Average', 'Low', 'High', 'Very Low', 'Low', 'Very Low', 'Very Low', 'Very Low', 'High']\n"
     ]
    }
   ],
   "source": [
    "# using predict_classes() for multi-class data to return predicted class index.\n",
    "\n",
    "print(model.predict_classes(prediction_input_preprocessor.transform(X_test)))\n",
    "\n",
    "## Estas son mis clases.\n",
    "prediction_index=model.predict_classes(prediction_input_preprocessor.transform(X_test))\n",
    "\n",
    "#Now lets run some code to get keras to return the label rather than the index...\n",
    "\n",
    "# get labels from one hot encoded y_train data\n",
    "labels=pd.get_dummies(y_train).columns\n",
    "\n",
    "# Function to use to return label from column index location\n",
    "def index_to_label(labels,index_n): \n",
    "    return labels[index_n]\n",
    "    \n",
    "# Example: return label at predicted index location 1\n",
    "index_to_label(labels,1)\n",
    "\n",
    "# Iterate through all predicted indices using map method\n",
    "\n",
    "predicted_labels=list(map(lambda x: labels[x], prediction_index))\n",
    "print(predicted_labels)"
   ]
  },
  {
   "cell_type": "code",
   "execution_count": 0,
   "metadata": {
    "colab": {
     "base_uri": "https://localhost:8080/",
     "height": 80
    },
    "colab_type": "code",
    "id": "Ow1Ju7xBYTJS",
    "outputId": "f4b38092-a910-47ee-eb9d-18c92898b957"
   },
   "outputs": [
    {
     "data": {
      "text/html": [
       "<div>\n",
       "<style scoped>\n",
       "    .dataframe tbody tr th:only-of-type {\n",
       "        vertical-align: middle;\n",
       "    }\n",
       "\n",
       "    .dataframe tbody tr th {\n",
       "        vertical-align: top;\n",
       "    }\n",
       "\n",
       "    .dataframe thead th {\n",
       "        text-align: right;\n",
       "    }\n",
       "</style>\n",
       "<table border=\"1\" class=\"dataframe\">\n",
       "  <thead>\n",
       "    <tr style=\"text-align: right;\">\n",
       "      <th></th>\n",
       "      <th>accuracy</th>\n",
       "      <th>f1_score</th>\n",
       "      <th>precision</th>\n",
       "      <th>recall</th>\n",
       "      <th>mse</th>\n",
       "      <th>rmse</th>\n",
       "      <th>mae</th>\n",
       "      <th>r2</th>\n",
       "    </tr>\n",
       "  </thead>\n",
       "  <tbody>\n",
       "    <tr>\n",
       "      <th>0</th>\n",
       "      <td>0.461538</td>\n",
       "      <td>0.46746</td>\n",
       "      <td>0.48381</td>\n",
       "      <td>0.477778</td>\n",
       "      <td>0</td>\n",
       "      <td>0</td>\n",
       "      <td>0</td>\n",
       "      <td>0</td>\n",
       "    </tr>\n",
       "  </tbody>\n",
       "</table>\n",
       "</div>"
      ],
      "text/plain": [
       "   accuracy  f1_score  precision    recall  mse  rmse  mae  r2\n",
       "0  0.461538   0.46746    0.48381  0.477778    0     0    0   0"
      ]
     },
     "execution_count": 29,
     "metadata": {
      "tags": []
     },
     "output_type": "execute_result"
    }
   ],
   "source": [
    "# Evaluating Keras Model\n",
    "\n",
    "def model_eval_metrics(y_true, y_pred,classification=\"TRUE\"):\n",
    "     if classification==\"TRUE\":\n",
    "        accuracy_eval = accuracy_score(y_true, y_pred)\n",
    "        f1_score_eval = f1_score(y_true, y_pred,average=\"macro\",zero_division=0)\n",
    "        precision_eval = precision_score(y_true, y_pred,average=\"macro\",zero_division=0)\n",
    "        recall_eval = recall_score(y_true, y_pred,average=\"macro\",zero_division=0)\n",
    "        mse_eval = 0\n",
    "        rmse_eval = 0\n",
    "        mae_eval = 0\n",
    "        r2_eval = 0\n",
    "        metricdata = {'accuracy': [accuracy_eval], 'f1_score': [f1_score_eval], 'precision': [precision_eval], 'recall': [recall_eval], 'mse': [mse_eval], 'rmse': [rmse_eval], 'mae': [mae_eval], 'r2': [r2_eval]}\n",
    "        finalmetricdata = pd.DataFrame.from_dict(metricdata)\n",
    "     else:\n",
    "        accuracy_eval = 0\n",
    "        f1_score_eval = 0\n",
    "        precision_eval = 0\n",
    "        recall_eval = 0\n",
    "        mse_eval = mean_squared_error(y_true, y_pred)\n",
    "        rmse_eval = sqrt(mean_squared_error(y_true, y_pred))\n",
    "        mae_eval = mean_absolute_error(y_true, y_pred)\n",
    "        r2_eval = r2_score(y_true, y_pred)\n",
    "        metricdata = {'accuracy': [accuracy_eval], 'f1_score': [f1_score_eval], 'precision': [precision_eval], 'recall': [recall_eval], 'mse': [mse_eval], 'rmse': [rmse_eval], 'mae': [mae_eval], 'r2': [r2_eval]}\n",
    "        finalmetricdata = pd.DataFrame.from_dict(metricdata)\n",
    "     return finalmetricdata\n",
    "\n",
    "model_eval_metrics( y_test,predicted_labels,classification=\"TRUE\")\n"
   ]
  },
  {
   "cell_type": "markdown",
   "metadata": {
    "colab_type": "text",
    "id": "IEXmoxfbCIYk"
   },
   "source": [
    "Random Forest"
   ]
  },
  {
   "cell_type": "code",
   "execution_count": 0,
   "metadata": {
    "colab": {
     "base_uri": "https://localhost:8080/",
     "height": 52
    },
    "colab_type": "code",
    "id": "HEx-NLzlyMcK",
    "outputId": "23be75d4-e1df-44c2-a4c0-6c6de65d3ff5"
   },
   "outputs": [
    {
     "name": "stdout",
     "output_type": "stream",
     "text": [
      "Random Forest Classifier's cross validation accuracy: 0.565909090909091\n",
      "Random Forest Classifier's Test-Data prediction accuracy: 0.41026\n"
     ]
    }
   ],
   "source": [
    "rf_m=RandomForestClassifier(n_estimators=1000, random_state = 4)\n",
    "\n",
    "rf_m.fit(prediction_input_preprocessor.transform(X_train), y_train)\n",
    "y_pred=rf_m.predict(prediction_input_preprocessor.transform(X_test))\n",
    "\n",
    "print(\"Random Forest Classifier's cross validation accuracy:\", np.mean(cross_val_score(rf_m, prediction_input_preprocessor.transform(X_train), y_train, cv=10)))\n",
    "print(\"Random Forest Classifier's Test-Data prediction accuracy: {:.5f}\".format(rf_m.score(prediction_input_preprocessor.transform(X_test), y_test)))\n",
    "\n",
    "pickle.dump(rf_m, open( \"rf_model.pkl\", \"wb\" ) )"
   ]
  },
  {
   "cell_type": "code",
   "execution_count": 0,
   "metadata": {
    "colab": {
     "base_uri": "https://localhost:8080/",
     "height": 80
    },
    "colab_type": "code",
    "id": "odADm-rJxc2t",
    "outputId": "b561056f-0e14-426e-96ef-6a2aa6ab9443"
   },
   "outputs": [
    {
     "data": {
      "text/html": [
       "<div>\n",
       "<style scoped>\n",
       "    .dataframe tbody tr th:only-of-type {\n",
       "        vertical-align: middle;\n",
       "    }\n",
       "\n",
       "    .dataframe tbody tr th {\n",
       "        vertical-align: top;\n",
       "    }\n",
       "\n",
       "    .dataframe thead th {\n",
       "        text-align: right;\n",
       "    }\n",
       "</style>\n",
       "<table border=\"1\" class=\"dataframe\">\n",
       "  <thead>\n",
       "    <tr style=\"text-align: right;\">\n",
       "      <th></th>\n",
       "      <th>accuracy</th>\n",
       "      <th>f1_score</th>\n",
       "      <th>precision</th>\n",
       "      <th>recall</th>\n",
       "      <th>mse</th>\n",
       "      <th>rmse</th>\n",
       "      <th>mae</th>\n",
       "      <th>r2</th>\n",
       "    </tr>\n",
       "  </thead>\n",
       "  <tbody>\n",
       "    <tr>\n",
       "      <th>0</th>\n",
       "      <td>0.410256</td>\n",
       "      <td>0.420463</td>\n",
       "      <td>0.499603</td>\n",
       "      <td>0.416667</td>\n",
       "      <td>0</td>\n",
       "      <td>0</td>\n",
       "      <td>0</td>\n",
       "      <td>0</td>\n",
       "    </tr>\n",
       "  </tbody>\n",
       "</table>\n",
       "</div>"
      ],
      "text/plain": [
       "   accuracy  f1_score  precision    recall  mse  rmse  mae  r2\n",
       "0  0.410256  0.420463   0.499603  0.416667    0     0    0   0"
      ]
     },
     "execution_count": 31,
     "metadata": {
      "tags": []
     },
     "output_type": "execute_result"
    }
   ],
   "source": [
    "modelevalobject=model_eval_metrics(y_test,y_pred,classification=\"TRUE\")\n",
    "modelevalobject"
   ]
  },
  {
   "cell_type": "markdown",
   "metadata": {
    "colab_type": "text",
    "id": "mN6VMUDoCHZN"
   },
   "source": [
    "SVC"
   ]
  },
  {
   "cell_type": "code",
   "execution_count": 0,
   "metadata": {
    "colab": {
     "base_uri": "https://localhost:8080/",
     "height": 52
    },
    "colab_type": "code",
    "id": "EP5Xc8fgB8bg",
    "outputId": "7631fcad-589f-4695-932d-ed2161c28a5a"
   },
   "outputs": [
    {
     "name": "stdout",
     "output_type": "stream",
     "text": [
      "SVC's cross validation accuracy: 0.5143939393939393\n",
      "SVC's Test-Data prediction accuracy: 0.46154\n"
     ]
    }
   ],
   "source": [
    "svc_m = SVC(kernel='rbf', class_weight='balanced')\n",
    "svc_m.fit(prediction_input_preprocessor.transform(X_train), y_train)\n",
    "y_pred=svc_m.predict(prediction_input_preprocessor.transform(X_test))\n",
    "\n",
    "print(\"SVC's cross validation accuracy:\", np.mean(cross_val_score(svc_m, prediction_input_preprocessor.transform(X_train), y_train, cv=10)))\n",
    "print(\"SVC's Test-Data prediction accuracy: {:.5f}\".format(svc_m.score(prediction_input_preprocessor.transform(X_test), y_test)))\n",
    "\n",
    "pickle.dump(svc_m, open( \"svc_model.pkl\", \"wb\" ) )"
   ]
  },
  {
   "cell_type": "code",
   "execution_count": 0,
   "metadata": {
    "colab": {
     "base_uri": "https://localhost:8080/",
     "height": 80
    },
    "colab_type": "code",
    "id": "_ZhuVWKKxfj8",
    "outputId": "183cd9ac-f002-48cc-b0f6-ce24425d02c5"
   },
   "outputs": [
    {
     "data": {
      "text/html": [
       "<div>\n",
       "<style scoped>\n",
       "    .dataframe tbody tr th:only-of-type {\n",
       "        vertical-align: middle;\n",
       "    }\n",
       "\n",
       "    .dataframe tbody tr th {\n",
       "        vertical-align: top;\n",
       "    }\n",
       "\n",
       "    .dataframe thead th {\n",
       "        text-align: right;\n",
       "    }\n",
       "</style>\n",
       "<table border=\"1\" class=\"dataframe\">\n",
       "  <thead>\n",
       "    <tr style=\"text-align: right;\">\n",
       "      <th></th>\n",
       "      <th>accuracy</th>\n",
       "      <th>f1_score</th>\n",
       "      <th>precision</th>\n",
       "      <th>recall</th>\n",
       "      <th>mse</th>\n",
       "      <th>rmse</th>\n",
       "      <th>mae</th>\n",
       "      <th>r2</th>\n",
       "    </tr>\n",
       "  </thead>\n",
       "  <tbody>\n",
       "    <tr>\n",
       "      <th>0</th>\n",
       "      <td>0.461538</td>\n",
       "      <td>0.466215</td>\n",
       "      <td>0.538492</td>\n",
       "      <td>0.475</td>\n",
       "      <td>0</td>\n",
       "      <td>0</td>\n",
       "      <td>0</td>\n",
       "      <td>0</td>\n",
       "    </tr>\n",
       "  </tbody>\n",
       "</table>\n",
       "</div>"
      ],
      "text/plain": [
       "   accuracy  f1_score  precision  recall  mse  rmse  mae  r2\n",
       "0  0.461538  0.466215   0.538492   0.475    0     0    0   0"
      ]
     },
     "execution_count": 33,
     "metadata": {
      "tags": []
     },
     "output_type": "execute_result"
    }
   ],
   "source": [
    "modelevalobject=model_eval_metrics(y_test,y_pred,classification=\"TRUE\")\n",
    "modelevalobject"
   ]
  },
  {
   "cell_type": "code",
   "execution_count": 0,
   "metadata": {
    "colab": {
     "base_uri": "https://localhost:8080/",
     "height": 461
    },
    "colab_type": "code",
    "id": "ABYAd2xAp1lH",
    "outputId": "074a0700-e793-405f-ba7f-3f89cb097daa"
   },
   "outputs": [
    {
     "name": "stdout",
     "output_type": "stream",
     "text": [
      "Lasso's cross validation accuracy: 0.5742424242424242\n",
      "Lasso's Test-Data prediction accuracy: 0.46154\n"
     ]
    },
    {
     "name": "stderr",
     "output_type": "stream",
     "text": [
      "/usr/local/lib/python3.6/dist-packages/sklearn/linear_model/_sag.py:330: ConvergenceWarning: The max_iter was reached which means the coef_ did not converge\n",
      "  \"the coef_ did not converge\", ConvergenceWarning)\n",
      "/usr/local/lib/python3.6/dist-packages/sklearn/linear_model/_sag.py:330: ConvergenceWarning: The max_iter was reached which means the coef_ did not converge\n",
      "  \"the coef_ did not converge\", ConvergenceWarning)\n",
      "/usr/local/lib/python3.6/dist-packages/sklearn/linear_model/_sag.py:330: ConvergenceWarning: The max_iter was reached which means the coef_ did not converge\n",
      "  \"the coef_ did not converge\", ConvergenceWarning)\n",
      "/usr/local/lib/python3.6/dist-packages/sklearn/linear_model/_sag.py:330: ConvergenceWarning: The max_iter was reached which means the coef_ did not converge\n",
      "  \"the coef_ did not converge\", ConvergenceWarning)\n",
      "/usr/local/lib/python3.6/dist-packages/sklearn/linear_model/_sag.py:330: ConvergenceWarning: The max_iter was reached which means the coef_ did not converge\n",
      "  \"the coef_ did not converge\", ConvergenceWarning)\n",
      "/usr/local/lib/python3.6/dist-packages/sklearn/linear_model/_sag.py:330: ConvergenceWarning: The max_iter was reached which means the coef_ did not converge\n",
      "  \"the coef_ did not converge\", ConvergenceWarning)\n",
      "/usr/local/lib/python3.6/dist-packages/sklearn/linear_model/_sag.py:330: ConvergenceWarning: The max_iter was reached which means the coef_ did not converge\n",
      "  \"the coef_ did not converge\", ConvergenceWarning)\n",
      "/usr/local/lib/python3.6/dist-packages/sklearn/linear_model/_sag.py:330: ConvergenceWarning: The max_iter was reached which means the coef_ did not converge\n",
      "  \"the coef_ did not converge\", ConvergenceWarning)\n",
      "/usr/local/lib/python3.6/dist-packages/sklearn/linear_model/_sag.py:330: ConvergenceWarning: The max_iter was reached which means the coef_ did not converge\n",
      "  \"the coef_ did not converge\", ConvergenceWarning)\n",
      "/usr/local/lib/python3.6/dist-packages/sklearn/linear_model/_sag.py:330: ConvergenceWarning: The max_iter was reached which means the coef_ did not converge\n",
      "  \"the coef_ did not converge\", ConvergenceWarning)\n",
      "/usr/local/lib/python3.6/dist-packages/sklearn/linear_model/_sag.py:330: ConvergenceWarning: The max_iter was reached which means the coef_ did not converge\n",
      "  \"the coef_ did not converge\", ConvergenceWarning)\n"
     ]
    }
   ],
   "source": [
    "log_m= LogisticRegression(penalty=\"l1\", solver=\"saga\")\n",
    "log_m.fit(prediction_input_preprocessor.transform(X_train), y_train)\n",
    "y_pred=log_m.predict(prediction_input_preprocessor.transform(X_test))\n",
    "\n",
    "print(\"Lasso's cross validation accuracy:\", np.mean(cross_val_score(log_m, prediction_input_preprocessor.transform(X_train), y_train, cv=10)))\n",
    "print(\"Lasso's Test-Data prediction accuracy: {:.5f}\".format(log_m.score(prediction_input_preprocessor.transform(X_test), y_test)))\n",
    "\n",
    "pickle.dump(log_m, open( \"log_model.pkl\", \"wb\" ) )"
   ]
  },
  {
   "cell_type": "code",
   "execution_count": 0,
   "metadata": {
    "colab": {
     "base_uri": "https://localhost:8080/",
     "height": 80
    },
    "colab_type": "code",
    "id": "TZfR4nmpxnuE",
    "outputId": "f1f23dc9-e191-4837-b8ce-b6575bbe65aa"
   },
   "outputs": [
    {
     "data": {
      "text/html": [
       "<div>\n",
       "<style scoped>\n",
       "    .dataframe tbody tr th:only-of-type {\n",
       "        vertical-align: middle;\n",
       "    }\n",
       "\n",
       "    .dataframe tbody tr th {\n",
       "        vertical-align: top;\n",
       "    }\n",
       "\n",
       "    .dataframe thead th {\n",
       "        text-align: right;\n",
       "    }\n",
       "</style>\n",
       "<table border=\"1\" class=\"dataframe\">\n",
       "  <thead>\n",
       "    <tr style=\"text-align: right;\">\n",
       "      <th></th>\n",
       "      <th>accuracy</th>\n",
       "      <th>f1_score</th>\n",
       "      <th>precision</th>\n",
       "      <th>recall</th>\n",
       "      <th>mse</th>\n",
       "      <th>rmse</th>\n",
       "      <th>mae</th>\n",
       "      <th>r2</th>\n",
       "    </tr>\n",
       "  </thead>\n",
       "  <tbody>\n",
       "    <tr>\n",
       "      <th>0</th>\n",
       "      <td>0.461538</td>\n",
       "      <td>0.464161</td>\n",
       "      <td>0.555556</td>\n",
       "      <td>0.483333</td>\n",
       "      <td>0</td>\n",
       "      <td>0</td>\n",
       "      <td>0</td>\n",
       "      <td>0</td>\n",
       "    </tr>\n",
       "  </tbody>\n",
       "</table>\n",
       "</div>"
      ],
      "text/plain": [
       "   accuracy  f1_score  precision    recall  mse  rmse  mae  r2\n",
       "0  0.461538  0.464161   0.555556  0.483333    0     0    0   0"
      ]
     },
     "execution_count": 35,
     "metadata": {
      "tags": []
     },
     "output_type": "execute_result"
    }
   ],
   "source": [
    "modelevalobject=model_eval_metrics(y_test,y_pred,classification=\"TRUE\")\n",
    "modelevalobject"
   ]
  },
  {
   "cell_type": "markdown",
   "metadata": {
    "colab_type": "text",
    "id": "Wmb0u_Onxpzg"
   },
   "source": [
    "#### 3.2 Submit your best model to the leader board for the World Happiness AI Model Share competition.\n",
    "\n",
    "##### You have the option to discuss these models in your report, but it is not required.\n"
   ]
  },
  {
   "cell_type": "code",
   "execution_count": 0,
   "metadata": {
    "colab": {
     "base_uri": "https://localhost:8080/",
     "height": 319
    },
    "colab_type": "code",
    "id": "WMNmBRECy1EI",
    "outputId": "30727845-6557-4b4f-cceb-40ce952e903d"
   },
   "outputs": [
    {
     "name": "stdout",
     "output_type": "stream",
     "text": [
      "Requirement already satisfied: keras2onnx in /usr/local/lib/python3.6/dist-packages (1.6.0)\n",
      "Requirement already satisfied: numpy in /usr/local/lib/python3.6/dist-packages (from keras2onnx) (1.17.5)\n",
      "Requirement already satisfied: onnx in /usr/local/lib/python3.6/dist-packages (from keras2onnx) (1.6.0)\n",
      "Requirement already satisfied: fire in /usr/local/lib/python3.6/dist-packages (from keras2onnx) (0.2.1)\n",
      "Requirement already satisfied: protobuf in /usr/local/lib/python3.6/dist-packages (from keras2onnx) (3.10.0)\n",
      "Requirement already satisfied: requests in /usr/local/lib/python3.6/dist-packages (from keras2onnx) (2.21.0)\n",
      "Requirement already satisfied: onnxconverter-common>=1.6.0 in /usr/local/lib/python3.6/dist-packages (from keras2onnx) (1.6.0)\n",
      "Requirement already satisfied: six in /usr/local/lib/python3.6/dist-packages (from onnx->keras2onnx) (1.12.0)\n",
      "Requirement already satisfied: typing-extensions>=3.6.2.1 in /usr/local/lib/python3.6/dist-packages (from onnx->keras2onnx) (3.6.6)\n",
      "Requirement already satisfied: termcolor in /usr/local/lib/python3.6/dist-packages (from fire->keras2onnx) (1.1.0)\n",
      "Requirement already satisfied: setuptools in /usr/local/lib/python3.6/dist-packages (from protobuf->keras2onnx) (45.1.0)\n",
      "Requirement already satisfied: idna<2.9,>=2.5 in /usr/local/lib/python3.6/dist-packages (from requests->keras2onnx) (2.8)\n",
      "Requirement already satisfied: certifi>=2017.4.17 in /usr/local/lib/python3.6/dist-packages (from requests->keras2onnx) (2019.11.28)\n",
      "Requirement already satisfied: chardet<3.1.0,>=3.0.2 in /usr/local/lib/python3.6/dist-packages (from requests->keras2onnx) (3.0.4)\n",
      "Requirement already satisfied: urllib3<1.25,>=1.21.1 in /usr/local/lib/python3.6/dist-packages (from requests->keras2onnx) (1.24.3)\n",
      "Requirement already satisfied: onnxruntime in /usr/local/lib/python3.6/dist-packages (1.1.1)\n"
     ]
    }
   ],
   "source": [
    "! pip3 install keras2onnx\n",
    "! pip3 install onnxruntime"
   ]
  },
  {
   "cell_type": "code",
   "execution_count": 0,
   "metadata": {
    "colab": {},
    "colab_type": "code",
    "id": "m9nG0yyAy7us"
   },
   "outputs": [],
   "source": [
    "import os\n",
    "\n",
    "if not os.path.exists('mymodel.onnx'):\n",
    "    from keras2onnx import convert_keras\n",
    "    onx = convert_keras(model, 'mymodel.onnx')\n",
    "    with open(\"mymodel.onnx\", \"wb\") as f:\n",
    "        f.write(onx.SerializeToString())"
   ]
  },
  {
   "cell_type": "code",
   "execution_count": 0,
   "metadata": {
    "colab": {},
    "colab_type": "code",
    "id": "86JkABcQzrbM"
   },
   "outputs": [],
   "source": [
    "aws_key_password_region = pickle.load( open( \"worldhappiness_modelsubmission_keys.pkl\", \"rb\" ) ) "
   ]
  },
  {
   "cell_type": "code",
   "execution_count": 0,
   "metadata": {
    "colab": {},
    "colab_type": "code",
    "id": "uY2rBSraw0-B"
   },
   "outputs": [],
   "source": [
    "# Example Model Pre-launched into Model Share Site\n",
    "apiurl=\"https://btuvanmi55.execute-api.us-east-1.amazonaws.com/prod/m\"\n",
    "username = \"\"\n",
    "password = \"\"\n",
    "region='us-east-1'\n",
    "model_filepath=\"mymodel.onnx\"   \n",
    "preprocessor_filepath=\"preprocessor.pkl\"\n",
    "preprocessor=\"TRUE\"\n",
    "\n",
    "trainingdata=X_train\n",
    "\n",
    "# Set aws keys for this project (these keys give you access to collaborate on a single project)\n",
    "\n",
    "#Importing from object that stores keys so we do not print out keys for others to see.\n",
    "\n",
    "aws_key_password_region = pickle.load( open( \"worldhappiness_modelsubmission_keys.pkl\", \"rb\" ) )\n",
    "\n",
    "aws_key=aws_key_password_region[0]\n",
    "aws_password=aws_key_password_region[1]\n",
    "region=aws_key_password_region[2]"
   ]
  },
  {
   "cell_type": "code",
   "execution_count": 0,
   "metadata": {
    "colab": {
     "base_uri": "https://localhost:8080/",
     "height": 35
    },
    "colab_type": "code",
    "id": "dwLIiz2Oz2xt",
    "outputId": "4e7a0390-3186-42ce-bf01-0718fb45a015"
   },
   "outputs": [
    {
     "name": "stdout",
     "output_type": "stream",
     "text": [
      "Please review model details and then resubmit to update this model.\n"
     ]
    }
   ],
   "source": [
    "import aimodelshare as ai\n",
    "ai.submit_model(model_filepath=model_filepath, model_eval_metrics=modelevalobject,apiurl=apiurl, username=username, password=password, aws_key=aws_key,aws_password=aws_password, region=region, trainingdata=trainingdata,preprocessor_filepath=preprocessor_filepath,preprocessor=preprocessor)"
   ]
  },
  {
   "cell_type": "markdown",
   "metadata": {
    "colab_type": "text",
    "id": "VqjBHFNhruWf"
   },
   "source": [
    "Submit SKLEARN"
   ]
  },
  {
   "cell_type": "markdown",
   "metadata": {
    "colab_type": "text",
    "id": "IhrplRt30B7Q"
   },
   "source": [
    "### Leaderboard"
   ]
  },
  {
   "cell_type": "code",
   "execution_count": 0,
   "metadata": {
    "colab": {
     "base_uri": "https://localhost:8080/"
    },
    "colab_type": "code",
    "id": "zcR39xWo0Ay0",
    "outputId": "05f79396-6a84-4e31-cfe3-8528749a13fb"
   },
   "outputs": [
    {
     "name": "stdout",
     "output_type": "stream",
     "text": [
      "LEADERBOARD RANKINGS:\n"
     ]
    },
    {
     "data": {
      "text/html": [
       "<div>\n",
       "<style scoped>\n",
       "    .dataframe tbody tr th:only-of-type {\n",
       "        vertical-align: middle;\n",
       "    }\n",
       "\n",
       "    .dataframe tbody tr th {\n",
       "        vertical-align: top;\n",
       "    }\n",
       "\n",
       "    .dataframe thead th {\n",
       "        text-align: right;\n",
       "    }\n",
       "</style>\n",
       "<table border=\"1\" class=\"dataframe\">\n",
       "  <thead>\n",
       "    <tr style=\"text-align: right;\">\n",
       "      <th></th>\n",
       "      <th>accuracy</th>\n",
       "      <th>f1_score</th>\n",
       "      <th>precision</th>\n",
       "      <th>recall</th>\n",
       "      <th>mse</th>\n",
       "      <th>rmse</th>\n",
       "      <th>mae</th>\n",
       "      <th>r2</th>\n",
       "      <th>username</th>\n",
       "      <th>model_version</th>\n",
       "      <th>avg_ranking_classification</th>\n",
       "      <th>avg_ranking_regression</th>\n",
       "    </tr>\n",
       "  </thead>\n",
       "  <tbody>\n",
       "    <tr>\n",
       "      <th>26</th>\n",
       "      <td>0.717949</td>\n",
       "      <td>0.717857</td>\n",
       "      <td>0.717857</td>\n",
       "      <td>0.727778</td>\n",
       "      <td>0</td>\n",
       "      <td>0</td>\n",
       "      <td>0</td>\n",
       "      <td>0</td>\n",
       "      <td>3scman</td>\n",
       "      <td>85</td>\n",
       "      <td>2.333333</td>\n",
       "      <td>1.0</td>\n",
       "    </tr>\n",
       "    <tr>\n",
       "      <th>16</th>\n",
       "      <td>0.717949</td>\n",
       "      <td>0.713796</td>\n",
       "      <td>0.719444</td>\n",
       "      <td>0.725000</td>\n",
       "      <td>0</td>\n",
       "      <td>0</td>\n",
       "      <td>0</td>\n",
       "      <td>0</td>\n",
       "      <td>3scman</td>\n",
       "      <td>70</td>\n",
       "      <td>2.333333</td>\n",
       "      <td>1.0</td>\n",
       "    </tr>\n",
       "    <tr>\n",
       "      <th>8</th>\n",
       "      <td>0.666667</td>\n",
       "      <td>0.675975</td>\n",
       "      <td>0.754286</td>\n",
       "      <td>0.700952</td>\n",
       "      <td>0</td>\n",
       "      <td>0</td>\n",
       "      <td>0</td>\n",
       "      <td>0</td>\n",
       "      <td>dhoward97</td>\n",
       "      <td>69</td>\n",
       "      <td>2.666667</td>\n",
       "      <td>1.0</td>\n",
       "    </tr>\n",
       "    <tr>\n",
       "      <th>62</th>\n",
       "      <td>0.692308</td>\n",
       "      <td>0.693333</td>\n",
       "      <td>0.700397</td>\n",
       "      <td>0.702778</td>\n",
       "      <td>0</td>\n",
       "      <td>0</td>\n",
       "      <td>0</td>\n",
       "      <td>0</td>\n",
       "      <td>3scman</td>\n",
       "      <td>62</td>\n",
       "      <td>4.000000</td>\n",
       "      <td>1.0</td>\n",
       "    </tr>\n",
       "    <tr>\n",
       "      <th>66</th>\n",
       "      <td>0.641026</td>\n",
       "      <td>0.642381</td>\n",
       "      <td>0.743590</td>\n",
       "      <td>0.682273</td>\n",
       "      <td>0</td>\n",
       "      <td>0</td>\n",
       "      <td>0</td>\n",
       "      <td>0</td>\n",
       "      <td>SUN-Wenjun</td>\n",
       "      <td>83</td>\n",
       "      <td>4.000000</td>\n",
       "      <td>1.0</td>\n",
       "    </tr>\n",
       "    <tr>\n",
       "      <th>...</th>\n",
       "      <td>...</td>\n",
       "      <td>...</td>\n",
       "      <td>...</td>\n",
       "      <td>...</td>\n",
       "      <td>...</td>\n",
       "      <td>...</td>\n",
       "      <td>...</td>\n",
       "      <td>...</td>\n",
       "      <td>...</td>\n",
       "      <td>...</td>\n",
       "      <td>...</td>\n",
       "      <td>...</td>\n",
       "    </tr>\n",
       "    <tr>\n",
       "      <th>85</th>\n",
       "      <td>0.333333</td>\n",
       "      <td>0.337698</td>\n",
       "      <td>0.385556</td>\n",
       "      <td>0.322222</td>\n",
       "      <td>0</td>\n",
       "      <td>0</td>\n",
       "      <td>0</td>\n",
       "      <td>0</td>\n",
       "      <td>username2</td>\n",
       "      <td>3</td>\n",
       "      <td>40.000000</td>\n",
       "      <td>1.0</td>\n",
       "    </tr>\n",
       "    <tr>\n",
       "      <th>75</th>\n",
       "      <td>0.333333</td>\n",
       "      <td>0.337698</td>\n",
       "      <td>0.385556</td>\n",
       "      <td>0.322222</td>\n",
       "      <td>0</td>\n",
       "      <td>0</td>\n",
       "      <td>0</td>\n",
       "      <td>0</td>\n",
       "      <td>username2</td>\n",
       "      <td>2</td>\n",
       "      <td>40.000000</td>\n",
       "      <td>1.0</td>\n",
       "    </tr>\n",
       "    <tr>\n",
       "      <th>47</th>\n",
       "      <td>0.333333</td>\n",
       "      <td>0.337698</td>\n",
       "      <td>0.385556</td>\n",
       "      <td>0.322222</td>\n",
       "      <td>0</td>\n",
       "      <td>0</td>\n",
       "      <td>0</td>\n",
       "      <td>0</td>\n",
       "      <td>username2</td>\n",
       "      <td>6</td>\n",
       "      <td>40.000000</td>\n",
       "      <td>1.0</td>\n",
       "    </tr>\n",
       "    <tr>\n",
       "      <th>54</th>\n",
       "      <td>0.333333</td>\n",
       "      <td>0.336015</td>\n",
       "      <td>0.354048</td>\n",
       "      <td>0.325000</td>\n",
       "      <td>0</td>\n",
       "      <td>0</td>\n",
       "      <td>0</td>\n",
       "      <td>0</td>\n",
       "      <td>raquel904</td>\n",
       "      <td>102</td>\n",
       "      <td>40.666667</td>\n",
       "      <td>1.0</td>\n",
       "    </tr>\n",
       "    <tr>\n",
       "      <th>31</th>\n",
       "      <td>0.333333</td>\n",
       "      <td>0.336015</td>\n",
       "      <td>0.354048</td>\n",
       "      <td>0.325000</td>\n",
       "      <td>0</td>\n",
       "      <td>0</td>\n",
       "      <td>0</td>\n",
       "      <td>0</td>\n",
       "      <td>raquel904</td>\n",
       "      <td>101</td>\n",
       "      <td>40.666667</td>\n",
       "      <td>1.0</td>\n",
       "    </tr>\n",
       "  </tbody>\n",
       "</table>\n",
       "<p>106 rows × 12 columns</p>\n",
       "</div>"
      ],
      "text/plain": [
       "    accuracy  f1_score  ...  avg_ranking_classification  avg_ranking_regression\n",
       "26  0.717949  0.717857  ...                    2.333333                     1.0\n",
       "16  0.717949  0.713796  ...                    2.333333                     1.0\n",
       "8   0.666667  0.675975  ...                    2.666667                     1.0\n",
       "62  0.692308  0.693333  ...                    4.000000                     1.0\n",
       "66  0.641026  0.642381  ...                    4.000000                     1.0\n",
       "..       ...       ...  ...                         ...                     ...\n",
       "85  0.333333  0.337698  ...                   40.000000                     1.0\n",
       "75  0.333333  0.337698  ...                   40.000000                     1.0\n",
       "47  0.333333  0.337698  ...                   40.000000                     1.0\n",
       "54  0.333333  0.336015  ...                   40.666667                     1.0\n",
       "31  0.333333  0.336015  ...                   40.666667                     1.0\n",
       "\n",
       "[106 rows x 12 columns]"
      ]
     },
     "metadata": {
      "tags": []
     },
     "output_type": "display_data"
    }
   ],
   "source": [
    "apiurl=\"https://btuvanmi55.execute-api.us-east-1.amazonaws.com/prod/m\"\n",
    "username = \"\"\n",
    "password = \"\"\n",
    "leaderboard = ai.get_leaderboard(apiurl, username, password, aws_key, aws_password, region)"
   ]
  },
  {
   "cell_type": "markdown",
   "metadata": {},
   "source": [
    "Link REPO: https://github.com/cecicabello/firstassignment"
   ]
  }
 ],
 "metadata": {
  "colab": {
   "name": "Advanced ML HW1.ipynb",
   "provenance": []
  },
  "kernelspec": {
   "display_name": "Python 3",
   "language": "python",
   "name": "python3"
  },
  "language_info": {
   "codemirror_mode": {
    "name": "ipython",
    "version": 3
   },
   "file_extension": ".py",
   "mimetype": "text/x-python",
   "name": "python",
   "nbconvert_exporter": "python",
   "pygments_lexer": "ipython3",
   "version": "3.7.4"
  }
 },
 "nbformat": 4,
 "nbformat_minor": 1
}
