{
 "cells": [
  {
   "cell_type": "markdown",
   "metadata": {
    "colab_type": "text",
    "id": "ubj7DataSkP8"
   },
   "source": [
    "### **Projects in Advanced Machine Learning**\n",
    "#### **GR5074**\n",
    "#### **Homework 3**\n",
    "#### **Cecilia Cabello Esquer**"
   ]
  },
  {
   "cell_type": "markdown",
   "metadata": {
    "colab_type": "text",
    "id": "gAfUrqUoR9LR"
   },
   "source": [
    "**Instructions:**\n",
    "\n",
    "**(Use the BBC News Category Classification Notebook in the Week 12 folder to import data for this assignment)**\n",
    "\n",
    "**Your final report should be written up in a Jupyter notebook. It should be posted to a public Github repo as an ipynb AND it should be saved as an html file and submitted to this assignment via courseworks. Please include the link to your Github repo in this html file.**\n",
    "\n",
    "**Your report should include the following information:**\n",
    "\n",
    "**(Note: Be sure to split your data into training and test sets after importing the csv file with pandas. You can use sklearn's train_test_split() function to split your data. )**"
   ]
  },
  {
   "cell_type": "code",
   "execution_count": 1,
   "metadata": {
    "colab": {
     "base_uri": "https://localhost:8080/",
     "height": 89
    },
    "colab_type": "code",
    "id": "gIlAyeNGf6tx",
    "outputId": "d8a65724-d330-4509-8b5d-5ba89f8bf9c1"
   },
   "outputs": [
    {
     "name": "stderr",
     "output_type": "stream",
     "text": [
      "/usr/local/lib/python3.6/dist-packages/statsmodels/tools/_testing.py:19: FutureWarning: pandas.util.testing is deprecated. Use the functions in the public API at pandas.testing instead.\n",
      "  import pandas.util.testing as tm\n",
      "Using TensorFlow backend.\n"
     ]
    }
   ],
   "source": [
    "# Imports\n",
    "import numpy as np\n",
    "import pandas as pd\n",
    "import matplotlib.pyplot as plt\n",
    "import seaborn as sns\n",
    "\n",
    "import sklearn\n",
    "import keras"
   ]
  },
  {
   "cell_type": "code",
   "execution_count": 0,
   "metadata": {
    "colab": {},
    "colab_type": "code",
    "id": "vfhumCQ3xZkg"
   },
   "outputs": [],
   "source": [
    "# From\n",
    "## Metrics\n",
    "from sklearn.metrics import accuracy_score, f1_score, precision_score, recall_score, roc_auc_score, mean_squared_error, r2_score, mean_absolute_error\n",
    "\n",
    "## Split train_test\n",
    "from sklearn.model_selection import train_test_split\n",
    "\n",
    "## Preprocessing\n",
    "from sklearn.preprocessing import OneHotEncoder\n",
    "from keras.preprocessing.text import Tokenizer\n",
    "from keras.preprocessing.sequence import pad_sequences\n",
    "\n",
    "## Models\n",
    "### All\n",
    "from keras.layers import Dense, Embedding, Flatten\n",
    "from keras.models import Sequential\n",
    "\n",
    "### Conv1D Layers\n",
    "from keras.layers import Conv1D, MaxPooling1D\n",
    "\n",
    "### GRU/LSTM\n",
    "from keras.layers import SimpleRNN, LSTM, GRU\n",
    "\n",
    "### Bidirectional\n",
    "from keras.layers import Bidirectional"
   ]
  },
  {
   "cell_type": "code",
   "execution_count": 0,
   "metadata": {
    "colab": {},
    "colab_type": "code",
    "id": "33syq7-Bzwv_"
   },
   "outputs": [],
   "source": []
  },
  {
   "cell_type": "code",
   "execution_count": 3,
   "metadata": {
    "colab": {
     "base_uri": "https://localhost:8080/",
     "height": 206
    },
    "colab_type": "code",
    "id": "RwqEWDONSh51",
    "outputId": "040da1e7-1b4e-4036-ba3f-6e37dbcdb318"
   },
   "outputs": [
    {
     "data": {
      "text/html": [
       "<div>\n",
       "<style scoped>\n",
       "    .dataframe tbody tr th:only-of-type {\n",
       "        vertical-align: middle;\n",
       "    }\n",
       "\n",
       "    .dataframe tbody tr th {\n",
       "        vertical-align: top;\n",
       "    }\n",
       "\n",
       "    .dataframe thead th {\n",
       "        text-align: right;\n",
       "    }\n",
       "</style>\n",
       "<table border=\"1\" class=\"dataframe\">\n",
       "  <thead>\n",
       "    <tr style=\"text-align: right;\">\n",
       "      <th></th>\n",
       "      <th>category</th>\n",
       "      <th>text</th>\n",
       "    </tr>\n",
       "  </thead>\n",
       "  <tbody>\n",
       "    <tr>\n",
       "      <th>0</th>\n",
       "      <td>tech</td>\n",
       "      <td>tv future in the hands of viewers with home th...</td>\n",
       "    </tr>\n",
       "    <tr>\n",
       "      <th>1</th>\n",
       "      <td>business</td>\n",
       "      <td>worldcom boss  left books alone  former worldc...</td>\n",
       "    </tr>\n",
       "    <tr>\n",
       "      <th>2</th>\n",
       "      <td>sport</td>\n",
       "      <td>tigers wary of farrell  gamble  leicester say ...</td>\n",
       "    </tr>\n",
       "    <tr>\n",
       "      <th>3</th>\n",
       "      <td>sport</td>\n",
       "      <td>yeading face newcastle in fa cup premiership s...</td>\n",
       "    </tr>\n",
       "    <tr>\n",
       "      <th>4</th>\n",
       "      <td>entertainment</td>\n",
       "      <td>ocean s twelve raids box office ocean s twelve...</td>\n",
       "    </tr>\n",
       "  </tbody>\n",
       "</table>\n",
       "</div>"
      ],
      "text/plain": [
       "        category                                               text\n",
       "0           tech  tv future in the hands of viewers with home th...\n",
       "1       business  worldcom boss  left books alone  former worldc...\n",
       "2          sport  tigers wary of farrell  gamble  leicester say ...\n",
       "3          sport  yeading face newcastle in fa cup premiership s...\n",
       "4  entertainment  ocean s twelve raids box office ocean s twelve..."
      ]
     },
     "execution_count": 3,
     "metadata": {
      "tags": []
     },
     "output_type": "execute_result"
    }
   ],
   "source": [
    "# Abrir datos\n",
    "data= pd.read_csv(\"https://storage.googleapis.com/dataset-uploader/bbc/bbc-text.csv\")\n",
    "data.head()"
   ]
  },
  {
   "cell_type": "markdown",
   "metadata": {
    "colab_type": "text",
    "id": "JDAGFXlLR_v9"
   },
   "source": [
    "## **1) Visualize the categories of your target variable and describe the dataset generally (the data includes news articles from the BBC news.) A simple description is fine.**\n"
   ]
  },
  {
   "cell_type": "markdown",
   "metadata": {
    "colab_type": "text",
    "id": "thWvnK_84keD"
   },
   "source": [
    "### Exploratory analysis"
   ]
  },
  {
   "cell_type": "markdown",
   "metadata": {
    "colab_type": "text",
    "id": "Ve1JmX6L67jG"
   },
   "source": [
    "Understanding the database and variables "
   ]
  },
  {
   "cell_type": "code",
   "execution_count": 4,
   "metadata": {
    "colab": {
     "base_uri": "https://localhost:8080/",
     "height": 191
    },
    "colab_type": "code",
    "id": "Q8uj0SPdu0BI",
    "outputId": "12a570f9-0eea-4604-c026-4696eda0bc27"
   },
   "outputs": [
    {
     "name": "stdout",
     "output_type": "stream",
     "text": [
      "         count unique                                                top freq\n",
      "category  2225      5                                              sport  511\n",
      "text      2225   2126  apple ipod family expands market apple has exp...    2\n",
      "\n",
      "sport            511\n",
      "business         510\n",
      "politics         417\n",
      "tech             401\n",
      "entertainment    386\n",
      "Name: category, dtype: int64\n"
     ]
    }
   ],
   "source": [
    "# Description of categorical variables\n",
    "print(data.describe().transpose())\n",
    "print( )\n",
    "print(data['category'].value_counts())"
   ]
  },
  {
   "cell_type": "code",
   "execution_count": 5,
   "metadata": {
    "colab": {
     "base_uri": "https://localhost:8080/",
     "height": 357
    },
    "colab_type": "code",
    "id": "9OudvStL64Eg",
    "outputId": "f959b78d-1114-4c7a-a9ae-3883b8bc42d7"
   },
   "outputs": [
    {
     "data": {
      "image/png": "[encoded data removed]",
      "text/plain": [
       "<Figure size 432x288 with 1 Axes>"
      ]
     },
     "metadata": {
      "needs_background": "light",
      "tags": []
     },
     "output_type": "display_data"
    }
   ],
   "source": [
    "data.groupby('category').count().plot.bar()\n",
    "plt.title(\"Absolute frequency of categories\")\n",
    "plt.xlabel('Category')\n",
    "plt.ylabel('Total cases')\n",
    "plt.show()"
   ]
  },
  {
   "cell_type": "code",
   "execution_count": 6,
   "metadata": {
    "colab": {
     "base_uri": "https://localhost:8080/",
     "height": 173
    },
    "colab_type": "code",
    "id": "1yUBLq1U5z88",
    "outputId": "5c664504-34af-4062-d9c2-acaeb9ed1312"
   },
   "outputs": [
    {
     "name": "stdout",
     "output_type": "stream",
     "text": [
      "             words   characters\n",
      "count  2225.000000   2225.00000\n",
      "mean    390.295281   2262.93618\n",
      "std     241.753128   1364.10253\n",
      "min      90.000000    501.00000\n",
      "25%     250.000000   1446.00000\n",
      "50%     337.000000   1965.00000\n",
      "75%     479.000000   2802.00000\n",
      "max    4492.000000  25483.00000\n"
     ]
    }
   ],
   "source": [
    "data['words']= data['text'].apply(lambda x: len(x.split()))\n",
    "data['characters']= data['text'].apply(lambda x: len(x))\n",
    "print(data.describe())"
   ]
  },
  {
   "cell_type": "code",
   "execution_count": 7,
   "metadata": {
    "colab": {
     "base_uri": "https://localhost:8080/",
     "height": 312
    },
    "colab_type": "code",
    "id": "FVfiM13z7wEI",
    "outputId": "95b2c28e-1c33-47f7-c367-557f6710c952"
   },
   "outputs": [
    {
     "data": {
      "text/plain": [
       "Text(0.5, 1.0, 'Histogram of number of characters per text')"
      ]
     },
     "execution_count": 7,
     "metadata": {
      "tags": []
     },
     "output_type": "execute_result"
    },
    {
     "data": {
      "image/png": "[encoded data removed]",
      "text/plain": [
       "<Figure size 432x288 with 1 Axes>"
      ]
     },
     "metadata": {
      "needs_background": "light",
      "tags": []
     },
     "output_type": "display_data"
    }
   ],
   "source": [
    "sn= sns.distplot(data['characters'], hist=True, kde=False, \n",
    "            axlabel= \"Number of words\")\n",
    "sn.set_title(\"Histogram of number of characters per text\" )"
   ]
  },
  {
   "cell_type": "code",
   "execution_count": 8,
   "metadata": {
    "colab": {
     "base_uri": "https://localhost:8080/",
     "height": 312
    },
    "colab_type": "code",
    "id": "Tdw7i6lQ7sSO",
    "outputId": "a5ba4b7e-28b6-46be-8f95-8f15e526d924"
   },
   "outputs": [
    {
     "data": {
      "text/plain": [
       "Text(0.5, 1.0, 'Histogram of number of words per text')"
      ]
     },
     "execution_count": 8,
     "metadata": {
      "tags": []
     },
     "output_type": "execute_result"
    },
    {
     "data": {
      "image/png": "[encoded data removed]",
      "text/plain": [
       "<Figure size 432x288 with 1 Axes>"
      ]
     },
     "metadata": {
      "needs_background": "light",
      "tags": []
     },
     "output_type": "display_data"
    }
   ],
   "source": [
    "sn= sns.distplot(data['words'], hist=True, kde=False, \n",
    "            axlabel= \"Number of words\")\n",
    "sn.set_title(\"Histogram of number of words per text\" )"
   ]
  },
  {
   "cell_type": "markdown",
   "metadata": {
    "colab_type": "text",
    "id": "XTJ5QWKoSLxc"
   },
   "source": [
    "## **2) Preprocess your data such that each document in the data is represented as a sequence of equal length.**"
   ]
  },
  {
   "cell_type": "code",
   "execution_count": 9,
   "metadata": {
    "colab": {
     "base_uri": "https://localhost:8080/",
     "height": 206
    },
    "colab_type": "code",
    "id": "1JGhcC9W_RCC",
    "outputId": "7844cb15-d72d-42d7-e8f0-430606f6d4c0"
   },
   "outputs": [
    {
     "data": {
      "text/html": [
       "<div>\n",
       "<style scoped>\n",
       "    .dataframe tbody tr th:only-of-type {\n",
       "        vertical-align: middle;\n",
       "    }\n",
       "\n",
       "    .dataframe tbody tr th {\n",
       "        vertical-align: top;\n",
       "    }\n",
       "\n",
       "    .dataframe thead th {\n",
       "        text-align: right;\n",
       "    }\n",
       "</style>\n",
       "<table border=\"1\" class=\"dataframe\">\n",
       "  <thead>\n",
       "    <tr style=\"text-align: right;\">\n",
       "      <th></th>\n",
       "      <th>category</th>\n",
       "      <th>text</th>\n",
       "    </tr>\n",
       "  </thead>\n",
       "  <tbody>\n",
       "    <tr>\n",
       "      <th>0</th>\n",
       "      <td>tech</td>\n",
       "      <td>tv future in the hands of viewers with home th...</td>\n",
       "    </tr>\n",
       "    <tr>\n",
       "      <th>1</th>\n",
       "      <td>business</td>\n",
       "      <td>worldcom boss  left books alone  former worldc...</td>\n",
       "    </tr>\n",
       "    <tr>\n",
       "      <th>2</th>\n",
       "      <td>sport</td>\n",
       "      <td>tigers wary of farrell  gamble  leicester say ...</td>\n",
       "    </tr>\n",
       "    <tr>\n",
       "      <th>3</th>\n",
       "      <td>sport</td>\n",
       "      <td>yeading face newcastle in fa cup premiership s...</td>\n",
       "    </tr>\n",
       "    <tr>\n",
       "      <th>4</th>\n",
       "      <td>entertainment</td>\n",
       "      <td>ocean s twelve raids box office ocean s twelve...</td>\n",
       "    </tr>\n",
       "  </tbody>\n",
       "</table>\n",
       "</div>"
      ],
      "text/plain": [
       "        category                                               text\n",
       "0           tech  tv future in the hands of viewers with home th...\n",
       "1       business  worldcom boss  left books alone  former worldc...\n",
       "2          sport  tigers wary of farrell  gamble  leicester say ...\n",
       "3          sport  yeading face newcastle in fa cup premiership s...\n",
       "4  entertainment  ocean s twelve raids box office ocean s twelve..."
      ]
     },
     "execution_count": 9,
     "metadata": {
      "tags": []
     },
     "output_type": "execute_result"
    }
   ],
   "source": [
    "df= data[['category', 'text']]\n",
    "df.head()"
   ]
  },
  {
   "cell_type": "code",
   "execution_count": 0,
   "metadata": {
    "colab": {},
    "colab_type": "code",
    "id": "0gZZfja3RgRY"
   },
   "outputs": [],
   "source": [
    "X=df['text']\n",
    "y=df['category']"
   ]
  },
  {
   "cell_type": "markdown",
   "metadata": {
    "colab_type": "text",
    "id": "x2pV64L7RKXJ"
   },
   "source": [
    "Preprocessing class"
   ]
  },
  {
   "cell_type": "code",
   "execution_count": 11,
   "metadata": {
    "colab": {
     "base_uri": "https://localhost:8080/",
     "height": 69
    },
    "colab_type": "code",
    "id": "1sqyTmuuRM96",
    "outputId": "eba4221f-9630-45da-970f-682ffa9a9612"
   },
   "outputs": [
    {
     "name": "stdout",
     "output_type": "stream",
     "text": [
      "Found 29726 unique tokens.\n",
      "(2225, 100)\n",
      "2225\n"
     ]
    }
   ],
   "source": [
    "# Tokenize the data intto one hot vectors\n",
    "\n",
    "maxlen = 100\n",
    "training_samples = 200  \n",
    "validation_samples = 10000 \n",
    "max_words = 10000\n",
    "\n",
    "tokenizer = Tokenizer(num_words=max_words)\n",
    "tokenizer.fit_on_texts(X) \n",
    "sequences = tokenizer.texts_to_sequences(X)\n",
    "\n",
    "word_index = tokenizer.word_index\n",
    "print('Found %s unique tokens.' % len(word_index))\n",
    "\n",
    "data = pad_sequences(sequences, maxlen=maxlen) \n",
    "\n",
    "labels = np.asarray(pd.get_dummies(y))\n",
    "print(data.shape)\n",
    "print(len(y))"
   ]
  },
  {
   "cell_type": "markdown",
   "metadata": {
    "colab_type": "text",
    "id": "R7V4J135JYqe"
   },
   "source": [
    "### Split data"
   ]
  },
  {
   "cell_type": "code",
   "execution_count": 12,
   "metadata": {
    "colab": {
     "base_uri": "https://localhost:8080/",
     "height": 52
    },
    "colab_type": "code",
    "id": "SjP6J2DIJXlQ",
    "outputId": "bffff0e0-546c-428a-b170-f266c28acade"
   },
   "outputs": [
    {
     "name": "stdout",
     "output_type": "stream",
     "text": [
      "(1668, 100)\n",
      "(1668, 5)\n"
     ]
    }
   ],
   "source": [
    "X_train, X_test, y_train, y_test = train_test_split(data, labels, random_state=42)\n",
    "\n",
    "print(X_train.shape)\n",
    "print(y_train.shape)"
   ]
  },
  {
   "cell_type": "markdown",
   "metadata": {
    "colab_type": "text",
    "id": "pmPDmauYSPM1"
   },
   "source": [
    "**3) Use the data to fit separate models to each of the following architectures:**\n",
    "\n",
    "**A. A model with an embedding layer and dense layers (but w/ no layers meant for sequential data)**"
   ]
  },
  {
   "cell_type": "code",
   "execution_count": 13,
   "metadata": {
    "colab": {
     "base_uri": "https://localhost:8080/",
     "height": 1000
    },
    "colab_type": "code",
    "id": "YtlU9Z_0dFfi",
    "outputId": "9269c749-e049-4dff-f18c-7f656d719bd1"
   },
   "outputs": [
    {
     "name": "stdout",
     "output_type": "stream",
     "text": [
      "Model: \"sequential_1\"\n",
      "_________________________________________________________________\n",
      "Layer (type)                 Output Shape              Param #   \n",
      "=================================================================\n",
      "embedding_1 (Embedding)      (None, 100, 200)          2000000   \n",
      "_________________________________________________________________\n",
      "flatten_1 (Flatten)          (None, 20000)             0         \n",
      "_________________________________________________________________\n",
      "dense_1 (Dense)              (None, 200)               4000200   \n",
      "_________________________________________________________________\n",
      "dense_2 (Dense)              (None, 5)                 1005      \n",
      "=================================================================\n",
      "Total params: 6,001,205\n",
      "Trainable params: 6,001,205\n",
      "Non-trainable params: 0\n",
      "_________________________________________________________________\n"
     ]
    },
    {
     "name": "stderr",
     "output_type": "stream",
     "text": [
      "/usr/local/lib/python3.6/dist-packages/tensorflow/python/framework/indexed_slices.py:434: UserWarning: Converting sparse IndexedSlices to a dense Tensor of unknown shape. This may consume a large amount of memory.\n",
      "  \"Converting sparse IndexedSlices to a dense Tensor of unknown shape. \"\n"
     ]
    },
    {
     "name": "stdout",
     "output_type": "stream",
     "text": [
      "Train on 1334 samples, validate on 334 samples\n",
      "Epoch 1/20\n",
      "1334/1334 [==============================] - 0s 364us/step - loss: 1.6461 - acc: 0.2511 - val_loss: 1.5632 - val_acc: 0.3383\n",
      "Epoch 2/20\n",
      "1334/1334 [==============================] - 0s 106us/step - loss: 1.3209 - acc: 0.5420 - val_loss: 1.4575 - val_acc: 0.4281\n",
      "Epoch 3/20\n",
      "1334/1334 [==============================] - 0s 99us/step - loss: 0.9592 - acc: 0.9483 - val_loss: 1.2672 - val_acc: 0.6347\n",
      "Epoch 4/20\n",
      "1334/1334 [==============================] - 0s 95us/step - loss: 0.5763 - acc: 0.9933 - val_loss: 1.0612 - val_acc: 0.7126\n",
      "Epoch 5/20\n",
      "1334/1334 [==============================] - 0s 92us/step - loss: 0.2806 - acc: 0.9993 - val_loss: 0.8975 - val_acc: 0.7425\n",
      "Epoch 6/20\n",
      "1334/1334 [==============================] - 0s 94us/step - loss: 0.1283 - acc: 1.0000 - val_loss: 0.7731 - val_acc: 0.7904\n",
      "Epoch 7/20\n",
      "1334/1334 [==============================] - 0s 87us/step - loss: 0.0620 - acc: 1.0000 - val_loss: 0.6940 - val_acc: 0.7994\n",
      "Epoch 8/20\n",
      "1334/1334 [==============================] - 0s 83us/step - loss: 0.0360 - acc: 1.0000 - val_loss: 0.6481 - val_acc: 0.8024\n",
      "Epoch 9/20\n",
      "1334/1334 [==============================] - 0s 83us/step - loss: 0.0236 - acc: 1.0000 - val_loss: 0.6208 - val_acc: 0.8054\n",
      "Epoch 10/20\n",
      "1334/1334 [==============================] - 0s 85us/step - loss: 0.0176 - acc: 1.0000 - val_loss: 0.6042 - val_acc: 0.8084\n",
      "Epoch 11/20\n",
      "1334/1334 [==============================] - 0s 83us/step - loss: 0.0142 - acc: 1.0000 - val_loss: 0.5927 - val_acc: 0.8144\n",
      "Epoch 12/20\n",
      "1334/1334 [==============================] - 0s 86us/step - loss: 0.0121 - acc: 1.0000 - val_loss: 0.5835 - val_acc: 0.8144\n",
      "Epoch 13/20\n",
      "1334/1334 [==============================] - 0s 88us/step - loss: 0.0106 - acc: 1.0000 - val_loss: 0.5760 - val_acc: 0.8144\n",
      "Epoch 14/20\n",
      "1334/1334 [==============================] - 0s 91us/step - loss: 0.0094 - acc: 1.0000 - val_loss: 0.5696 - val_acc: 0.8144\n",
      "Epoch 15/20\n",
      "1334/1334 [==============================] - 0s 84us/step - loss: 0.0085 - acc: 1.0000 - val_loss: 0.5642 - val_acc: 0.8174\n",
      "Epoch 16/20\n",
      "1334/1334 [==============================] - 0s 84us/step - loss: 0.0078 - acc: 1.0000 - val_loss: 0.5592 - val_acc: 0.8174\n",
      "Epoch 17/20\n",
      "1334/1334 [==============================] - 0s 83us/step - loss: 0.0071 - acc: 1.0000 - val_loss: 0.5541 - val_acc: 0.8174\n",
      "Epoch 18/20\n",
      "1334/1334 [==============================] - 0s 86us/step - loss: 0.0066 - acc: 1.0000 - val_loss: 0.5495 - val_acc: 0.8174\n",
      "Epoch 19/20\n",
      "1334/1334 [==============================] - 0s 85us/step - loss: 0.0061 - acc: 1.0000 - val_loss: 0.5454 - val_acc: 0.8174\n",
      "Epoch 20/20\n",
      "1334/1334 [==============================] - 0s 84us/step - loss: 0.0057 - acc: 1.0000 - val_loss: 0.5417 - val_acc: 0.8174\n",
      "557/557 [==============================] - 0s 92us/step\n",
      "Test score: 0.6307635309452214\n",
      "Test accuracy: 0.7791741490364075\n"
     ]
    }
   ],
   "source": [
    "model = Sequential()\n",
    "model.add(Embedding(max_words, 200, input_length=maxlen))\n",
    "model.add(Flatten())\n",
    "\n",
    "model.add(Dense(200, activation=\"sigmoid\"))\n",
    "\n",
    "model.add(Dense(5, activation=\"softmax\"))\n",
    "model.compile(optimizer= \"adam\", loss=\"categorical_crossentropy\", metrics=[\"acc\"])\n",
    "model.summary()\n",
    "\n",
    "model.fit(X_train, y_train, \n",
    "                    epochs=20,\n",
    "                    batch_size=200,\n",
    "                    validation_split= 0.2)\n",
    "\n",
    "score, acc =model.evaluate(X_test, y_test)\n",
    "\n",
    "print('Test score:', score)\n",
    "print('Test accuracy:', acc)"
   ]
  },
  {
   "cell_type": "markdown",
   "metadata": {
    "colab_type": "text",
    "id": "VEUutDKYSSsX"
   },
   "source": [
    "**B. A model using an Embedding layer with Conv1d Layers**"
   ]
  },
  {
   "cell_type": "code",
   "execution_count": 15,
   "metadata": {
    "colab": {
     "base_uri": "https://localhost:8080/",
     "height": 1000
    },
    "colab_type": "code",
    "id": "1mOedwoiStAq",
    "outputId": "05dc628e-8eb7-476f-a7fa-545c64dfa6d7"
   },
   "outputs": [
    {
     "name": "stdout",
     "output_type": "stream",
     "text": [
      "Model: \"sequential_2\"\n",
      "_________________________________________________________________\n",
      "Layer (type)                 Output Shape              Param #   \n",
      "=================================================================\n",
      "embedding_2 (Embedding)      (None, 100, 200)          2000000   \n",
      "_________________________________________________________________\n",
      "conv1d_1 (Conv1D)            (None, 94, 200)           280200    \n",
      "_________________________________________________________________\n",
      "max_pooling1d_1 (MaxPooling1 (None, 18, 200)           0         \n",
      "_________________________________________________________________\n",
      "flatten_2 (Flatten)          (None, 3600)              0         \n",
      "_________________________________________________________________\n",
      "dense_3 (Dense)              (None, 200)               720200    \n",
      "_________________________________________________________________\n",
      "dense_4 (Dense)              (None, 5)                 1005      \n",
      "=================================================================\n",
      "Total params: 3,001,405\n",
      "Trainable params: 3,001,405\n",
      "Non-trainable params: 0\n",
      "_________________________________________________________________\n"
     ]
    },
    {
     "name": "stderr",
     "output_type": "stream",
     "text": [
      "/usr/local/lib/python3.6/dist-packages/tensorflow/python/framework/indexed_slices.py:434: UserWarning: Converting sparse IndexedSlices to a dense Tensor of unknown shape. This may consume a large amount of memory.\n",
      "  \"Converting sparse IndexedSlices to a dense Tensor of unknown shape. \"\n"
     ]
    },
    {
     "name": "stdout",
     "output_type": "stream",
     "text": [
      "Train on 1334 samples, validate on 334 samples\n",
      "Epoch 1/20\n",
      "1334/1334 [==============================] - 1s 960us/step - loss: 1.6294 - acc: 0.2099 - val_loss: 1.5878 - val_acc: 0.2455\n",
      "Epoch 2/20\n",
      "1334/1334 [==============================] - 0s 178us/step - loss: 1.5422 - acc: 0.3921 - val_loss: 1.5492 - val_acc: 0.4192\n",
      "Epoch 3/20\n",
      "1334/1334 [==============================] - 0s 175us/step - loss: 1.4013 - acc: 0.6672 - val_loss: 1.3902 - val_acc: 0.5749\n",
      "Epoch 4/20\n",
      "1334/1334 [==============================] - 0s 173us/step - loss: 1.0410 - acc: 0.8141 - val_loss: 1.0034 - val_acc: 0.7006\n",
      "Epoch 5/20\n",
      "1334/1334 [==============================] - 0s 171us/step - loss: 0.5721 - acc: 0.9363 - val_loss: 0.6301 - val_acc: 0.8383\n",
      "Epoch 6/20\n",
      "1334/1334 [==============================] - 0s 171us/step - loss: 0.2240 - acc: 0.9798 - val_loss: 0.4056 - val_acc: 0.8623\n",
      "Epoch 7/20\n",
      "1334/1334 [==============================] - 0s 177us/step - loss: 0.0674 - acc: 0.9955 - val_loss: 0.2936 - val_acc: 0.8862\n",
      "Epoch 8/20\n",
      "1334/1334 [==============================] - 0s 172us/step - loss: 0.0209 - acc: 1.0000 - val_loss: 0.2569 - val_acc: 0.9042\n",
      "Epoch 9/20\n",
      "1334/1334 [==============================] - 0s 172us/step - loss: 0.0091 - acc: 1.0000 - val_loss: 0.2811 - val_acc: 0.8952\n",
      "Epoch 10/20\n",
      "1334/1334 [==============================] - 0s 176us/step - loss: 0.0061 - acc: 1.0000 - val_loss: 0.2861 - val_acc: 0.8892\n",
      "Epoch 11/20\n",
      "1334/1334 [==============================] - 0s 178us/step - loss: 0.0045 - acc: 1.0000 - val_loss: 0.2688 - val_acc: 0.9042\n",
      "Epoch 12/20\n",
      "1334/1334 [==============================] - 0s 169us/step - loss: 0.0037 - acc: 1.0000 - val_loss: 0.2611 - val_acc: 0.9072\n",
      "Epoch 13/20\n",
      "1334/1334 [==============================] - 0s 171us/step - loss: 0.0032 - acc: 1.0000 - val_loss: 0.2613 - val_acc: 0.9102\n",
      "Epoch 14/20\n",
      "1334/1334 [==============================] - 0s 171us/step - loss: 0.0029 - acc: 1.0000 - val_loss: 0.2662 - val_acc: 0.9012\n",
      "Epoch 15/20\n",
      "1334/1334 [==============================] - 0s 171us/step - loss: 0.0027 - acc: 1.0000 - val_loss: 0.2710 - val_acc: 0.9012\n",
      "Epoch 16/20\n",
      "1334/1334 [==============================] - 0s 172us/step - loss: 0.0025 - acc: 1.0000 - val_loss: 0.2745 - val_acc: 0.9012\n",
      "Epoch 17/20\n",
      "1334/1334 [==============================] - 0s 174us/step - loss: 0.0023 - acc: 1.0000 - val_loss: 0.2763 - val_acc: 0.9042\n",
      "Epoch 18/20\n",
      "1334/1334 [==============================] - 0s 173us/step - loss: 0.0022 - acc: 1.0000 - val_loss: 0.2774 - val_acc: 0.9042\n",
      "Epoch 19/20\n",
      "1334/1334 [==============================] - 0s 170us/step - loss: 0.0021 - acc: 1.0000 - val_loss: 0.2772 - val_acc: 0.9042\n",
      "Epoch 20/20\n",
      "1334/1334 [==============================] - 0s 176us/step - loss: 0.0020 - acc: 1.0000 - val_loss: 0.2769 - val_acc: 0.8982\n",
      "557/557 [==============================] - 0s 171us/step\n",
      "Test score: 0.32324955027878177\n",
      "Test accuracy: 0.8904847502708435\n"
     ]
    }
   ],
   "source": [
    "model = Sequential()\n",
    "model.add(Embedding(max_words, 200, input_length=maxlen))\n",
    "model.add(Conv1D(200, 7, activation='relu'))\n",
    "model.add(MaxPooling1D(5))\n",
    "\n",
    "model.add(Flatten())\n",
    "\n",
    "model.add(Dense(200, activation=\"sigmoid\"))\n",
    "model.add(Dense(5, activation=\"softmax\"))\n",
    "model.compile(optimizer= \"adam\", loss=\"categorical_crossentropy\", metrics=[\"acc\"])\n",
    "model.summary()\n",
    "\n",
    "model.fit(X_train, y_train, \n",
    "                    epochs=20,\n",
    "                    batch_size=200,\n",
    "                    validation_split= 0.2)\n",
    "\n",
    "score, acc =model.evaluate(X_test, y_test)\n",
    "\n",
    "print('Test score:', score)\n",
    "print('Test accuracy:', acc)"
   ]
  },
  {
   "cell_type": "markdown",
   "metadata": {
    "colab_type": "text",
    "id": "Qn7hbmVRSUjy"
   },
   "source": [
    "**C. A model using an Embedding layer with one sequential layer (LSTM or GRU)**"
   ]
  },
  {
   "cell_type": "code",
   "execution_count": 16,
   "metadata": {
    "colab": {
     "base_uri": "https://localhost:8080/",
     "height": 1000
    },
    "colab_type": "code",
    "id": "6vif73HOStlb",
    "outputId": "2f236239-b6df-41da-fdfe-f4f5b0ec40d9"
   },
   "outputs": [
    {
     "name": "stdout",
     "output_type": "stream",
     "text": [
      "Model: \"sequential_3\"\n",
      "_________________________________________________________________\n",
      "Layer (type)                 Output Shape              Param #   \n",
      "=================================================================\n",
      "embedding_3 (Embedding)      (None, 100, 200)          2000000   \n",
      "_________________________________________________________________\n",
      "lstm_1 (LSTM)                (None, 200)               320800    \n",
      "_________________________________________________________________\n",
      "dense_5 (Dense)              (None, 200)               40200     \n",
      "_________________________________________________________________\n",
      "dense_6 (Dense)              (None, 5)                 1005      \n",
      "=================================================================\n",
      "Total params: 2,362,005\n",
      "Trainable params: 2,362,005\n",
      "Non-trainable params: 0\n",
      "_________________________________________________________________\n"
     ]
    },
    {
     "name": "stderr",
     "output_type": "stream",
     "text": [
      "/usr/local/lib/python3.6/dist-packages/tensorflow/python/framework/indexed_slices.py:434: UserWarning: Converting sparse IndexedSlices to a dense Tensor of unknown shape. This may consume a large amount of memory.\n",
      "  \"Converting sparse IndexedSlices to a dense Tensor of unknown shape. \"\n"
     ]
    },
    {
     "name": "stdout",
     "output_type": "stream",
     "text": [
      "Train on 1334 samples, validate on 334 samples\n",
      "Epoch 1/20\n",
      "1334/1334 [==============================] - 2s 2ms/step - loss: 1.6168 - acc: 0.2114 - val_loss: 1.5948 - val_acc: 0.2485\n",
      "Epoch 2/20\n",
      "1334/1334 [==============================] - 2s 1ms/step - loss: 1.5846 - acc: 0.2429 - val_loss: 1.4527 - val_acc: 0.2814\n",
      "Epoch 3/20\n",
      "1334/1334 [==============================] - 2s 1ms/step - loss: 1.3852 - acc: 0.3898 - val_loss: 1.3927 - val_acc: 0.4042\n",
      "Epoch 4/20\n",
      "1334/1334 [==============================] - 2s 1ms/step - loss: 1.2412 - acc: 0.4220 - val_loss: 1.3331 - val_acc: 0.4341\n",
      "Epoch 5/20\n",
      "1334/1334 [==============================] - 2s 1ms/step - loss: 1.1386 - acc: 0.4580 - val_loss: 1.1777 - val_acc: 0.4251\n",
      "Epoch 6/20\n",
      "1334/1334 [==============================] - 2s 1ms/step - loss: 1.1002 - acc: 0.4865 - val_loss: 1.1532 - val_acc: 0.6257\n",
      "Epoch 7/20\n",
      "1334/1334 [==============================] - 2s 1ms/step - loss: 0.9996 - acc: 0.6019 - val_loss: 0.9988 - val_acc: 0.5000\n",
      "Epoch 8/20\n",
      "1334/1334 [==============================] - 2s 1ms/step - loss: 0.8946 - acc: 0.6732 - val_loss: 0.8484 - val_acc: 0.7066\n",
      "Epoch 9/20\n",
      "1334/1334 [==============================] - 2s 1ms/step - loss: 0.6494 - acc: 0.8006 - val_loss: 0.7141 - val_acc: 0.7216\n",
      "Epoch 10/20\n",
      "1334/1334 [==============================] - 2s 1ms/step - loss: 0.4722 - acc: 0.8523 - val_loss: 0.6939 - val_acc: 0.6886\n",
      "Epoch 11/20\n",
      "1334/1334 [==============================] - 2s 1ms/step - loss: 0.4155 - acc: 0.8396 - val_loss: 0.8380 - val_acc: 0.6826\n",
      "Epoch 12/20\n",
      "1334/1334 [==============================] - 2s 1ms/step - loss: 0.2920 - acc: 0.9055 - val_loss: 0.5714 - val_acc: 0.7844\n",
      "Epoch 13/20\n",
      "1334/1334 [==============================] - 2s 1ms/step - loss: 0.1548 - acc: 0.9738 - val_loss: 0.5913 - val_acc: 0.8084\n",
      "Epoch 14/20\n",
      "1334/1334 [==============================] - 2s 1ms/step - loss: 0.1034 - acc: 0.9745 - val_loss: 0.4495 - val_acc: 0.8683\n",
      "Epoch 15/20\n",
      "1334/1334 [==============================] - 2s 1ms/step - loss: 0.0981 - acc: 0.9745 - val_loss: 0.4189 - val_acc: 0.8533\n",
      "Epoch 16/20\n",
      "1334/1334 [==============================] - 2s 1ms/step - loss: 0.0474 - acc: 0.9955 - val_loss: 0.3527 - val_acc: 0.8892\n",
      "Epoch 17/20\n",
      "1334/1334 [==============================] - 2s 1ms/step - loss: 0.0294 - acc: 0.9948 - val_loss: 0.4762 - val_acc: 0.8533\n",
      "Epoch 18/20\n",
      "1334/1334 [==============================] - 2s 1ms/step - loss: 0.0301 - acc: 0.9955 - val_loss: 0.4343 - val_acc: 0.8413\n",
      "Epoch 19/20\n",
      "1334/1334 [==============================] - 2s 1ms/step - loss: 0.0265 - acc: 0.9985 - val_loss: 0.3984 - val_acc: 0.8623\n",
      "Epoch 20/20\n",
      "1334/1334 [==============================] - 2s 1ms/step - loss: 0.0152 - acc: 0.9993 - val_loss: 0.4725 - val_acc: 0.8563\n",
      "557/557 [==============================] - 1s 913us/step\n",
      "Test score: 0.7169788649951107\n",
      "Test accuracy: 0.8114901185035706\n"
     ]
    }
   ],
   "source": [
    "model = Sequential()\n",
    "model.add(Embedding(max_words, 200, input_length=maxlen))\n",
    "model.add(LSTM(200))\n",
    "\n",
    "model.add(Dense(200, activation=\"sigmoid\"))\n",
    "model.add(Dense(5, activation=\"softmax\"))\n",
    "model.compile(optimizer= \"adam\", loss=\"categorical_crossentropy\", metrics=[\"acc\"])\n",
    "model.summary()\n",
    "\n",
    "model.fit(X_train, y_train, \n",
    "                    epochs=20,\n",
    "                    batch_size=200,\n",
    "                    validation_split= 0.2)\n",
    "                    \n",
    "score, acc =model.evaluate(X_test, y_test)\n",
    "print('Test score:', score)\n",
    "print('Test accuracy:', acc)"
   ]
  },
  {
   "cell_type": "markdown",
   "metadata": {
    "colab_type": "text",
    "id": "-kN7FQ9XSW0E"
   },
   "source": [
    "**D. A model using an Embedding layer with stacked sequential layers (LSTM or GRU)**"
   ]
  },
  {
   "cell_type": "code",
   "execution_count": 23,
   "metadata": {
    "colab": {
     "base_uri": "https://localhost:8080/",
     "height": 1000
    },
    "colab_type": "code",
    "id": "bAuKlw_AqEDu",
    "outputId": "84958036-2190-4c62-b71e-99cb791b618d"
   },
   "outputs": [
    {
     "name": "stdout",
     "output_type": "stream",
     "text": [
      "Model: \"sequential_9\"\n",
      "_________________________________________________________________\n",
      "Layer (type)                 Output Shape              Param #   \n",
      "=================================================================\n",
      "embedding_9 (Embedding)      (None, 100, 200)          2000000   \n",
      "_________________________________________________________________\n",
      "gru_3 (GRU)                  (None, 100, 200)          240600    \n",
      "_________________________________________________________________\n",
      "gru_4 (GRU)                  (None, 200)               240600    \n",
      "_________________________________________________________________\n",
      "dense_17 (Dense)             (None, 200)               40200     \n",
      "_________________________________________________________________\n",
      "dense_18 (Dense)             (None, 5)                 1005      \n",
      "=================================================================\n",
      "Total params: 2,522,405\n",
      "Trainable params: 2,522,405\n",
      "Non-trainable params: 0\n",
      "_________________________________________________________________\n"
     ]
    },
    {
     "name": "stderr",
     "output_type": "stream",
     "text": [
      "/usr/local/lib/python3.6/dist-packages/tensorflow/python/framework/indexed_slices.py:434: UserWarning: Converting sparse IndexedSlices to a dense Tensor of unknown shape. This may consume a large amount of memory.\n",
      "  \"Converting sparse IndexedSlices to a dense Tensor of unknown shape. \"\n"
     ]
    },
    {
     "name": "stdout",
     "output_type": "stream",
     "text": [
      "Train on 1334 samples, validate on 334 samples\n",
      "Epoch 1/20\n",
      "1334/1334 [==============================] - 5s 4ms/step - loss: 1.6600 - acc: 0.2286 - val_loss: 1.5938 - val_acc: 0.2275\n",
      "Epoch 2/20\n",
      "1334/1334 [==============================] - 5s 3ms/step - loss: 1.5931 - acc: 0.2256 - val_loss: 1.5903 - val_acc: 0.2365\n",
      "Epoch 3/20\n",
      "1334/1334 [==============================] - 5s 4ms/step - loss: 1.5070 - acc: 0.3253 - val_loss: 1.4556 - val_acc: 0.3892\n",
      "Epoch 4/20\n",
      "1334/1334 [==============================] - 5s 3ms/step - loss: 1.1470 - acc: 0.4618 - val_loss: 1.2839 - val_acc: 0.5240\n",
      "Epoch 5/20\n",
      "1334/1334 [==============================] - 5s 4ms/step - loss: 0.8014 - acc: 0.7654 - val_loss: 1.1005 - val_acc: 0.5808\n",
      "Epoch 6/20\n",
      "1334/1334 [==============================] - 5s 4ms/step - loss: 0.4913 - acc: 0.8741 - val_loss: 0.9984 - val_acc: 0.6707\n",
      "Epoch 7/20\n",
      "1334/1334 [==============================] - 5s 3ms/step - loss: 0.2318 - acc: 0.9498 - val_loss: 1.0423 - val_acc: 0.7006\n",
      "Epoch 8/20\n",
      "1334/1334 [==============================] - 5s 3ms/step - loss: 0.1197 - acc: 0.9708 - val_loss: 0.9459 - val_acc: 0.7395\n",
      "Epoch 9/20\n",
      "1334/1334 [==============================] - 5s 3ms/step - loss: 0.0547 - acc: 0.9940 - val_loss: 0.9336 - val_acc: 0.7545\n",
      "Epoch 10/20\n",
      "1334/1334 [==============================] - 5s 4ms/step - loss: 0.0309 - acc: 0.9940 - val_loss: 0.8542 - val_acc: 0.7784\n",
      "Epoch 11/20\n",
      "1334/1334 [==============================] - 5s 3ms/step - loss: 0.0195 - acc: 0.9978 - val_loss: 0.9889 - val_acc: 0.7575\n",
      "Epoch 12/20\n",
      "1334/1334 [==============================] - 5s 3ms/step - loss: 0.0111 - acc: 1.0000 - val_loss: 1.0152 - val_acc: 0.7665\n",
      "Epoch 13/20\n",
      "1334/1334 [==============================] - 5s 3ms/step - loss: 0.0085 - acc: 1.0000 - val_loss: 0.9278 - val_acc: 0.7874\n",
      "Epoch 14/20\n",
      "1334/1334 [==============================] - 5s 3ms/step - loss: 0.0066 - acc: 1.0000 - val_loss: 0.8926 - val_acc: 0.8024\n",
      "Epoch 15/20\n",
      "1334/1334 [==============================] - 5s 3ms/step - loss: 0.0066 - acc: 1.0000 - val_loss: 1.1425 - val_acc: 0.7395\n",
      "Epoch 16/20\n",
      "1334/1334 [==============================] - 5s 3ms/step - loss: 0.0214 - acc: 0.9940 - val_loss: 1.1529 - val_acc: 0.7515\n",
      "Epoch 17/20\n",
      "1334/1334 [==============================] - 5s 3ms/step - loss: 0.0154 - acc: 0.9978 - val_loss: 1.1238 - val_acc: 0.7335\n",
      "Epoch 18/20\n",
      "1334/1334 [==============================] - 5s 3ms/step - loss: 0.0086 - acc: 1.0000 - val_loss: 1.3148 - val_acc: 0.6796\n",
      "Epoch 19/20\n",
      "1334/1334 [==============================] - 5s 3ms/step - loss: 0.0069 - acc: 1.0000 - val_loss: 1.2681 - val_acc: 0.6826\n",
      "Epoch 20/20\n",
      "1334/1334 [==============================] - 4s 3ms/step - loss: 0.0055 - acc: 0.9993 - val_loss: 1.2081 - val_acc: 0.7126\n",
      "557/557 [==============================] - 1s 2ms/step\n",
      "Test score: 1.4265837292696886\n",
      "Test accuracy: 0.6983842253684998\n"
     ]
    }
   ],
   "source": [
    "model = Sequential()\n",
    "model.add(Embedding(max_words, 200, input_length=maxlen))\n",
    "model.add(GRU(200, return_sequences= True))\n",
    "model.add(GRU(200))\n",
    "\n",
    "\n",
    "model.add(Dense(200, activation=\"sigmoid\"))\n",
    "model.add(Dense(5, activation=\"softmax\"))\n",
    "model.compile(optimizer= \"adam\", loss=\"categorical_crossentropy\", metrics=[\"acc\"])\n",
    "model.summary()\n",
    "\n",
    "\n",
    "model.fit(X_train, y_train, \n",
    "                    epochs=20,\n",
    "                    batch_size=200,\n",
    "                    validation_split= 0.2)\n",
    "\n",
    "score, acc = model.evaluate(X_test, y_test)\n",
    "\n",
    "print('Test score:', score)\n",
    "print('Test accuracy:', acc)"
   ]
  },
  {
   "cell_type": "markdown",
   "metadata": {
    "colab_type": "text",
    "id": "AB1IeYooSZLs"
   },
   "source": [
    "**E. A model using an Embedding layer with bidirectional sequential layers**"
   ]
  },
  {
   "cell_type": "code",
   "execution_count": 18,
   "metadata": {
    "colab": {
     "base_uri": "https://localhost:8080/",
     "height": 1000
    },
    "colab_type": "code",
    "id": "sP82w6KrSvjn",
    "outputId": "e7650134-c054-41ad-f463-eedeff4421d9"
   },
   "outputs": [
    {
     "name": "stdout",
     "output_type": "stream",
     "text": [
      "Model: \"sequential_5\"\n",
      "_________________________________________________________________\n",
      "Layer (type)                 Output Shape              Param #   \n",
      "=================================================================\n",
      "embedding_5 (Embedding)      (None, 100, 200)          2000000   \n",
      "_________________________________________________________________\n",
      "bidirectional_1 (Bidirection (None, 400)               641600    \n",
      "_________________________________________________________________\n",
      "dense_9 (Dense)              (None, 200)               80200     \n",
      "_________________________________________________________________\n",
      "dense_10 (Dense)             (None, 5)                 1005      \n",
      "=================================================================\n",
      "Total params: 2,722,805\n",
      "Trainable params: 2,722,805\n",
      "Non-trainable params: 0\n",
      "_________________________________________________________________\n"
     ]
    },
    {
     "name": "stderr",
     "output_type": "stream",
     "text": [
      "/usr/local/lib/python3.6/dist-packages/tensorflow/python/framework/indexed_slices.py:434: UserWarning: Converting sparse IndexedSlices to a dense Tensor of unknown shape. This may consume a large amount of memory.\n",
      "  \"Converting sparse IndexedSlices to a dense Tensor of unknown shape. \"\n"
     ]
    },
    {
     "name": "stdout",
     "output_type": "stream",
     "text": [
      "Train on 1334 samples, validate on 334 samples\n",
      "Epoch 1/20\n",
      "1334/1334 [==============================] - 4s 3ms/step - loss: 1.8060 - acc: 0.1784 - val_loss: 1.5978 - val_acc: 0.2455\n",
      "Epoch 2/20\n",
      "1334/1334 [==============================] - 4s 3ms/step - loss: 1.5992 - acc: 0.2421 - val_loss: 1.5768 - val_acc: 0.3683\n",
      "Epoch 3/20\n",
      "1334/1334 [==============================] - 4s 3ms/step - loss: 1.5421 - acc: 0.2856 - val_loss: 1.4591 - val_acc: 0.2784\n",
      "Epoch 4/20\n",
      "1334/1334 [==============================] - 4s 3ms/step - loss: 1.2267 - acc: 0.4153 - val_loss: 1.2188 - val_acc: 0.4311\n",
      "Epoch 5/20\n",
      "1334/1334 [==============================] - 4s 3ms/step - loss: 0.9909 - acc: 0.5585 - val_loss: 0.8779 - val_acc: 0.6108\n",
      "Epoch 6/20\n",
      "1334/1334 [==============================] - 4s 3ms/step - loss: 0.7469 - acc: 0.7039 - val_loss: 1.1477 - val_acc: 0.6677\n",
      "Epoch 7/20\n",
      "1334/1334 [==============================] - 3s 3ms/step - loss: 0.8132 - acc: 0.7196 - val_loss: 1.1085 - val_acc: 0.6138\n",
      "Epoch 8/20\n",
      "1334/1334 [==============================] - 4s 3ms/step - loss: 0.8310 - acc: 0.7016 - val_loss: 1.2364 - val_acc: 0.5030\n",
      "Epoch 9/20\n",
      "1334/1334 [==============================] - 4s 3ms/step - loss: 0.8470 - acc: 0.5975 - val_loss: 1.1607 - val_acc: 0.4431\n",
      "Epoch 10/20\n",
      "1334/1334 [==============================] - 4s 3ms/step - loss: 0.7631 - acc: 0.6312 - val_loss: 1.0339 - val_acc: 0.6617\n",
      "Epoch 11/20\n",
      "1334/1334 [==============================] - 4s 3ms/step - loss: 0.6639 - acc: 0.7564 - val_loss: 0.8960 - val_acc: 0.6557\n",
      "Epoch 12/20\n",
      "1334/1334 [==============================] - 4s 3ms/step - loss: 0.5078 - acc: 0.8291 - val_loss: 0.7450 - val_acc: 0.7096\n",
      "Epoch 13/20\n",
      "1334/1334 [==============================] - 4s 3ms/step - loss: 0.3656 - acc: 0.8733 - val_loss: 0.6449 - val_acc: 0.7725\n",
      "Epoch 14/20\n",
      "1334/1334 [==============================] - 4s 3ms/step - loss: 0.2797 - acc: 0.9348 - val_loss: 0.6692 - val_acc: 0.7425\n",
      "Epoch 15/20\n",
      "1334/1334 [==============================] - 4s 3ms/step - loss: 0.1940 - acc: 0.9625 - val_loss: 0.4827 - val_acc: 0.8263\n",
      "Epoch 16/20\n",
      "1334/1334 [==============================] - 4s 3ms/step - loss: 0.0892 - acc: 0.9858 - val_loss: 0.4651 - val_acc: 0.8503\n",
      "Epoch 17/20\n",
      "1334/1334 [==============================] - 4s 3ms/step - loss: 0.0532 - acc: 0.9910 - val_loss: 0.4785 - val_acc: 0.8323\n",
      "Epoch 18/20\n",
      "1334/1334 [==============================] - 4s 3ms/step - loss: 0.0730 - acc: 0.9783 - val_loss: 0.4034 - val_acc: 0.8533\n",
      "Epoch 19/20\n",
      "1334/1334 [==============================] - 4s 3ms/step - loss: 0.0609 - acc: 0.9948 - val_loss: 0.4809 - val_acc: 0.8323\n",
      "Epoch 20/20\n",
      "1334/1334 [==============================] - 3s 3ms/step - loss: 0.0392 - acc: 0.9985 - val_loss: 0.4477 - val_acc: 0.8413\n",
      "557/557 [==============================] - 1s 1ms/step\n",
      "Test score: 0.6074476411141442\n",
      "Test accuracy: 0.8204667568206787\n"
     ]
    }
   ],
   "source": [
    "model = Sequential()\n",
    "model.add(Embedding(max_words, 200, input_length=maxlen))\n",
    "model.add(Bidirectional(LSTM(200)))\n",
    "\n",
    "model.add(Dense(200, activation=\"sigmoid\"))\n",
    "model.add(Dense(5, activation=\"softmax\"))\n",
    "model.compile(optimizer= \"adam\", loss=\"categorical_crossentropy\", metrics=[\"acc\"])\n",
    "model.summary()\n",
    "\n",
    "model.fit(X_train, y_train, \n",
    "                    epochs=20,\n",
    "                    batch_size=200,\n",
    "                    validation_split= 0.2)\n",
    "\n",
    "score, acc = model.evaluate(X_test, y_test)\n",
    "\n",
    "print('Test score:', score)\n",
    "print('Test accuracy:', acc)"
   ]
  },
  {
   "cell_type": "markdown",
   "metadata": {
    "colab_type": "text",
    "id": "Ps-7OEslSbZ7"
   },
   "source": [
    "**F. Now retrain your best model from C, D, and E using dropout (you may need to increase epochs!).**"
   ]
  },
  {
   "cell_type": "markdown",
   "metadata": {
    "colab_type": "text",
    "id": "rT4mr9Arsfje"
   },
   "source": [
    "E + DROPOUT + EPOCHS"
   ]
  },
  {
   "cell_type": "code",
   "execution_count": 26,
   "metadata": {
    "colab": {
     "base_uri": "https://localhost:8080/",
     "height": 1000
    },
    "colab_type": "code",
    "id": "iVByw4i2sjLu",
    "outputId": "ea1e924c-49c9-47e9-9fb8-7838db7acf4b"
   },
   "outputs": [
    {
     "name": "stdout",
     "output_type": "stream",
     "text": [
      "Model: \"sequential_12\"\n",
      "_________________________________________________________________\n",
      "Layer (type)                 Output Shape              Param #   \n",
      "=================================================================\n",
      "embedding_12 (Embedding)     (None, 100, 200)          2000000   \n",
      "_________________________________________________________________\n",
      "bidirectional_4 (Bidirection (None, 400)               641600    \n",
      "_________________________________________________________________\n",
      "dense_23 (Dense)             (None, 200)               80200     \n",
      "_________________________________________________________________\n",
      "dense_24 (Dense)             (None, 5)                 1005      \n",
      "=================================================================\n",
      "Total params: 2,722,805\n",
      "Trainable params: 2,722,805\n",
      "Non-trainable params: 0\n",
      "_________________________________________________________________\n"
     ]
    },
    {
     "name": "stderr",
     "output_type": "stream",
     "text": [
      "/usr/local/lib/python3.6/dist-packages/tensorflow/python/framework/indexed_slices.py:434: UserWarning: Converting sparse IndexedSlices to a dense Tensor of unknown shape. This may consume a large amount of memory.\n",
      "  \"Converting sparse IndexedSlices to a dense Tensor of unknown shape. \"\n"
     ]
    },
    {
     "name": "stdout",
     "output_type": "stream",
     "text": [
      "Train on 1334 samples, validate on 334 samples\n",
      "Epoch 1/30\n",
      "1334/1334 [==============================] - 5s 4ms/step - loss: 1.6698 - acc: 0.1972 - val_loss: 1.6189 - val_acc: 0.2216\n",
      "Epoch 2/30\n",
      "1334/1334 [==============================] - 4s 3ms/step - loss: 1.6197 - acc: 0.2406 - val_loss: 1.5890 - val_acc: 0.2455\n",
      "Epoch 3/30\n",
      "1334/1334 [==============================] - 4s 3ms/step - loss: 1.5599 - acc: 0.2616 - val_loss: 1.4353 - val_acc: 0.4371\n",
      "Epoch 4/30\n",
      "1334/1334 [==============================] - 4s 3ms/step - loss: 1.3216 - acc: 0.4333 - val_loss: 1.2887 - val_acc: 0.4401\n",
      "Epoch 5/30\n",
      "1334/1334 [==============================] - 4s 3ms/step - loss: 1.1511 - acc: 0.5862 - val_loss: 1.0819 - val_acc: 0.5749\n",
      "Epoch 6/30\n",
      "1334/1334 [==============================] - 4s 3ms/step - loss: 0.8135 - acc: 0.6957 - val_loss: 0.8604 - val_acc: 0.6647\n",
      "Epoch 7/30\n",
      "1334/1334 [==============================] - 4s 3ms/step - loss: 0.5271 - acc: 0.8418 - val_loss: 0.7393 - val_acc: 0.7455\n",
      "Epoch 8/30\n",
      "1334/1334 [==============================] - 4s 3ms/step - loss: 0.3350 - acc: 0.9168 - val_loss: 0.4163 - val_acc: 0.8832\n",
      "Epoch 9/30\n",
      "1334/1334 [==============================] - 4s 3ms/step - loss: 0.1723 - acc: 0.9625 - val_loss: 0.5130 - val_acc: 0.8623\n",
      "Epoch 10/30\n",
      "1334/1334 [==============================] - 4s 3ms/step - loss: 0.1056 - acc: 0.9753 - val_loss: 0.4387 - val_acc: 0.8892\n",
      "Epoch 11/30\n",
      "1334/1334 [==============================] - 4s 3ms/step - loss: 0.1008 - acc: 0.9775 - val_loss: 0.4645 - val_acc: 0.8802\n",
      "Epoch 12/30\n",
      "1334/1334 [==============================] - 4s 3ms/step - loss: 0.0791 - acc: 0.9858 - val_loss: 0.4984 - val_acc: 0.8802\n",
      "Epoch 13/30\n",
      "1334/1334 [==============================] - 4s 3ms/step - loss: 0.1890 - acc: 0.9700 - val_loss: 0.5838 - val_acc: 0.7964\n",
      "Epoch 14/30\n",
      "1334/1334 [==============================] - 4s 3ms/step - loss: 0.1105 - acc: 0.9798 - val_loss: 0.7032 - val_acc: 0.8114\n",
      "Epoch 15/30\n",
      "1334/1334 [==============================] - 4s 3ms/step - loss: 0.1388 - acc: 0.9678 - val_loss: 1.2665 - val_acc: 0.7545\n",
      "Epoch 16/30\n",
      "1334/1334 [==============================] - 4s 3ms/step - loss: 0.4646 - acc: 0.8306 - val_loss: 1.2785 - val_acc: 0.6617\n",
      "Epoch 17/30\n",
      "1334/1334 [==============================] - 4s 3ms/step - loss: 0.3898 - acc: 0.8186 - val_loss: 1.1685 - val_acc: 0.7126\n",
      "Epoch 18/30\n",
      "1334/1334 [==============================] - 4s 3ms/step - loss: 0.3664 - acc: 0.8456 - val_loss: 0.9963 - val_acc: 0.7066\n",
      "Epoch 19/30\n",
      "1334/1334 [==============================] - 4s 3ms/step - loss: 0.3358 - acc: 0.8771 - val_loss: 0.8489 - val_acc: 0.7605\n",
      "Epoch 20/30\n",
      "1334/1334 [==============================] - 4s 3ms/step - loss: 0.2196 - acc: 0.9355 - val_loss: 0.6945 - val_acc: 0.8024\n",
      "Epoch 21/30\n",
      "1334/1334 [==============================] - 4s 3ms/step - loss: 0.1457 - acc: 0.9625 - val_loss: 1.0358 - val_acc: 0.7695\n",
      "Epoch 22/30\n",
      "1334/1334 [==============================] - 4s 3ms/step - loss: 0.1247 - acc: 0.9768 - val_loss: 0.8901 - val_acc: 0.8323\n",
      "Epoch 23/30\n",
      "1334/1334 [==============================] - 4s 3ms/step - loss: 0.0698 - acc: 0.9873 - val_loss: 0.6211 - val_acc: 0.8563\n",
      "Epoch 24/30\n",
      "1334/1334 [==============================] - 4s 3ms/step - loss: 0.0429 - acc: 0.9948 - val_loss: 0.4922 - val_acc: 0.8862\n",
      "Epoch 25/30\n",
      "1334/1334 [==============================] - 4s 3ms/step - loss: 0.0345 - acc: 0.9963 - val_loss: 0.4722 - val_acc: 0.8922\n",
      "Epoch 26/30\n",
      "1334/1334 [==============================] - 4s 3ms/step - loss: 0.0230 - acc: 0.9970 - val_loss: 0.5945 - val_acc: 0.8772\n",
      "Epoch 27/30\n",
      "1334/1334 [==============================] - 4s 3ms/step - loss: 0.0327 - acc: 0.9955 - val_loss: 0.7413 - val_acc: 0.8623\n",
      "Epoch 28/30\n",
      "1334/1334 [==============================] - 4s 3ms/step - loss: 0.0405 - acc: 0.9940 - val_loss: 0.8634 - val_acc: 0.8473\n",
      "Epoch 29/30\n",
      "1334/1334 [==============================] - 4s 3ms/step - loss: 0.0597 - acc: 0.9903 - val_loss: 0.8561 - val_acc: 0.8473\n",
      "Epoch 30/30\n",
      "1334/1334 [==============================] - 4s 3ms/step - loss: 0.0499 - acc: 0.9918 - val_loss: 0.7476 - val_acc: 0.8653\n",
      "557/557 [==============================] - 1s 1ms/step\n",
      "Test score: 0.6418340739056709\n",
      "Test accuracy: 0.8689407706260681\n"
     ]
    }
   ],
   "source": [
    "model = Sequential()\n",
    "model.add(Embedding(max_words, 200, input_length=maxlen))\n",
    "model.add(Bidirectional(LSTM(200, dropout=0.15)))\n",
    "\n",
    "model.add(Dense(200, activation=\"sigmoid\"))\n",
    "model.add(Dense(5, activation=\"softmax\"))\n",
    "model.compile(optimizer= \"adam\", loss=\"categorical_crossentropy\", metrics=[\"acc\"])\n",
    "model.summary()\n",
    "\n",
    "model.fit(X_train, y_train, \n",
    "                    epochs=30,\n",
    "                    batch_size=200,\n",
    "                    validation_split= 0.2)\n",
    "\n",
    "score, acc = model.evaluate(X_test, y_test)\n",
    "\n",
    "print('Test score:', score)\n",
    "print('Test accuracy:', acc)"
   ]
  },
  {
   "cell_type": "markdown",
   "metadata": {
    "colab_type": "text",
    "id": "KUSYqtLxSdrI"
   },
   "source": [
    "**4) Discuss**"
   ]
  },
  {
   "cell_type": "markdown",
   "metadata": {
    "colab_type": "text",
    "id": "AMJoF39KvHuk"
   },
   "source": [
    "**a) Which model(s) performed best**"
   ]
  },
  {
   "cell_type": "markdown",
   "metadata": {
    "colab_type": "text",
    "id": "KjSIIsYsvP10"
   },
   "source": [
    "Out of the three sequential models explore in this analysis the one with the best results was the bidirectional model, as would be expected since in such cases words are also read in the opposite direction. The same structure was followed when adding dropout of 0.15, while compensating its possible on overfitting by adding more epochs to our model (from 20 to 30).\n",
    "\n",
    "\n",
    "The next best model included a single sequential layer (LSTM) and a dense layer of 200 neurons. In contrast, the second most complicated model, stacked sequential layers (using GRUs) performed much more poorly. Which leads me to believe LSTM is better GRU in this particular case.\n",
    "\n",
    "\n"
   ]
  },
  {
   "cell_type": "markdown",
   "metadata": {
    "colab_type": "text",
    "id": "xVsnc2-lvCWx"
   },
   "source": [
    "**b) how you might try to further improve the predictive power of your model (e.g. Glove embeddings? More layers? Combining Conv1D with LSTM layers? More LSTM hidden nodes?)**"
   ]
  },
  {
   "cell_type": "markdown",
   "metadata": {
    "colab_type": "text",
    "id": "Rh5X5mjlvTAN"
   },
   "source": [
    "With regards to the embedding I would like to include pre-trained embeddings such as Glove and BagofWords, as their training is probabily more precise. I would also like to include more epochs and layer to my models, as well as to play with the dropout possibilites. In particular, dropout monitoring loss. \n",
    "And one combination that might give me more input on the effect of using GRU vs. LSTM would be to use staked LSTM layers."
   ]
  },
  {
   "cell_type": "markdown",
   "metadata": {
    "colab_type": "text",
    "id": "Q3G5xW8Zu96S"
   },
   "source": [
    "**Repo link:** https://github.com/cecicabello/HW3"
   ]
  }
 ],
 "metadata": {
  "accelerator": "GPU",
  "colab": {
   "name": "HW3.ipynb",
   "provenance": []
  },
  "kernelspec": {
   "display_name": "Python 3",
   "language": "python",
   "name": "python3"
  },
  "language_info": {
   "codemirror_mode": {
    "name": "ipython",
    "version": 3
   },
   "file_extension": ".py",
   "mimetype": "text/x-python",
   "name": "python",
   "nbconvert_exporter": "python",
   "pygments_lexer": "ipython3",
   "version": "3.7.4"
  }
 },
 "nbformat": 4,
 "nbformat_minor": 1
}
